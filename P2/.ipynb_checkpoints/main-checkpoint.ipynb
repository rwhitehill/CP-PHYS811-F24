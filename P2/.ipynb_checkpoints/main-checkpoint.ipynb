{
 "cells": [
  {
   "cell_type": "code",
   "execution_count": 1,
   "id": "a6ce24d2-e41b-4f82-a63a-3284fbe7a3bb",
   "metadata": {},
   "outputs": [],
   "source": [
    "import numpy as np\n",
    "# from scipy.interpolate import interp1d\n",
    "# from scipy.optimize import bisect\n",
    "# from tqdm.notebook import tqdm,trange\n",
    "\n",
    "\n",
    "import matplotlib.pyplot as plt\n",
    "plt.rcParams.update({\n",
    "    'text.latex.preamble': r'\\usepackage{amsmath}',\n",
    "    'text.usetex': True,\n",
    "    'font.family': 'sans-serif',\n",
    "    'font.sans-serif': ['Helvetica']\n",
    "})"
   ]
  },
  {
   "cell_type": "markdown",
   "id": "23993899-488a-4b36-a875-07f57e06e6a7",
   "metadata": {},
   "source": [
    "# Setup"
   ]
  },
  {
   "cell_type": "code",
   "execution_count": 2,
   "id": "b02c01b0-8fa9-482f-8cd9-6fb63cc7cfdd",
   "metadata": {},
   "outputs": [],
   "source": [
    "def step_Euler(func,t0,q0,h):\n",
    "    t1 = t0 + h\n",
    "    q1 = q0 + h*func(q0,t0)\n",
    "    return t1,q1,h"
   ]
  },
  {
   "cell_type": "code",
   "execution_count": 3,
   "id": "2a57ddd5-2ef1-4e06-a9fc-da2d1d24ea4f",
   "metadata": {},
   "outputs": [],
   "source": [
    "def step_RKF45(func,t0,q0,h,tol,adaptive=True):\n",
    "    A = np.array([\n",
    "        [0,0,0,0,0,0],\n",
    "        [1/4,0,0,0,0,0],\n",
    "        [3/32,9/32,0,0,0,0],\n",
    "        [1932/2197,-7200/2197,7296/2197,0,0,0],\n",
    "        [439/216,-8,3680/513,-845/4104,0,0],\n",
    "        [-8/27,2,-3544/2565,1859/4104,-11/40,0]\n",
    "    ])\n",
    "    B = np.array([0,1/4,3/8,12/13,1,1/2])\n",
    "    \n",
    "    K   = np.zeros((6,q0.shape[0]))\n",
    "    for i in range(6):\n",
    "        K[i] = h*func(q0+np.einsum('i,ij',A[i],K),t0+B[i]*h)\n",
    "    \n",
    "    t1  = t0 + h\n",
    "    C   = np.array([16/135,0,6656/12825,28561/56430,-9/50,2/55])\n",
    "    q1  = q0 + np.einsum('i,ij',C,K)\n",
    "    \n",
    "    D   = np.array([1/360,0,-128/4275,-2197/75240,1/50,2/55])\n",
    "    err = np.abs(max(np.einsum('i,ij',D,K) + 1e-100)) # possibly change\n",
    "    \n",
    "    if err < tol or not adaptive:\n",
    "        if adaptive:\n",
    "            h1 = min(0.9*h*(tol/err)**(1/6),2*h)\n",
    "        else:\n",
    "            h1 = h\n",
    "        return t1,q1,h1\n",
    "    else:\n",
    "        h1 = min(0.9*h*(tol/err)**(1/6),h/2)\n",
    "        return step_RKF45(func,t0,q0,h1,tol)"
   ]
  },
  {
   "cell_type": "code",
   "execution_count": 4,
   "id": "a1c0438d-0892-4c11-be28-0705825bcaed",
   "metadata": {},
   "outputs": [],
   "source": [
    "def solve_ODE(func,t0,q0,h,stop=lambda t_res,q_res: False,tol=1e-4,method='RKF45',max_iter=int(1e3),adaptive=True):\n",
    "    if method == 'RKF45':\n",
    "        step_func = lambda t0_,q0_,h_: step_RKF45(func,t0_,q0_,h_,tol,adaptive)\n",
    "    elif method == 'modified Euler':\n",
    "        step_func = lambda t0_,q0_,h_: step_mod_Euler(func,t0_,q0_,h_)\n",
    "    elif method == 'Euler':\n",
    "        step_func = lambda t0_,q0_,h_: step_Euler(func,t0_,q0_,h_)\n",
    "    \n",
    "    t_results = [t0]\n",
    "    q_results = [q0]\n",
    "    for i in range(max_iter):\n",
    "        t1,q1,h = step_func(t_results[-1],q_results[-1],h)\n",
    "        t_results.append(t1)\n",
    "        q_results.append(q1)\n",
    "        \n",
    "        if stop(t_results,q_results):\n",
    "            break\n",
    "            \n",
    "    return np.array(t_results),np.array(q_results)"
   ]
  },
  {
   "cell_type": "code",
   "execution_count": 5,
   "id": "4317ebe6-4993-4ffd-8714-ff17863b7793",
   "metadata": {},
   "outputs": [],
   "source": [
    "# x  = np.linspace(1,10,1000)\n",
    "# F_ = np.array([F_coulomb(np.array([_,0]),np.array([0,0])) for _ in x])\n",
    "\n",
    "# plt.plot(x,F_.T[0])\n",
    "# plt.show()"
   ]
  },
  {
   "cell_type": "code",
   "execution_count": 58,
   "id": "154868db-f991-4674-a7fe-e6506dd3965d",
   "metadata": {},
   "outputs": [],
   "source": [
    "def F_coulomb(x1,x2,Z1=1,Z2=1):\n",
    "    k = 8.9875517923e9\n",
    "    return Z1*Z2*(x1 - x2)/np.sum((x1 - x2)**2)**(3/2)"
   ]
  },
  {
   "cell_type": "markdown",
   "id": "3e336912-8d11-4528-adf4-eff10fa2d06a",
   "metadata": {},
   "source": [
    "# Part 1 -- fixed target at origin"
   ]
  },
  {
   "cell_type": "code",
   "execution_count": 59,
   "id": "58dc1d2c-9259-4f24-b1bb-872b2ebebbc9",
   "metadata": {},
   "outputs": [],
   "source": [
    "def f(q,t,m1=1,Z1=1,Z2=2):\n",
    "    return np.array([*q[2:],*F_coulomb(q[:2],np.array([0,0]),Z1,Z2)/m1])"
   ]
  },
  {
   "cell_type": "markdown",
   "id": "6a546d4f-715b-44f0-b7b8-61eea283eb59",
   "metadata": {},
   "source": [
    "### Test"
   ]
  },
  {
   "cell_type": "code",
   "execution_count": 60,
   "id": "93c73959-d5a6-4485-88e1-fdaa9f37f6a9",
   "metadata": {},
   "outputs": [],
   "source": [
    "x0 = -50\n",
    "b  = 1\n",
    "v0 = 1\n",
    "q0 = np.array([x0,b,v0,0])\n",
    "\n",
    "t0 = 0\n",
    "tf = 10\n",
    "N = 100\n",
    "h = (tf - t0)/N\n",
    "\n",
    "def stop(t_res,q_res,atol=1e-6,rtol=1e-6):\n",
    "    th_p  = np.arctan(q_res[-2][3]/q_res[-2][2])\n",
    "    th_c  = np.arctan(q_res[-1][3]/q_res[-1][2])\n",
    "    cond1 = np.abs(th_p - th_c) < atol or np.abs(1 - th_c/(th_p + 1e-100)) < rtol\n",
    "    cond2 = np.sum(q_res[-1][:2]**2) - np.sum(q_res[0][:2]**2) > 0\n",
    "    \n",
    "    return cond1 and cond2"
   ]
  },
  {
   "cell_type": "code",
   "execution_count": 61,
   "id": "5f6d02c9-5005-44be-8972-fa5b9ffe113a",
   "metadata": {},
   "outputs": [],
   "source": [
    "t,q = solve_ODE(f,t0,q0,h,stop,method='Euler',tol=1e-10,adaptive=True)    \n",
    "x,y,vx,vy = q.T"
   ]
  },
  {
   "cell_type": "code",
   "execution_count": 62,
   "id": "c86250ef-40a3-421d-a16b-a07ce4de4fb1",
   "metadata": {},
   "outputs": [
    {
     "data": {
      "image/png": "[encoded data removed]",
      "text/plain": [
       "<Figure size 432x288 with 1 Axes>"
      ]
     },
     "metadata": {
      "needs_background": "light"
     },
     "output_type": "display_data"
    }
   ],
   "source": [
    "plt.plot(x,y)\n",
    "plt.plot([0],[0],color='k',marker='o')\n",
    "plt.show()"
   ]
  },
  {
   "cell_type": "markdown",
   "id": "fca2d1a2-c2b7-42a5-a729-33007c9785a3",
   "metadata": {},
   "source": [
    "### calculate $b(\\theta)$"
   ]
  },
  {
   "cell_type": "code",
   "execution_count": 63,
   "id": "d4475ce9-a8bf-4343-a076-0ed28d48e123",
   "metadata": {},
   "outputs": [],
   "source": [
    "b = np.linspace(0.1,10,100)\n",
    "q_results = np.zeros((b.shape[0],4))\n",
    "for i in range(b.shape[0]):\n",
    "    q0 = np.array([x0,b[i],v0,0])\n",
    "    t,q = solve_ODE(f,t0,q0,h,stop,method='RKF45',tol=1e-10,adaptive=True)\n",
    "    q_results[i] = q[-1]\n",
    "    \n",
    "#     x,y,vx,vy = q.T\n",
    "#     plt.plot(x,y)\n",
    "# plt.show()\n",
    "\n",
    "theta = np.arctan2(q_results[:,3],q_results[:,2])"
   ]
  },
  {
   "cell_type": "code",
   "execution_count": 71,
   "id": "7a6629d7-6e77-4c7e-a097-390497b72c11",
   "metadata": {},
   "outputs": [
    {
     "data": {
      "image/png": "[encoded data removed]",
      "text/plain": [
       "<Figure size 504x360 with 1 Axes>"
      ]
     },
     "metadata": {
      "needs_background": "light"
     },
     "output_type": "display_data"
    }
   ],
   "source": [
    "nrows,ncols = 1,1\n",
    "fig,ax = plt.subplots(nrows=1,ncols=1,figsize=(7*ncols,5*nrows))\n",
    "\n",
    "ax.plot(b,theta,ls='None',marker='o',color='b',alpha=0.5)\n",
    "\n",
    "ax.set_xlabel(r'$b$',size=30)\n",
    "ax.set_ylabel(r'$\\theta$',size=30)\n",
    "ax.tick_params(axis='both',which='major',direction='in',labelsize=20)\n",
    "\n",
    "exact = 2*np.arctan(Z1*Z2/b/m1/v0**2)\n",
    "ax.plot(b,exact,'k-')\n",
    "\n",
    "\n",
    "plt.show()"
   ]
  },
  {
   "cell_type": "code",
   "execution_count": 21,
   "id": "95dad757-9f45-42bd-b4c7-200e78380abf",
   "metadata": {},
   "outputs": [],
   "source": [
    "def get_derivative(x,y):\n",
    "    temp = (y[1:] - y[:-1])/(x[1:] - x[:-1])\n",
    "    temp = np.append(temp,temp[-1])\n",
    "    return temp"
   ]
  },
  {
   "cell_type": "code",
   "execution_count": 22,
   "id": "48a29153-119d-42db-a3d6-1403e327f7c3",
   "metadata": {},
   "outputs": [
    {
     "data": {
      "image/png": "[encoded data removed]",
      "text/plain": [
       "<Figure size 504x360 with 1 Axes>"
      ]
     },
     "metadata": {
      "needs_background": "light"
     },
     "output_type": "display_data"
    }
   ],
   "source": [
    "nrows,ncols = 1,1\n",
    "fig,ax = plt.subplots(nrows=1,ncols=1,figsize=(7*ncols,5*nrows))\n",
    "\n",
    "dsig = b/np.sin(theta)/np.abs(get_derivative(b,theta))\n",
    "ax.plot(theta/np.pi,dsig,ls='None',marker='o',color='b',alpha=0.5)\n",
    "\n",
    "ax.set_xlabel(r'$\\theta/\\pi$',size=30)\n",
    "ax.set_ylabel(r'${\\rm d} \\sigma / {\\rm d} \\Omega$',size=30)\n",
    "ax.tick_params(axis='both',which='major',direction='in',labelsize=20)\n",
    "ax.semilogy()\n",
    "\n",
    "Z1,Z2 = 1,1\n",
    "m1    = 1\n",
    "exact = (Z1*Z2/4/(m1*v0**2/2)/np.sin(theta/2)**2)**2\n",
    "plt.plot(theta/np.pi,exact,'k-')\n",
    "\n",
    "\n",
    "plt.show()"
   ]
  },
  {
   "cell_type": "markdown",
   "id": "ed775f3e-8ac8-44e5-89b9-7bf5c9a5cf82",
   "metadata": {},
   "source": [
    "# Part 2 -- moving target"
   ]
  },
  {
   "cell_type": "code",
   "execution_count": null,
   "id": "dbe6ab36-b1f1-4908-9b63-62977c28cc1b",
   "metadata": {},
   "outputs": [],
   "source": [
    "def f(q,t,m1=1,m2=1,Z1=1,Z2=2):\n",
    "    F_ = F_coulomb(q[:2],q[4:6],Z1,Z2)\n",
    "    return np.array([*q[2:4],*F_/m1,*q[6:8],*(-F_/m2)])"
   ]
  },
  {
   "cell_type": "code",
   "execution_count": null,
   "id": "fbac765b-a491-4be5-9017-8ca4df306828",
   "metadata": {},
   "outputs": [],
   "source": [
    "x0 = -5\n",
    "b  = 0.1\n",
    "v0 = 10\n",
    "q0 = np.array([x0,b,v0,0,0,0,0,0])\n",
    "\n",
    "t0 = 0\n",
    "tf = 10\n",
    "N = 100\n",
    "h = (tf - t0)/N"
   ]
  },
  {
   "cell_type": "code",
   "execution_count": null,
   "id": "2e130d30-453f-402e-ab87-a60711baa886",
   "metadata": {},
   "outputs": [],
   "source": [
    "t,q = solve_ODE(f,t0,q0,h,stop,method='RKF45',adaptive=False)\n",
    "x1,y1,vx1,vy1,x2,y2,vx2,vy2 = q.T"
   ]
  },
  {
   "cell_type": "code",
   "execution_count": null,
   "id": "8fa00043-b4bb-4bb0-87dc-7c9d95a8c023",
   "metadata": {},
   "outputs": [],
   "source": [
    "plt.plot(x1,y1)\n",
    "plt.plot(*[x0,b],color='k',marker='o')\n",
    "\n",
    "plt.plot(x2,y2)\n",
    "plt.plot(*[0,0],color='k',marker='o')\n",
    "\n",
    "plt.show()"
   ]
  },
  {
   "cell_type": "code",
   "execution_count": null,
   "id": "8010ee05-874a-458a-bb70-b288c48dfe1a",
   "metadata": {},
   "outputs": [],
   "source": []
  }
 ],
 "metadata": {
  "kernelspec": {
   "display_name": "Python 3 (ipykernel)",
   "language": "python",
   "name": "python3"
  },
  "language_info": {
   "codemirror_mode": {
    "name": "ipython",
    "version": 3
   },
   "file_extension": ".py",
   "mimetype": "text/x-python",
   "name": "python",
   "nbconvert_exporter": "python",
   "pygments_lexer": "ipython3",
   "version": "3.9.18"
  }
 },
 "nbformat": 4,
 "nbformat_minor": 5
}
