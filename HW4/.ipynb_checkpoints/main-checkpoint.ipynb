{
 "cells": [
  {
   "cell_type": "code",
   "execution_count": 1,
   "id": "0891e909-4d81-4240-9b27-e4ef835eb766",
   "metadata": {},
   "outputs": [],
   "source": [
    "import numpy as np\n",
    "from scipy.integrate import quad\n",
    "from scipy.interpolate import interp1d\n",
    "from scipy.optimize import bisect\n",
    "\n",
    "import matplotlib.pyplot as plt\n",
    "plt.rcParams.update({\n",
    "    'text.latex.preamble': r'\\usepackage{amsmath}',\n",
    "    'text.usetex': True,\n",
    "    'font.family': 'sans-serif',\n",
    "    'font.sans-serif': ['Helvetica']\n",
    "})"
   ]
  },
  {
   "cell_type": "markdown",
   "id": "69df84ee-ff79-4557-b259-815a72d18b88",
   "metadata": {},
   "source": [
    "# Problem 1"
   ]
  },
  {
   "cell_type": "code",
   "execution_count": 2,
   "id": "ecc4ce79-fca6-4dcb-857b-a7fb44c66496",
   "metadata": {},
   "outputs": [],
   "source": [
    "def step_Euler(func,t0,x0,h):\n",
    "    t1 = t0 + h\n",
    "    x1 = x0 + h*func(x0,t0)\n",
    "    return np.array([t1,x1,h])"
   ]
  },
  {
   "cell_type": "code",
   "execution_count": 3,
   "id": "f6e857b5-ed12-4581-8099-2e4cd35a6456",
   "metadata": {},
   "outputs": [],
   "source": [
    "def step_mod_Euler(func,t0,x0,h):\n",
    "    t1,xp,h = step_Euler(func,t0,x0,h)\n",
    "    x1 = x0 + 0.5*h*(func(xp,t1) + func(x0,t0))\n",
    "    return np.array([t1,x1,h])"
   ]
  },
  {
   "cell_type": "code",
   "execution_count": 4,
   "id": "c3cdb35f-1f23-4a98-909e-239479267c57",
   "metadata": {},
   "outputs": [],
   "source": [
    "def step_RKF45(func,t0,x0,h,tol,adaptive=True):\n",
    "    A = np.array([\n",
    "        [0,0,0,0,0,0],\n",
    "        [1/4,0,0,0,0,0],\n",
    "        [3/32,9/32,0,0,0,0],\n",
    "        [1932/2197,-7200/2197,7296/2197,0,0,0],\n",
    "        [439/216,-8,3680/513,-845/4104,0,0],\n",
    "        [-8/27,2,-3544/2565,1859/4104,-11/40,0]\n",
    "    ])\n",
    "    B = np.array([0,1/4,3/8,12/13,1,1/2])\n",
    "    \n",
    "    K = np.zeros(6)\n",
    "    K[0] = h*func(x0+np.sum(A[0]*K),t0+B[0]*h)\n",
    "    K[1] = h*func(x0+np.sum(A[0]*K),t0+B[1]*h)\n",
    "    K[2] = h*func(x0+np.sum(A[2]*K),t0+B[2]*h)\n",
    "    K[3] = h*func(x0+np.sum(A[3]*K),t0+B[3]*h)\n",
    "    K[4] = h*func(x0+np.sum(A[4]*K),t0+B[4]*h)\n",
    "    K[5] = h*func(x0+np.sum(A[5]*K),t0+B[5]*h)\n",
    "    \n",
    "    t1  = t0 + h\n",
    "    x1  = x0 + np.sum(np.array([16/135,0,6656/12825,28561/56430,-9/50,2/55])*K)\n",
    "    err = np.abs(np.sum(np.array([1/360,0,-128/4275,-2197/75240,1/50,2/55])*K) + 1e-100)\n",
    "    \n",
    "    if err < tol or not adaptive:\n",
    "        if adaptive:\n",
    "            h1 = min(0.9*h*(tol/err)**(1/6),2*h)\n",
    "        else:\n",
    "            h1 = h\n",
    "        return np.array([t1,x1,h1])\n",
    "    else:\n",
    "        h1 = min(0.9*h*(tol/err)**(1/6),h/2)\n",
    "        return step_RKF45(func,t0,x0,h1,tol)"
   ]
  },
  {
   "cell_type": "code",
   "execution_count": 18,
   "id": "7b1812ee-7afc-4b58-b5b0-4fe5935256bc",
   "metadata": {},
   "outputs": [],
   "source": [
    "def solve_ODE(func,t0,x0,h,tf,tol=1e-4,method='RKF45',max_iter=int(1e3),adaptive=True):\n",
    "    if method == 'RKF45':\n",
    "        step_func = lambda t0_,x0_,h_: step_RKF45(func,t0_,x0_,h_,tol,adaptive)\n",
    "    elif method == 'modified Euler':\n",
    "        step_func = lambda t0_,x0_,h_: step_mod_Euler(func,t0_,x0_,h_)\n",
    "    elif method == 'Euler':\n",
    "        step_func = lambda t0_,x0_,h_: step_Euler(func,t0_,x0_,h_)\n",
    "        \n",
    "    results = [[t0,x0]]\n",
    "    for i in range(max_iter):\n",
    "        t1,x1,h = step_func(*results[-1],h)\n",
    "        results.append([t1,x1])\n",
    "        \n",
    "        if t1 >= tf:\n",
    "            break\n",
    "            \n",
    "    return np.array(results).T"
   ]
  },
  {
   "cell_type": "markdown",
   "id": "cd872100-6741-483f-90a6-362ed9eca5ad",
   "metadata": {},
   "source": [
    "# Problem 2"
   ]
  },
  {
   "cell_type": "code",
   "execution_count": null,
   "id": "3d246116-3853-4398-86df-8acc4e508b99",
   "metadata": {},
   "outputs": [],
   "source": [
    "setups = [\n",
    "    [lambda x,t: x + np.exp(-t), 0, 0],\n",
    "    [lambda x,t: x + 2*np.cos(t), 0, 1],\n",
    "    [lambda x,t: t*x**2, 0, 1],\n",
    "    [lambda x,t: 1.5*np.sin(2*x) - x*np.cos(t), 0, 1]\n",
    "]\n",
    "h   = 0.1\n",
    "tf  = 1"
   ]
  },
  {
   "cell_type": "code",
   "execution_count": null,
   "id": "bb133090-3fa1-4d9e-a9b8-3a2b4e10ba62",
   "metadata": {},
   "outputs": [],
   "source": [
    "results = []\n",
    "for setup in setups:\n",
    "    temp = {}\n",
    "    for method in ['Euler','modified Euler','RKF45']:\n",
    "        temp[method] = solve_ODE(*setup,h,tf,method=method,adaptive=False)\n",
    "    results.append(temp)"
   ]
  },
  {
   "cell_type": "code",
   "execution_count": null,
   "id": "5a224481-6938-4917-8415-524c5ea78205",
   "metadata": {},
   "outputs": [],
   "source": [
    "exact = [\n",
    "    lambda t: np.sinh(t),\n",
    "    lambda t: 2*np.exp(t) + np.sin(t) - np.cos(t),\n",
    "    lambda t: 2/(2-t**2)\n",
    "]\n",
    "\n",
    "T = np.linspace(0,1)\n",
    "exact_ = [_(T) for _ in exact]"
   ]
  },
  {
   "cell_type": "code",
   "execution_count": null,
   "id": "309320d0-0e03-4319-88fa-2d483899fe0e",
   "metadata": {},
   "outputs": [],
   "source": [
    "nrows,ncols=2,4\n",
    "fig,ax = plt.subplots(nrows=nrows,ncols=ncols,figsize=(7*ncols,8),gridspec_kw={'height_ratios':[6,2]})\n",
    "\n",
    "color  = ['r','b','g']\n",
    "labels = [r'$\\rm Euler$',r'$\\rm modified~Euler$',r'${\\rm RKF}45$']\n",
    "for i in range(4):\n",
    "    temp = results[i]\n",
    "    \n",
    "    if i == 3:\n",
    "        interp = interp1d(temp['RKF45'][0],temp['RKF45'][1],kind='cubic')\n",
    "    \n",
    "    if i != 3:\n",
    "        ax[0][i].plot(T,exact_[i],'k--',label=r'$\\rm exact$')\n",
    "        \n",
    "    for j,method in enumerate(temp):\n",
    "        _ = temp[method]\n",
    "        \n",
    "        ax[0][i].scatter(_[0],_[1],marker='o',s=50,color=color[j],edgecolor=color[j],alpha=0.5,label=labels[j] if i==0 else '')\n",
    "        \n",
    "        if i != 3:\n",
    "            r = _[1]/exact[i](_[0])\n",
    "            ax[1][i].scatter(_[0],r,marker='o',s=50,color=color[j],edgecolor=color[j],alpha=0.5)\n",
    "        else:\n",
    "            cond = _[0] < _[0][-1]\n",
    "            r = _[1][cond]/interp(_[0][cond])\n",
    "            ax[1][i].scatter(_[0][cond],r,marker='o',s=50,color=color[j],edgecolor=color[j],alpha=0.5)\n",
    "    \n",
    "    ax[0][i].text(s=r'\\boldmath $({\\rm %s})$'%['a','b','c','d'][i],x=0.975,y=0.05,size=30,ha='right',va='bottom',transform=ax[0][i].transAxes)\n",
    "            \n",
    "        \n",
    "    \n",
    "    for k in range(2):\n",
    "        ax[k][i].tick_params(axis='both',which='major',direction='in',labelsize=20)\n",
    "        ax[k][i].set_xlim(-0.05,1.05)\n",
    "    ax[1][i].set_xlabel(r'$t$',size=30)\n",
    "    ax[0][i].set_xticks([],[])\n",
    "    ax[1][i].set_ylim(0.83,1.03)\n",
    "\n",
    "ax[0][0].set_ylabel(r'$x(t)$',size=30)\n",
    "ax[1][0].set_ylabel(r'$\\rm ratio$',size=30)\n",
    "ax[0][0].legend(fontsize=20,loc='upper left',frameon=False)\n",
    "\n",
    "fig.align_labels()\n",
    "plt.tight_layout()\n",
    "plt.show()\n",
    "fig.savefig(r'prob2.pdf',bbox_inches='tight')"
   ]
  },
  {
   "cell_type": "markdown",
   "id": "ce4cce59-9443-4c58-ba3d-c8b5cf0bc48d",
   "metadata": {},
   "source": [
    "# Problem 3"
   ]
  },
  {
   "cell_type": "code",
   "execution_count": null,
   "id": "dea1de68-2b75-42b5-a599-5e02d4b7e960",
   "metadata": {},
   "outputs": [],
   "source": [
    "f = lambda x,t: 1.5*np.sin(2*x) - x*np.cos(t)\n",
    "h = [1e-2,0.1,1]\n",
    "results  = []\n",
    "results1 = []\n",
    "for _ in h:\n",
    "    results.append(solve_ODE(f,0,1,_,1,method='RKF45'))\n",
    "    results1.append(solve_ODE(f,0,1,_,1,method='RKF45',adaptive=False))"
   ]
  },
  {
   "cell_type": "code",
   "execution_count": null,
   "id": "ca64ee33-54b6-4bb1-9226-d62476d05409",
   "metadata": {},
   "outputs": [],
   "source": [
    "nrows,ncols = 1,1\n",
    "fig,ax = plt.subplots(nrows=nrows,ncols=ncols,figsize=(7*ncols,5*nrows))\n",
    "\n",
    "for i,_ in enumerate(h):\n",
    "    t,x = results[i]\n",
    "    ax.scatter(t,x,marker='o',s=50,color='C%d'%i,edgecolor='C%d'%i,alpha=0.8,label=r'$h_0=%.1g$'%_)\n",
    "\n",
    "    t,x = results1[i]\n",
    "    ax.scatter(t,x,marker='x',s=50,color='C%d'%i,alpha=[0.3,0.8,0.8][i])\n",
    "    \n",
    "    \n",
    "ax.scatter([],[],marker='o',s=50,color='k',label=r'$\\rm adaptive$')\n",
    "ax.scatter([],[],marker='x',s=50,color='k',label=r'$\\rm static$')\n",
    "\n",
    "ax.tick_params(axis='both',which='major',direction='in',labelsize=20)\n",
    "ax.legend(fontsize=20,loc='upper left',frameon=False,ncol=2,columnspacing=0.5)\n",
    "ax.set_xlabel(r'$t$',size=30)\n",
    "ax.set_ylabel(r'$x(t)$',size=30)\n",
    "ax.set_xlim(-0.02,1.02)\n",
    "ax.set_ylim(0.97,1.4)\n",
    "    \n",
    "plt.show()\n",
    "fig.savefig(r'prob3.pdf',bbox_inches='tight')"
   ]
  },
  {
   "cell_type": "markdown",
   "id": "97d10d88-30e5-43d8-9dfa-c18945e6d78d",
   "metadata": {},
   "source": [
    "# Problem 4"
   ]
  },
  {
   "cell_type": "markdown",
   "id": "850e8f90-fbe4-4460-a637-089a03aa89c5",
   "metadata": {},
   "source": [
    "### part (a)"
   ]
  },
  {
   "cell_type": "code",
   "execution_count": 50,
   "id": "f2897e3c-f5df-463e-880d-442e806a642c",
   "metadata": {},
   "outputs": [],
   "source": [
    "k  = 0.05\n",
    "TM = 90\n",
    "\n",
    "f  = lambda T,t: -k*(T - TM)\n",
    "\n",
    "T0 = 20\n",
    "tf = 10\n",
    "h  = tf/100\n",
    "results1 = solve_ODE(f,0,T0,h,tf,method='RKF45',adaptive=True,tol=1e-4)\n",
    "results2 = solve_ODE(f,0,T0,h,tf,method='RKF45',adaptive=True,tol=1e-6)"
   ]
  },
  {
   "cell_type": "code",
   "execution_count": 52,
   "id": "c27541bf-c98f-4a68-9b0c-929402e8461b",
   "metadata": {},
   "outputs": [
    {
     "name": "stdout",
     "output_type": "stream",
     "text": [
      "47.503548529590084\n",
      "47.542042124692216\n",
      "47.54285382011566\n"
     ]
    }
   ],
   "source": [
    "T = interp1d(*results1)\n",
    "print(T(10))\n",
    "\n",
    "T = interp1d(*results2)\n",
    "print(T(10))\n",
    "\n",
    "print(TM + (T0 - TM)*np.exp(-k*tf))"
   ]
  },
  {
   "cell_type": "code",
   "execution_count": 60,
   "id": "01670758-6cf7-485b-913a-dae29d3a7920",
   "metadata": {},
   "outputs": [
    {
     "data": {
      "image/png": "[encoded data removed]",
      "text/plain": [
       "<Figure size 700x500 with 1 Axes>"
      ]
     },
     "metadata": {},
     "output_type": "display_data"
    }
   ],
   "source": [
    "nrows,ncols = 1,1\n",
    "fig,ax = plt.subplots(nrows=nrows,ncols=ncols,figsize=(7*ncols,5*nrows))\n",
    "\n",
    "t = np.linspace(0,10)\n",
    "ax.plot(t,TM + (T0 - TM)*np.exp(-k*t),'k',label=r'$\\rm exact$')\n",
    "ax.plot(results1[0],results1[1],'ro',alpha=0.7,label=r'$\\epsilon=10^{-4}$')\n",
    "ax.plot(results2[0],results2[1],'co',alpha=0.7,label=r'$\\epsilon=10^{-6}$')\n",
    "\n",
    "ax.legend(fontsize=20,frameon=False,loc='upper left')\n",
    "ax.set_xlabel(r'$t$',size=30)\n",
    "ax.set_ylabel(r'$T(t)$',size=30)\n",
    "ax.tick_params(axis='both',which='major',direction='in',labelsize=20)\n",
    "ax.set_xlim(-0.5,10.5)\n",
    "\n",
    "plt.show()\n",
    "fig.savefig(r'prob4a.pdf',bbox_inches='tight')"
   ]
  },
  {
   "cell_type": "markdown",
   "id": "577dfd4b-888f-4143-a63f-cf44d84017d5",
   "metadata": {},
   "source": [
    "### part (b)"
   ]
  },
  {
   "cell_type": "code",
   "execution_count": 65,
   "id": "2fd25749-329f-4f46-86da-780b653c0900",
   "metadata": {},
   "outputs": [],
   "source": [
    "m  = 1\n",
    "g  = 9.80665\n",
    "b  = 1\n",
    "\n",
    "a  = lambda v,t: -g - b/m*v\n",
    "t0 = 0\n",
    "v0 = 20"
   ]
  },
  {
   "cell_type": "code",
   "execution_count": 90,
   "id": "635c4ece-e9c5-4184-b845-c60245a3d5e6",
   "metadata": {},
   "outputs": [],
   "source": [
    "results = [[t0,v0]]\n",
    "h   = 1e-3\n",
    "tol = 1e-4\n",
    "while results[-1][1] > 0:\n",
    "    temp = step_RKF45(a,*results[-1],h,tol)\n",
    "    results.append(list(temp[:-1]))\n",
    "    h = temp[-1]\n",
    "results = np.array(results).T"
   ]
  },
  {
   "cell_type": "code",
   "execution_count": 91,
   "id": "faf3c050-c11c-40ee-9c3c-2eba7f428f9c",
   "metadata": {},
   "outputs": [
    {
     "name": "stdout",
     "output_type": "stream",
     "text": [
      "1.111682224722325\n",
      "1.1116707959989394\n"
     ]
    }
   ],
   "source": [
    "v  = interp1d(*results)\n",
    "tp = bisect(v,results[0][0],results[0][-1])\n",
    "print(tp)\n",
    "print(m/b*np.log(1+v0/(m*g/b)))"
   ]
  },
  {
   "cell_type": "code",
   "execution_count": 92,
   "id": "f4156dac-cc75-4e0e-9fa6-38039b70060b",
   "metadata": {},
   "outputs": [
    {
     "data": {
      "image/png": "[encoded data removed]",
      "text/plain": [
       "<Figure size 700x500 with 1 Axes>"
      ]
     },
     "metadata": {},
     "output_type": "display_data"
    }
   ],
   "source": [
    "nrows,ncols = 1,1\n",
    "fig,ax = plt.subplots(nrows=nrows,ncols=ncols,figsize=(7*ncols,5*nrows))\n",
    "\n",
    "v_exact = (v0 + m*g/b)*np.exp(-b*T/m) - m*g/b\n",
    "plt.plot(T,v_exact,'k-',label=r'$\\rm exact$')\n",
    "\n",
    "T = np.linspace(*results[0][[0,-1]])\n",
    "ax.plot(T,v(T),'ro',label=r'$\\rm RKF45$')\n",
    "\n",
    "ax.legend(frameon=False,loc='upper right',fontsize=20)\n",
    "ax.set_xlabel(r'$t$',size=30)\n",
    "ax.set_ylabel(r'$v(t)$',size=30)\n",
    "ax.tick_params(axis='both',which='major',labelsize=20,direction='in')\n",
    "\n",
    "plt.show()\n",
    "fig.savefig(r'prob4b.pdf',bbox_inches='tight')"
   ]
  },
  {
   "cell_type": "markdown",
   "id": "b0f3645a-792f-4b6c-8dfa-ba1339e91da0",
   "metadata": {},
   "source": [
    "### part (c)"
   ]
  },
  {
   "cell_type": "code",
   "execution_count": 93,
   "id": "1fc81c30-3ce7-4637-9c5f-6d8087216cba",
   "metadata": {},
   "outputs": [],
   "source": [
    "m  = 1\n",
    "g  = 9.80665\n",
    "c  = 0.1\n",
    "\n",
    "a  = lambda v,t: -g - c/m*v**2\n",
    "t0 = 0\n",
    "v0 = 20"
   ]
  },
  {
   "cell_type": "code",
   "execution_count": 94,
   "id": "5812dc7d-adee-4871-990b-768369834885",
   "metadata": {},
   "outputs": [],
   "source": [
    "results = [[t0,v0]]\n",
    "h   = 1e-3\n",
    "tol = 1e-6\n",
    "while results[-1][1] > 0:\n",
    "    temp = step_RKF45(a,*results[-1],h,tol)\n",
    "    results.append(list(temp[:-1]))\n",
    "    h = temp[-1]\n",
    "results = np.array(results).T"
   ]
  },
  {
   "cell_type": "code",
   "execution_count": 105,
   "id": "4069851f-7431-4060-821d-bb34c00ab982",
   "metadata": {},
   "outputs": [
    {
     "name": "stdout",
     "output_type": "stream",
     "text": [
      "1.1219521370963637\n",
      "1.1219414485143768\n"
     ]
    }
   ],
   "source": [
    "v  = interp1d(*results)\n",
    "tp = bisect(v,results[0][-2],results[0][-1])\n",
    "print(tp)\n",
    "\n",
    "vt  = np.sqrt(m*g/c)\n",
    "tau = np.sqrt(m/c/g)\n",
    "print(tau*np.arctan(v0/vt))"
   ]
  },
  {
   "cell_type": "code",
   "execution_count": 108,
   "id": "0f32eb32-b46f-4778-845f-22024da74cb2",
   "metadata": {},
   "outputs": [
    {
     "data": {
      "image/png": "[encoded data removed]",
      "text/plain": [
       "<Figure size 700x500 with 1 Axes>"
      ]
     },
     "metadata": {},
     "output_type": "display_data"
    }
   ],
   "source": [
    "nrows,ncols = 1,1\n",
    "fig,ax = plt.subplots(nrows=nrows,ncols=ncols,figsize=(7*ncols,5*nrows))\n",
    " \n",
    "T = np.linspace(*results[0][[0,-1]])\n",
    "\n",
    "v_exact = vt*np.tan(np.arctan(v0/vt) - T/tau)\n",
    "ax.plot(T,v_exact,'k-',label=r'$\\rm exact$')\n",
    "ax.plot(T,v(T),'ro',label=r'$\\rm RKF45$')\n",
    "ax.set_xlabel(r'$t$',size=30)\n",
    "ax.set_ylabel(r'$v(t)$',size=30)\n",
    "ax.tick_params(axis='both',which='major',direction='in',labelsize=20)\n",
    "ax.legend(fontsize=20,loc='upper right',frameon=False)\n",
    "\n",
    "plt.show()\n",
    "fig.savefig('prob4c.pdf',bbox_inches='tight')"
   ]
  },
  {
   "cell_type": "code",
   "execution_count": null,
   "id": "293005be-0960-4016-9792-20f0179d196e",
   "metadata": {},
   "outputs": [],
   "source": []
  },
  {
   "cell_type": "code",
   "execution_count": null,
   "id": "b3d74286-1e88-44a0-9315-f4ac91debebe",
   "metadata": {},
   "outputs": [],
   "source": []
  },
  {
   "cell_type": "code",
   "execution_count": null,
   "id": "14dc40cc-2883-4afc-95e5-b2457f1c63a7",
   "metadata": {},
   "outputs": [],
   "source": []
  }
 ],
 "metadata": {
  "kernelspec": {
   "display_name": "Python 3 (ipykernel)",
   "language": "python",
   "name": "python3"
  },
  "language_info": {
   "codemirror_mode": {
    "name": "ipython",
    "version": 3
   },
   "file_extension": ".py",
   "mimetype": "text/x-python",
   "name": "python",
   "nbconvert_exporter": "python",
   "pygments_lexer": "ipython3",
   "version": "3.10.12"
  }
 },
 "nbformat": 4,
 "nbformat_minor": 5
}
