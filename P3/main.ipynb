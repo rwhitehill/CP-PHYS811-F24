{
 "cells": [
  {
   "cell_type": "code",
   "execution_count": 11,
   "id": "3417f6e7-687d-4cdd-bc23-3f2004de2ec2",
   "metadata": {},
   "outputs": [],
   "source": [
    "import numpy as np\n",
    "from scipy.linalg import eigh_tridiagonal\n",
    "\n",
    "import matplotlib.pyplot as plt\n",
    "plt.rcParams.update({\n",
    "    'text.latex.preamble': r'\\usepackage{amsmath}',\n",
    "    'text.usetex': True,\n",
    "    'font.family': 'sans-serif',\n",
    "    'font.sans-serif': ['Helvetica']\n",
    "})\n",
    "\n",
    "import sympy as sp"
   ]
  },
  {
   "cell_type": "code",
   "execution_count": 2,
   "id": "e32b2902-87af-4a1b-87af-c558b8155ab4",
   "metadata": {},
   "outputs": [],
   "source": [
    "def get_H(x0,x1,n,V):\n",
    "    x = np.linspace(x0,x1,n)\n",
    "    h = x[1] - x[0]\n",
    "    \n",
    "    T_ = -(np.diag(np.full(n-3,1),k=-1) + np.diag(np.full(n-2,-2),k=0) + np.diag(np.full(n-3,1),k=1))/2/h**2\n",
    "    V_ = np.diag(V(x[1:-1]))\n",
    "    H  = T_ + V_\n",
    "    \n",
    "    return x,H"
   ]
  },
  {
   "cell_type": "code",
   "execution_count": 3,
   "id": "24fdf1ba-75ae-4d33-95e2-ae4df89756f6",
   "metadata": {},
   "outputs": [],
   "source": [
    "def solve_SE(x0,x1,n,V):\n",
    "    x = np.linspace(x0,x1,n)\n",
    "    h = x[1] - x[0]\n",
    "    \n",
    "    d = -0.5/h**2*np.full(n-2,-2) + V(x[1:-1])\n",
    "    e = -0.5/h**2*np.full(n-3,1)\n",
    "    \n",
    "    E,psi = eigh_tridiagonal(d,e)\n",
    "    psi   = np.vstack(([np.zeros(E.shape[0]),psi,np.zeros(E.shape[0])]))\n",
    "    return x,E,psi.T"
   ]
  },
  {
   "cell_type": "markdown",
   "id": "e083bcde-a882-4ed2-814a-407e14c71976",
   "metadata": {},
   "source": [
    "# Finite square well"
   ]
  },
  {
   "cell_type": "markdown",
   "id": "3666fe50-3746-4d05-bace-610ca9fdd632",
   "metadata": {},
   "source": [
    "### analytic stuff"
   ]
  },
  {
   "cell_type": "code",
   "execution_count": 94,
   "id": "b3a7755f-bbe1-47a5-9125-4786479ef551",
   "metadata": {},
   "outputs": [
    {
     "data": {
      "text/latex": [
       "$\\displaystyle A e^{- \\kappa} = B \\cos{\\left(k \\right)} - C \\sin{\\left(k \\right)}$"
      ],
      "text/plain": [
       "Eq(A*exp(-\\kappa), B*cos(k) - C*sin(k))"
      ]
     },
     "metadata": {},
     "output_type": "display_data"
    },
    {
     "data": {
      "text/latex": [
       "$\\displaystyle A \\kappa e^{- \\kappa} = B k \\sin{\\left(k \\right)} + C k \\cos{\\left(k \\right)}$"
      ],
      "text/plain": [
       "Eq(A*\\kappa*exp(-\\kappa), B*k*sin(k) + C*k*cos(k))"
      ]
     },
     "metadata": {},
     "output_type": "display_data"
    },
    {
     "data": {
      "text/latex": [
       "$\\displaystyle B \\cos{\\left(k \\right)} + C \\sin{\\left(k \\right)} = D e^{- \\kappa}$"
      ],
      "text/plain": [
       "Eq(B*cos(k) + C*sin(k), D*exp(-\\kappa))"
      ]
     },
     "metadata": {},
     "output_type": "display_data"
    },
    {
     "data": {
      "text/latex": [
       "$\\displaystyle - B k \\sin{\\left(k \\right)} + C k \\cos{\\left(k \\right)} = - D \\kappa e^{- \\kappa}$"
      ],
      "text/plain": [
       "Eq(-B*k*sin(k) + C*k*cos(k), -D*\\kappa*exp(-\\kappa))"
      ]
     },
     "metadata": {},
     "output_type": "display_data"
    }
   ],
   "source": [
    "A,B,C,D    = sp.symbols(r'A B C D')\n",
    "k,kappa,V0 = sp.symbols(r'k \\kappa V_0')\n",
    "u,a        = sp.symbols(r'u a')\n",
    "\n",
    "psi1 = A*sp.exp(kappa*u)\n",
    "psi2 = B*sp.cos(k*u) + C*sp.sin(k*u)\n",
    "psi3 = D*sp.exp(-kappa*u)\n",
    "\n",
    "BC1 = sp.Eq(psi1.subs(u,-1)        ,psi2.subs(u,-1))\n",
    "BC2 = sp.Eq(psi1.diff(u).subs(u,-1),psi2.diff(u).subs(u,-1))\n",
    "BC3 = sp.Eq(psi2.subs(u,1)         ,psi3.subs(u,1))\n",
    "BC4 = sp.Eq(psi2.diff(u).subs(u,1) ,psi3.diff(u).subs(u,1))\n",
    "\n",
    "display(BC1)\n",
    "display(BC2)\n",
    "display(BC3)\n",
    "display(BC4)"
   ]
  },
  {
   "cell_type": "code",
   "execution_count": 95,
   "id": "444d1a55-812c-4376-a282-585767194b71",
   "metadata": {},
   "outputs": [
    {
     "data": {
      "text/latex": [
       "$\\displaystyle B k \\sin{\\left(k \\right)} + C k \\cos{\\left(k \\right)} = B \\kappa \\cos{\\left(k \\right)} - C \\kappa \\sin{\\left(k \\right)}$"
      ],
      "text/plain": [
       "Eq(B*k*sin(k) + C*k*cos(k), B*\\kappa*cos(k) - C*\\kappa*sin(k))"
      ]
     },
     "metadata": {},
     "output_type": "display_data"
    },
    {
     "data": {
      "text/latex": [
       "$\\displaystyle B \\kappa \\cos{\\left(k \\right)} + C \\kappa \\sin{\\left(k \\right)} = B k \\sin{\\left(k \\right)} - C k \\cos{\\left(k \\right)}$"
      ],
      "text/plain": [
       "Eq(B*\\kappa*cos(k) + C*\\kappa*sin(k), B*k*sin(k) - C*k*cos(k))"
      ]
     },
     "metadata": {},
     "output_type": "display_data"
    }
   ],
   "source": [
    "A_ = sp.solve(BC1,A,dict=True)[0][A]\n",
    "D_ = sp.solve(BC3,D,dict=True)[0][D]\n",
    "\n",
    "BC2 = BC2.subs(A,A_).simplify()\n",
    "BC4 = BC4.subs(D,D_).simplify()\n",
    "\n",
    "display(BC2.expand())\n",
    "display(BC4.expand())\n",
    "\n",
    "# L = sp.Matrix([\n",
    "#     [k*sp.cos(k*a),k*sp.sin(k*a)],\n",
    "#     [kappa*sp.sin(k*a),kappa*sp.cos(k*a)]\n",
    "# ])\n",
    "# R = sp.Matrix([\n",
    "#     [-kappa*sp.sin(k),kappa*sp.cos(k)],\n",
    "#     [-k*sp.cos(k),k*sp.sin(k)]\n",
    "# ])\n",
    "# A = L - R"
   ]
  },
  {
   "cell_type": "code",
   "execution_count": 89,
   "id": "38140eca-089b-4e69-a037-1d7d9011849d",
   "metadata": {},
   "outputs": [
    {
     "data": {
      "text/latex": [
       "$\\displaystyle \\kappa^{2} \\sin{\\left(2 a k \\right)} + 2 \\kappa k \\cos{\\left(2 a k \\right)} - k^{2} \\sin{\\left(2 a k \\right)}$"
      ],
      "text/plain": [
       "\\kappa**2*sin(2*a*k) + 2*\\kappa*k*cos(2*a*k) - k**2*sin(2*a*k)"
      ]
     },
     "execution_count": 89,
     "metadata": {},
     "output_type": "execute_result"
    }
   ],
   "source": [
    "A.det().simplify()"
   ]
  },
  {
   "cell_type": "code",
   "execution_count": 61,
   "id": "a370f048-2569-43a7-a992-bb032217f26e",
   "metadata": {},
   "outputs": [],
   "source": [
    "C_  = sp.solve(BC2,C,dict=True)[0][C]\n",
    "BC3 = BC3.subs(C,C_).simplify()\n",
    "l = BC3.lhs/B\n",
    "r = BC3.rhs/B"
   ]
  },
  {
   "cell_type": "code",
   "execution_count": 69,
   "id": "7e9bd78e-c8be-4cbf-b977-75f3f12079c5",
   "metadata": {},
   "outputs": [
    {
     "data": {
      "text/latex": [
       "$\\displaystyle \\frac{- \\kappa^{2} \\sin{\\left(2 a k \\right)} - 2 \\kappa k \\cos{\\left(2 a k \\right)} + k^{2} \\sin{\\left(2 a k \\right)}}{\\kappa \\left(- \\kappa \\cos{\\left(a k \\right)} + k \\sin{\\left(a k \\right)}\\right)}$"
      ],
      "text/plain": [
       "(-\\kappa**2*sin(2*a*k) - 2*\\kappa*k*cos(2*a*k) + k**2*sin(2*a*k))/(\\kappa*(-\\kappa*cos(a*k) + k*sin(a*k)))"
      ]
     },
     "execution_count": 69,
     "metadata": {},
     "output_type": "execute_result"
    }
   ],
   "source": [
    "(l - r).simplify()"
   ]
  },
  {
   "cell_type": "code",
   "execution_count": 120,
   "id": "311ba163-bfe9-4d25-87af-f008e383dfe2",
   "metadata": {},
   "outputs": [
    {
     "data": {
      "image/png": "[encoded data removed]",
      "text/plain": [
       "<Figure size 432x288 with 1 Axes>"
      ]
     },
     "metadata": {
      "needs_background": "light"
     },
     "output_type": "display_data"
    }
   ],
   "source": [
    "v0 = 3\n",
    "N  = int(np.sqrt(v0)) + 1\n",
    "# for i in range(1,N+1):\n",
    "k  = np.linspace(0.1,0.999*np.sqrt(v0))\n",
    "plt.plot(k,np.tan(k),'k')\n",
    "plt.plot(k,np.sqrt(v0/k**2-1),'r')\n",
    "plt.plot(k,-1/np.sqrt(v0/k**2-1),'g')\n",
    "\n",
    "# plt.ylim(0)\n",
    "\n",
    "plt.show()"
   ]
  },
  {
   "cell_type": "markdown",
   "id": "4aa42f28-414c-448a-91d3-df5eecc4b52d",
   "metadata": {},
   "source": [
    "### numerical stuff"
   ]
  },
  {
   "cell_type": "markdown",
   "id": "669f1f28-2eb4-47af-8543-93fefcdbfea7",
   "metadata": {},
   "source": [
    "-- to do: comparison with analytic solutions (transcendental equation for even/odd solutions, how many solutions exist)"
   ]
  },
  {
   "cell_type": "code",
   "execution_count": 4,
   "id": "56843526-4795-47d8-97cb-ed1cef5c0ea9",
   "metadata": {},
   "outputs": [],
   "source": [
    "def V(t,a=1,V0=1):\n",
    "    temp = -V0*(np.abs(t) < a).astype(float) + V0\n",
    "    return temp"
   ]
  },
  {
   "cell_type": "code",
   "execution_count": 52,
   "id": "ad07c8a1-f3d1-45f3-8644-82d6f0c3c40a",
   "metadata": {},
   "outputs": [],
   "source": [
    "x,E,psi = solve_SE(-10,10,100,lambda t: V(t,a=2,V0=4))"
   ]
  },
  {
   "cell_type": "code",
   "execution_count": 53,
   "id": "5b6dfacb-f945-4c93-b8c1-a6ae091a82b3",
   "metadata": {},
   "outputs": [
    {
     "data": {
      "text/plain": [
       "array([ 1.        ,  3.95369626,  8.69944697, 14.80934435, 18.85943764,\n",
       "       18.92912556, 19.71516557, 20.02177755, 20.98350191, 21.77338034])"
      ]
     },
     "execution_count": 53,
     "metadata": {},
     "output_type": "execute_result"
    }
   ],
   "source": [
    "E[:10]/E[0]"
   ]
  },
  {
   "cell_type": "code",
   "execution_count": 54,
   "id": "28c523d2-930c-419c-9029-56d289d8cd96",
   "metadata": {},
   "outputs": [
    {
     "data": {
      "image/png": "[encoded data removed]",
      "text/plain": [
       "<Figure size 432x288 with 2 Axes>"
      ]
     },
     "metadata": {
      "needs_background": "light"
     },
     "output_type": "display_data"
    }
   ],
   "source": [
    "img = plt.imshow(np.log10(np.abs(psi[:4]@psi[:4].T)),cmap='inferno')\n",
    "plt.colorbar(img)\n",
    "plt.show()"
   ]
  },
  {
   "cell_type": "code",
   "execution_count": 56,
   "id": "02c4b958-90f6-4d8e-b844-31a55fbdfc2c",
   "metadata": {},
   "outputs": [
    {
     "data": {
      "image/png": "[encoded data removed]",
      "text/plain": [
       "<Figure size 720x576 with 1 Axes>"
      ]
     },
     "metadata": {
      "needs_background": "light"
     },
     "output_type": "display_data"
    }
   ],
   "source": [
    "nrows,ncols = 1,1\n",
    "fig,ax = plt.subplots(nrows=nrows,ncols=ncols,figsize=(10*ncols,8*nrows))\n",
    "\n",
    "x_ = np.linspace(-5,5,1000)\n",
    "ax.plot(x_,V(x_,a=2,V0=4),color='k',alpha=0.5)\n",
    "\n",
    "for i in range(4):\n",
    "    ax.axhline(E[i],color='r',ls='--',alpha=0.3)\n",
    "    ax.plot(x,psi[i] + E[i],'k.')\n",
    "\n",
    "# ax.axhline(E[1],color='r',ls='--',alpha=0.3)\n",
    "# ax.plot(x,5*psi[1] + E[1])\n",
    "\n",
    "# ax.axhline(E[2],color='r',ls='--',alpha=0.3)\n",
    "# ax.plot(x,5*psi[2] + E[2])\n",
    "\n",
    "# ax.axhline(E[3],color='r',ls='--',alpha=0.3)\n",
    "# ax.plot(x,5*psi[3] + E[3])\n",
    "\n",
    "ax.set_xlim(-5,5)\n",
    "ax.set_xlabel(r'$x$',size=30)\n",
    "ax.set_ylabel(r'$V(x)$',size=30)\n",
    "ax.tick_params(axis='both',which='major',labelsize=20,direction='in')\n",
    "\n",
    "plt.show()"
   ]
  },
  {
   "cell_type": "code",
   "execution_count": null,
   "id": "f554bfbe-7237-429a-a861-447a24bee7ef",
   "metadata": {},
   "outputs": [],
   "source": [
    "nrows,ncols = 1,1\n",
    "fig,ax = plt.subplots(nrows=nrows,ncols=ncols,figsize=(7*ncols,5*nrows))\n",
    "\n",
    "ax.plot(x,psi[0])\n",
    "ax.plot(x,psi[1])\n",
    "# ax.plot(x,psi[2])\n",
    "# ax.plot(x,psi[3])\n",
    "# ax.plot(x,psi[4])\n",
    "\n",
    "plt.show()"
   ]
  },
  {
   "cell_type": "markdown",
   "id": "d400cb4c-b25f-4bf1-bc07-8ca3f1ec1c4b",
   "metadata": {},
   "source": [
    "# Harmonic oscillator"
   ]
  },
  {
   "cell_type": "code",
   "execution_count": null,
   "id": "2c8efc6a-6b5b-4898-b1fa-2aa71a82a479",
   "metadata": {},
   "outputs": [],
   "source": [
    "def V(t,m=1,w=1):\n",
    "    return 0.5*m*w**2*t**2"
   ]
  },
  {
   "cell_type": "code",
   "execution_count": null,
   "id": "d0ae7327-2806-4fa4-a28c-5d625e4b1238",
   "metadata": {},
   "outputs": [],
   "source": [
    "x,E,psi = solve_SE(-5,5,1000,V)"
   ]
  },
  {
   "cell_type": "code",
   "execution_count": null,
   "id": "1e381a66-4cab-437b-8cc6-66f718fe75f0",
   "metadata": {},
   "outputs": [],
   "source": [
    "E[:10]"
   ]
  },
  {
   "cell_type": "code",
   "execution_count": null,
   "id": "cc593d2f-e962-4787-83e7-984854a149b5",
   "metadata": {},
   "outputs": [],
   "source": [
    "img = plt.imshow(np.log10(np.abs(psi@psi.T)),cmap='inferno')\n",
    "plt.colorbar(img)"
   ]
  },
  {
   "cell_type": "code",
   "execution_count": null,
   "id": "31e77617-52e9-4474-b6cc-afd278b5f5c1",
   "metadata": {},
   "outputs": [],
   "source": [
    "nrows,ncols = 1,1\n",
    "fig,ax = plt.subplots(nrows=nrows,ncols=ncols,figsize=(10*ncols,8*nrows))\n",
    "\n",
    "x_ = np.linspace(-5,5,1000)\n",
    "ax.plot(x_,V(x_),color='k',alpha=0.5)\n",
    "\n",
    "\n",
    "for i in range(12):\n",
    "    ax.axhline(E[i],color='r',ls='--',alpha=0.3)\n",
    "    ax.plot(x,5*psi[i] + E[i],'k-')\n",
    "\n",
    "# ax.axhline(E[1],color='r',ls='--',alpha=0.3)\n",
    "# ax.plot(x,5*psi[1] + E[1])\n",
    "\n",
    "# ax.axhline(E[2],color='r',ls='--',alpha=0.3)\n",
    "# ax.plot(x,5*psi[2] + E[2])\n",
    "\n",
    "# ax.axhline(E[3],color='r',ls='--',alpha=0.3)\n",
    "# ax.plot(x,5*psi[3] + E[3])\n",
    "\n",
    "# ax.axhline(E[3],color='r',ls='--',alpha=0.3)\n",
    "# ax.plot(x,5*psi[3] + E[4])\n",
    "\n",
    "ax.set_xlim(-5,5)\n",
    "ax.set_xlabel(r'$x$',size=30)\n",
    "ax.set_ylabel(r'$V(x)$',size=30)\n",
    "ax.tick_params(axis='both',which='major',labelsize=20,direction='in')\n",
    "\n",
    "plt.show()"
   ]
  },
  {
   "cell_type": "code",
   "execution_count": null,
   "id": "119ddc0c-9dc2-4e78-945f-340b69497a04",
   "metadata": {},
   "outputs": [],
   "source": [
    "nrows,ncols = 1,1\n",
    "fig,ax = plt.subplots(nrows=nrows,ncols=ncols,figsize=(7*ncols,5*nrows))\n",
    "\n",
    "ax.plot(x,psi[0])\n",
    "ax.plot(x,psi[1])\n",
    "ax.plot(x,psi[2])\n",
    "# ax.plot(x,psi[3])\n",
    "# ax.plot(x,psi[4])\n",
    "\n",
    "plt.show()"
   ]
  },
  {
   "cell_type": "markdown",
   "id": "a506c884-3d44-4273-9547-eb7995df4277",
   "metadata": {},
   "source": [
    "# Morse Potential"
   ]
  },
  {
   "cell_type": "code",
   "execution_count": null,
   "id": "cecd2c3c-9e4c-4d23-8105-dcfaddc04d59",
   "metadata": {},
   "outputs": [],
   "source": [
    "def V(t,D=20,x0=1.5,a=0.5):\n",
    "    return D*(1-np.exp(-a*(t-x0)))**2"
   ]
  },
  {
   "cell_type": "code",
   "execution_count": null,
   "id": "826cf5d9-1711-4484-ac7a-d7c6bebb3f98",
   "metadata": {},
   "outputs": [],
   "source": [
    "x,E,psi = solve_SE(0,3,100,V)"
   ]
  },
  {
   "cell_type": "code",
   "execution_count": null,
   "id": "5b7f443c-948e-46fa-8e9a-c3ce8f96dc51",
   "metadata": {},
   "outputs": [],
   "source": [
    "E[:10]"
   ]
  },
  {
   "cell_type": "code",
   "execution_count": null,
   "id": "11ad698a-b4c2-4665-983d-5e0f70fc42f0",
   "metadata": {},
   "outputs": [],
   "source": [
    "nrows,ncols = 1,1\n",
    "fig,ax = plt.subplots(nrows=nrows,ncols=ncols,figsize=(10*ncols,8*nrows))\n",
    "\n",
    "x_ = np.linspace(0,3,1000)\n",
    "ax.plot(x_,V(x_),color='k',alpha=0.5)\n",
    "\n",
    "\n",
    "for i in range(4):\n",
    "    ax.axhline(E[i],color='r',ls='--',alpha=0.3)\n",
    "    ax.plot(x,5*psi[i] + E[i])\n",
    "\n",
    "# ax.axhline(E[1],color='r',ls='--',alpha=0.3)\n",
    "# ax.plot(x,5*psi[1] + E[1])\n",
    "\n",
    "# ax.axhline(E[2],color='r',ls='--',alpha=0.3)\n",
    "# ax.plot(x,5*psi[2] + E[2])\n",
    "\n",
    "# ax.axhline(E[3],color='r',ls='--',alpha=0.3)\n",
    "# ax.plot(x,5*psi[3] + E[3])\n",
    "\n",
    "# ax.axhline(E[3],color='r',ls='--',alpha=0.3)\n",
    "# ax.plot(x,5*psi[3] + E[4])\n",
    "\n",
    "ax.set_xlim(0,3)\n",
    "ax.set_xlabel(r'$x$',size=30)\n",
    "ax.set_ylabel(r'$V(x)$',size=30)\n",
    "ax.tick_params(axis='both',which='major',labelsize=20,direction='in')\n",
    "\n",
    "plt.show()"
   ]
  },
  {
   "cell_type": "code",
   "execution_count": null,
   "id": "35e6dd19-4134-4c27-8a79-ba6602e127b0",
   "metadata": {},
   "outputs": [],
   "source": [
    "nrows,ncols = 1,1\n",
    "fig,ax = plt.subplots(nrows=nrows,ncols=ncols,figsize=(7*ncols,5*nrows))\n",
    "\n",
    "ax.plot(x,psi[0])\n",
    "ax.plot(x,psi[1])\n",
    "ax.plot(x,psi[2])\n",
    "# ax.plot(x,psi[3])\n",
    "# ax.plot(x,psi[4])\n",
    "\n",
    "plt.show()"
   ]
  },
  {
   "cell_type": "code",
   "execution_count": null,
   "id": "0b62b37d-fed4-4e07-8de5-5d0ba62da0fc",
   "metadata": {},
   "outputs": [],
   "source": []
  },
  {
   "cell_type": "code",
   "execution_count": null,
   "id": "2259b090-1dd8-4d4d-b4d7-857fd7a2d8d0",
   "metadata": {},
   "outputs": [],
   "source": []
  }
 ],
 "metadata": {
  "kernelspec": {
   "display_name": "Python 3 (ipykernel)",
   "language": "python",
   "name": "python3"
  },
  "language_info": {
   "codemirror_mode": {
    "name": "ipython",
    "version": 3
   },
   "file_extension": ".py",
   "mimetype": "text/x-python",
   "name": "python",
   "nbconvert_exporter": "python",
   "pygments_lexer": "ipython3",
   "version": "3.9.18"
  }
 },
 "nbformat": 4,
 "nbformat_minor": 5
}
