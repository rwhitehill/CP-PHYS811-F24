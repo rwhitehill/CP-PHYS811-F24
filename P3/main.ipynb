{
 "cells": [
  {
   "cell_type": "code",
   "execution_count": 22,
   "id": "3417f6e7-687d-4cdd-bc23-3f2004de2ec2",
   "metadata": {},
   "outputs": [],
   "source": [
    "import numpy as np\n",
    "from scipy.linalg import eigh_tridiagonal\n",
    "\n",
    "import matplotlib.pyplot as plt\n",
    "plt.rcParams.update({\n",
    "    'text.latex.preamble': r'\\usepackage{amsmath}',\n",
    "    'text.usetex': True,\n",
    "    'font.family': 'sans-serif',\n",
    "    'font.sans-serif': ['Helvetica']\n",
    "})"
   ]
  },
  {
   "cell_type": "code",
   "execution_count": 23,
   "id": "e32b2902-87af-4a1b-87af-c558b8155ab4",
   "metadata": {},
   "outputs": [],
   "source": [
    "def get_H(x0,x1,n,V):\n",
    "    x = np.linspace(x0,x1,n)\n",
    "    h = x[1] - x[0]\n",
    "    \n",
    "    T_ = -(np.diag(np.full(n-3,1),k=-1) + np.diag(np.full(n-2,-2),k=0) + np.diag(np.full(n-3,1),k=1))/2/h**2\n",
    "    V_ = np.diag(V(x[1:-1]))\n",
    "    H  = T_ + V_\n",
    "    \n",
    "    return x,H"
   ]
  },
  {
   "cell_type": "code",
   "execution_count": 30,
   "id": "24fdf1ba-75ae-4d33-95e2-ae4df89756f6",
   "metadata": {},
   "outputs": [],
   "source": [
    "def solve_SE(x0,x1,n,V):\n",
    "    # x,H   = get_H(x0,x1,n,V)\n",
    "    # E,psi = np.linalg.eigh(H)\n",
    "    x = np.linspace(x0,x1,n)\n",
    "    h = x[1] - x[0]\n",
    "    \n",
    "    d = -0.5/h**2*np.full(n-2,-2) + V(x[1:-1])\n",
    "    e = -0.5/h**2*np.full(n-3,1)\n",
    "    \n",
    "    E,psi = eigh_tridiagonal(d,e)\n",
    "    psi   = np.vstack(([np.zeros(E.shape[0]),psi,np.zeros(E.shape[0])]))\n",
    "    return x,E,psi.T"
   ]
  },
  {
   "cell_type": "code",
   "execution_count": 31,
   "id": "56843526-4795-47d8-97cb-ed1cef5c0ea9",
   "metadata": {},
   "outputs": [],
   "source": [
    "def V(t,a=1,V0=1):\n",
    "    temp = -V0*(np.abs(t) < a).astype(float)\n",
    "    return temp"
   ]
  },
  {
   "cell_type": "code",
   "execution_count": 32,
   "id": "02c4b958-90f6-4d8e-b844-31a55fbdfc2c",
   "metadata": {},
   "outputs": [
    {
     "data": {
      "image/png": "[encoded data removed]",
      "text/plain": [
       "<Figure size 432x288 with 1 Axes>"
      ]
     },
     "metadata": {
      "needs_background": "light"
     },
     "output_type": "display_data"
    }
   ],
   "source": [
    "x = np.linspace(-2,2,1000)\n",
    "plt.plot(x,V(x))\n",
    "plt.show()"
   ]
  },
  {
   "cell_type": "code",
   "execution_count": 45,
   "id": "ad07c8a1-f3d1-45f3-8644-82d6f0c3c40a",
   "metadata": {},
   "outputs": [],
   "source": [
    "x,E,psi = solve_SE(-5,5,50,lambda t: V(t,a=2,V0=4))"
   ]
  },
  {
   "cell_type": "code",
   "execution_count": 50,
   "id": "876b332b-8cea-4a83-bc3c-9bcd43e4f361",
   "metadata": {},
   "outputs": [
    {
     "name": "stdout",
     "output_type": "stream",
     "text": [
      "[-3.78814286 -3.16219612 -2.15558266 -0.85486257  0.29453389  0.5632326\n",
      "  0.9703982   1.85315017  2.38519522  3.26152297  4.34375949  5.17557809\n",
      "  6.28284138  7.58575869  8.67190688  9.91689092 11.39928472 12.70391792\n",
      " 14.03185222 15.61633853 17.10335662 18.48124141 20.07405492 21.68839546\n",
      " 23.10323293 24.61658379 26.26859386 27.71968626 29.09715428 30.65902858\n",
      " 32.13505937 33.37412746 34.7037144  36.13280315 37.29446373 38.30487512\n",
      " 39.48652076 40.63427227 41.42646959 42.09757833 42.91347992 43.65868015\n",
      " 44.32957463 44.35491922 46.28621393 46.28640531 47.57706456 47.57707229]\n"
     ]
    }
   ],
   "source": [
    "print(E)"
   ]
  },
  {
   "cell_type": "code",
   "execution_count": 54,
   "id": "f554bfbe-7237-429a-a861-447a24bee7ef",
   "metadata": {},
   "outputs": [
    {
     "data": {
      "image/png": "[encoded data removed]",
      "text/plain": [
       "<Figure size 504x360 with 1 Axes>"
      ]
     },
     "metadata": {
      "needs_background": "light"
     },
     "output_type": "display_data"
    }
   ],
   "source": [
    "nrows,ncols = 1,1\n",
    "fig,ax = plt.subplots(nrows=nrows,ncols=ncols,figsize=(7*ncols,5*nrows))\n",
    "\n",
    "ax.plot(x,psi[0])\n",
    "\n",
    "plt.show()"
   ]
  },
  {
   "cell_type": "code",
   "execution_count": null,
   "id": "1caa2b79-07d1-42e0-ae0d-574d8af66746",
   "metadata": {},
   "outputs": [],
   "source": []
  },
  {
   "cell_type": "code",
   "execution_count": null,
   "id": "2c8efc6a-6b5b-4898-b1fa-2aa71a82a479",
   "metadata": {},
   "outputs": [],
   "source": []
  },
  {
   "cell_type": "code",
   "execution_count": null,
   "id": "0b62b37d-fed4-4e07-8de5-5d0ba62da0fc",
   "metadata": {},
   "outputs": [],
   "source": []
  },
  {
   "cell_type": "code",
   "execution_count": null,
   "id": "2259b090-1dd8-4d4d-b4d7-857fd7a2d8d0",
   "metadata": {},
   "outputs": [],
   "source": []
  }
 ],
 "metadata": {
  "kernelspec": {
   "display_name": "Python 3 (ipykernel)",
   "language": "python",
   "name": "python3"
  },
  "language_info": {
   "codemirror_mode": {
    "name": "ipython",
    "version": 3
   },
   "file_extension": ".py",
   "mimetype": "text/x-python",
   "name": "python",
   "nbconvert_exporter": "python",
   "pygments_lexer": "ipython3",
   "version": "3.9.18"
  }
 },
 "nbformat": 4,
 "nbformat_minor": 5
}
