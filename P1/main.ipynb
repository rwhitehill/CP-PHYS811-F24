{
 "cells": [
  {
   "cell_type": "code",
   "execution_count": 122,
   "id": "5bc1556e-ebd9-4fc8-9c3a-dbb6eed26ad5",
   "metadata": {},
   "outputs": [],
   "source": [
    "import numpy as np\n",
    "import matplotlib.pyplot as plt\n",
    "\n",
    "import matplotlib.pyplot as plt\n",
    "plt.rcParams.update({\n",
    "    'text.latex.preamble': r'\\usepackage{amsmath}',\n",
    "    'text.usetex': True,\n",
    "    'font.family': 'sans-serif',\n",
    "    'font.sans-serif': ['Helvetica']\n",
    "})"
   ]
  },
  {
   "cell_type": "code",
   "execution_count": 2,
   "id": "25f1ff8e-cd82-4883-bdd9-d11e5d6b7bc2",
   "metadata": {},
   "outputs": [],
   "source": [
    "def get_LJ_potential(P,sig=1,eps=1):\n",
    "    x = P.T[0]\n",
    "    y = P.T[1]\n",
    "    \n",
    "    X = np.tile(x,(x.shape[0],1))\n",
    "    XT = X.T\n",
    "\n",
    "    Y = np.tile(y,(y.shape[0],1))\n",
    "    YT = Y.T\n",
    "    \n",
    "    r = np.sqrt((X - XT)**2 + (Y - YT)**2).flatten()\n",
    "    r = r[r!=0]\n",
    "    \n",
    "    return np.sum(4*eps*((sig/r)**12 - (sig/r)**6))/2"
   ]
  },
  {
   "cell_type": "code",
   "execution_count": 14,
   "id": "027116a1-d70f-4ab8-aeee-8a33a929af2c",
   "metadata": {},
   "outputs": [
    {
     "data": {
      "text/plain": [
       "array([[0, 0],\n",
       "       [1, 0],\n",
       "       [0, 1]])"
      ]
     },
     "execution_count": 14,
     "metadata": {},
     "output_type": "execute_result"
    }
   ],
   "source": [
    "P"
   ]
  },
  {
   "cell_type": "code",
   "execution_count": 22,
   "id": "c22cffa3-9b3e-420f-852e-13e0dde23c87",
   "metadata": {},
   "outputs": [],
   "source": [
    "def walk(config,h=1,freeze=None):\n",
    "    step = h*(2*np.random.uniform(size=config.shape)-1)\n",
    "    \n",
    "    if freeze is not None:\n",
    "        cond = np.tile(freeze,(2,1)).T\n",
    "        step *= cond\n",
    "    \n",
    "    return config + step"
   ]
  },
  {
   "cell_type": "code",
   "execution_count": 145,
   "id": "2865095e-492d-4336-b9f4-a30e0d9309c6",
   "metadata": {},
   "outputs": [],
   "source": [
    "def minimize(config,h=1,sig=1,eps=1,rtol=1e-10,atol=1e-10,max_iter=100,freeze=None,track=False):\n",
    "    configs = [config]\n",
    "    U = [get_LJ_potential(config)]\n",
    "    \n",
    "    for i in range(max_iter):\n",
    "        new_config = walk(configs[-1],h,freeze)\n",
    "        new_U = get_LJ_potential(new_config,sig,eps)\n",
    "        \n",
    "        if new_U < U[-1]:\n",
    "            configs.append(new_config)\n",
    "            U.append(new_U)\n",
    "            \n",
    "            # adiff = np.abs(new_U - U[-1])\n",
    "            # rdiff = np.abs(adiff/U[-1])\n",
    "            # if adiff < atol:\n",
    "            #     print(i,'adiff',adiff)\n",
    "            #     break\n",
    "            # elif rdiff < rtol:\n",
    "            #     print(i,'rdiff',rdiff)\n",
    "            #     break\n",
    "    \n",
    "    if track:\n",
    "        return np.array(configs),np.array(U)\n",
    "    else:\n",
    "        return configs[-1],U[-1]"
   ]
  },
  {
   "cell_type": "code",
   "execution_count": 148,
   "id": "e4b35fbb-d9ef-4fff-aa51-dce462c97e22",
   "metadata": {},
   "outputs": [],
   "source": [
    "def transform(P,a=np.array([0,0]),theta=0,origin=np.array([0,0])):\n",
    "    R = np.array([\n",
    "        [np.cos(theta),-np.sin(theta)],\n",
    "        [np.sin(theta),np.cos(theta)]\n",
    "    ])\n",
    "    \n",
    "    P_ = np.zeros(P.shape)\n",
    "    for i in len(P):\n",
    "        p = P[i]\n",
    "        p = p + a\n",
    "        p = R@(p - origin) + origin\n",
    "        \n",
    "        P_[i] = p\n",
    "    \n",
    "    return P_"
   ]
  },
  {
   "cell_type": "code",
   "execution_count": 157,
   "id": "2bc376f9-476e-4e69-99c7-72e00198df9d",
   "metadata": {},
   "outputs": [],
   "source": [
    "P = np.array([\n",
    "    [0,0],\n",
    "    [1,0],\n",
    "    [0,1],\n",
    "    [1,1]\n",
    "])\n",
    "\n",
    "configs,U = minimize(P,h=0.5,max_iter=10000,track=True)"
   ]
  },
  {
   "cell_type": "code",
   "execution_count": 158,
   "id": "56860389-defe-49a9-bb4f-0320023b3749",
   "metadata": {},
   "outputs": [
    {
     "data": {
      "image/png": "[encoded data removed]",
      "text/plain": [
       "<Figure size 1008x360 with 2 Axes>"
      ]
     },
     "metadata": {
      "needs_background": "light"
     },
     "output_type": "display_data"
    }
   ],
   "source": [
    "nrows,ncols=1,2\n",
    "fig,ax=plt.subplots(nrows=nrows,ncols=ncols,figsize=(7*ncols,5*nrows))\n",
    "\n",
    "x,y = configs[0].T\n",
    "ax[0].scatter(x,y,marker='o',s=75,lw=2,color='None',edgecolor='k')\n",
    "\n",
    "x,y = configs[-1].T\n",
    "ax[0].scatter(x,y,marker='o',s=75,lw=2,color='None',edgecolor='r')\n",
    "\n",
    "ax[0].set_xlabel(r'$x$',size=30)\n",
    "ax[0].set_ylabel(r'$y$',size=30)\n",
    "\n",
    "scale = 1.05*np.amax(np.abs(configs))\n",
    "ax[0].set_xlim(-scale,scale)\n",
    "ax[0].set_ylim(-scale,scale)\n",
    "\n",
    "ax[1].plot(U)\n",
    "ax[1].set_xlabel(r'$\\rm iteration$',size=30)\n",
    "ax[1].set_ylabel(r'$U$',size=30)\n",
    "\n",
    "for i in range(2):\n",
    "    ax[i].tick_params(axis='both',which='major',direction='in',labelsize=20)\n",
    "\n",
    "plt.tight_layout()\n",
    "plt.show()"
   ]
  },
  {
   "cell_type": "code",
   "execution_count": 87,
   "id": "1daee14d-9da6-49c4-a6d3-386f837bcd47",
   "metadata": {},
   "outputs": [],
   "source": [
    "U = []\n",
    "x = np.linspace(1,3,100)\n",
    "for i in range(len(x)):\n",
    "    temp = np.array([[0,0],[x[i],0]])\n",
    "    # print(temp)\n",
    "    U.append(get_LJ_potential(temp))\n",
    "    \n",
    "U = np.array(U)"
   ]
  },
  {
   "cell_type": "code",
   "execution_count": 88,
   "id": "6182f67a-3f13-47e1-ad27-83dcce3e28ea",
   "metadata": {},
   "outputs": [
    {
     "data": {
      "text/plain": [
       "[<matplotlib.lines.Line2D at 0x1189f1940>]"
      ]
     },
     "execution_count": 88,
     "metadata": {},
     "output_type": "execute_result"
    },
    {
     "data": {
      "image/png": "[encoded data removed]",
      "text/plain": [
       "<Figure size 432x288 with 1 Axes>"
      ]
     },
     "metadata": {
      "needs_background": "light"
     },
     "output_type": "display_data"
    }
   ],
   "source": [
    "plt.plot(x,U)"
   ]
  },
  {
   "cell_type": "code",
   "execution_count": null,
   "id": "cd41adcd-e66e-4124-96bb-a86c72362e25",
   "metadata": {},
   "outputs": [],
   "source": []
  }
 ],
 "metadata": {
  "kernelspec": {
   "display_name": "Python 3 (ipykernel)",
   "language": "python",
   "name": "python3"
  },
  "language_info": {
   "codemirror_mode": {
    "name": "ipython",
    "version": 3
   },
   "file_extension": ".py",
   "mimetype": "text/x-python",
   "name": "python",
   "nbconvert_exporter": "python",
   "pygments_lexer": "ipython3",
   "version": "3.9.18"
  }
 },
 "nbformat": 4,
 "nbformat_minor": 5
}
