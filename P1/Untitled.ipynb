{
 "cells": [
  {
   "cell_type": "code",
   "execution_count": 17,
   "id": "5bc1556e-ebd9-4fc8-9c3a-dbb6eed26ad5",
   "metadata": {},
   "outputs": [],
   "source": [
    "import numpy as np\n",
    "import matplotlib.pyplot as plt"
   ]
  },
  {
   "cell_type": "code",
   "execution_count": 32,
   "id": "65ac34e0-db4c-468f-8326-01d964228a4d",
   "metadata": {},
   "outputs": [
    {
     "name": "stdout",
     "output_type": "stream",
     "text": [
      "[0 1 2]\n",
      "[0 1 2]\n"
     ]
    }
   ],
   "source": [
    "P = np.array([\n",
    "    [0,0],\n",
    "    [1,1],\n",
    "    [2,2]\n",
    "])\n",
    "\n",
    "x = P.T[0]\n",
    "y = P.T[1]\n",
    "\n",
    "print(x)\n",
    "print(y)"
   ]
  },
  {
   "cell_type": "code",
   "execution_count": 33,
   "id": "67d7596e-ae11-4ebb-bb09-12ac4ca33115",
   "metadata": {},
   "outputs": [
    {
     "data": {
      "image/png": "[encoded data removed]",
      "text/plain": [
       "<Figure size 432x288 with 1 Axes>"
      ]
     },
     "metadata": {
      "needs_background": "light"
     },
     "output_type": "display_data"
    }
   ],
   "source": [
    "plt.scatter(x,y)\n",
    "plt.show()"
   ]
  },
  {
   "cell_type": "code",
   "execution_count": 37,
   "id": "40423402-a7d2-4a61-92f3-543dab3b6de2",
   "metadata": {},
   "outputs": [],
   "source": [
    "X = np.tile(x,(x.shape[0],1))\n",
    "XT = X.T\n",
    "\n",
    "Y = np.tile(y,(y.shape[0],1))\n",
    "YT = Y.T"
   ]
  },
  {
   "cell_type": "code",
   "execution_count": 51,
   "id": "02f5082a-4993-4eb0-b590-6f3293dee61d",
   "metadata": {},
   "outputs": [
    {
     "data": {
      "text/plain": [
       "array([[0.        , 1.41421356, 2.82842712],\n",
       "       [1.41421356, 0.        , 1.41421356],\n",
       "       [2.82842712, 1.41421356, 0.        ]])"
      ]
     },
     "execution_count": 51,
     "metadata": {},
     "output_type": "execute_result"
    }
   ],
   "source": [
    "r = np.sqrt((X - XT)**2 + (Y - YT)**2)\n",
    "r"
   ]
  },
  {
   "cell_type": "code",
   "execution_count": 53,
   "id": "6e61b31f-c6dc-46fa-be02-32f97f66e6ad",
   "metadata": {},
   "outputs": [
    {
     "data": {
      "text/plain": [
       "array([1.41421356, 2.82842712, 1.41421356, 1.41421356, 2.82842712,\n",
       "       1.41421356])"
      ]
     },
     "execution_count": 53,
     "metadata": {},
     "output_type": "execute_result"
    }
   ],
   "source": []
  },
  {
   "cell_type": "code",
   "execution_count": 58,
   "id": "25f1ff8e-cd82-4883-bdd9-d11e5d6b7bc2",
   "metadata": {},
   "outputs": [],
   "source": [
    "def get_LJ_potential(P,sig=1,eps=1):\n",
    "    x = P.T[0]\n",
    "    y = P.T[1]\n",
    "    \n",
    "    X = np.tile(x,(x.shape[0],1))\n",
    "    XT = X.T\n",
    "\n",
    "    Y = np.tile(y,(y.shape[0],1))\n",
    "    YT = Y.T\n",
    "    \n",
    "    r = np.sqrt((X - XT)**2 + (Y - YT)**2).flatten()\n",
    "    r = r[r!=0]\n",
    "    \n",
    "    return np.sum(4*eps*((sig/r)**12 - (sig/r)**6))/2"
   ]
  },
  {
   "cell_type": "code",
   "execution_count": 59,
   "id": "1586bfb0-2fa5-43a2-9c5d-c76cdfed9a02",
   "metadata": {},
   "outputs": [
    {
     "data": {
      "text/plain": [
       "-0.8827972412109371"
      ]
     },
     "execution_count": 59,
     "metadata": {},
     "output_type": "execute_result"
    }
   ],
   "source": [
    "get_LJ_potential(P)"
   ]
  },
  {
   "cell_type": "code",
   "execution_count": null,
   "id": "6182f67a-3f13-47e1-ad27-83dcce3e28ea",
   "metadata": {},
   "outputs": [],
   "source": []
  }
 ],
 "metadata": {
  "kernelspec": {
   "display_name": "Python 3 (ipykernel)",
   "language": "python",
   "name": "python3"
  },
  "language_info": {
   "codemirror_mode": {
    "name": "ipython",
    "version": 3
   },
   "file_extension": ".py",
   "mimetype": "text/x-python",
   "name": "python",
   "nbconvert_exporter": "python",
   "pygments_lexer": "ipython3",
   "version": "3.9.18"
  }
 },
 "nbformat": 4,
 "nbformat_minor": 5
}
