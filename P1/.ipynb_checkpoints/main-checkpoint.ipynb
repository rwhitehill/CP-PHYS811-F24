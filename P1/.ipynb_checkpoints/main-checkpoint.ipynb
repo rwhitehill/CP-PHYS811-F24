{
 "cells": [
  {
   "cell_type": "code",
   "execution_count": 1,
   "id": "5bc1556e-ebd9-4fc8-9c3a-dbb6eed26ad5",
   "metadata": {},
   "outputs": [],
   "source": [
    "import numpy as np\n",
    "import matplotlib.pyplot as plt\n",
    "\n",
    "import matplotlib.pyplot as plt\n",
    "plt.rcParams.update({\n",
    "    'text.latex.preamble': r'\\usepackage{amsmath}',\n",
    "    'text.usetex': True,\n",
    "    'font.family': 'sans-serif',\n",
    "    'font.sans-serif': ['Helvetica']\n",
    "})\n",
    "\n",
    "from tqdm import tqdm,trange"
   ]
  },
  {
   "cell_type": "code",
   "execution_count": 2,
   "id": "c22cffa3-9b3e-420f-852e-13e0dde23c87",
   "metadata": {},
   "outputs": [],
   "source": [
    "def get_LJ_potential(P,sig=1,eps=1):\n",
    "    x = P.T[0]\n",
    "    y = P.T[1]\n",
    "    \n",
    "    X = np.tile(x,(x.shape[0],1))\n",
    "    XT = X.T\n",
    "\n",
    "    Y = np.tile(y,(y.shape[0],1))\n",
    "    YT = Y.T\n",
    "    \n",
    "    r = np.sqrt((X - XT)**2 + (Y - YT)**2).flatten()\n",
    "    r = r[r!=0]\n",
    "    \n",
    "    return np.sum(4*eps*((sig/r)**12 - (sig/r)**6))/2"
   ]
  },
  {
   "cell_type": "code",
   "execution_count": 3,
   "id": "e849bb20-2c4a-49fe-8e0c-ffe89f72d425",
   "metadata": {},
   "outputs": [],
   "source": [
    "def walk(config,h=1,freeze=None):\n",
    "    step = h*(2*np.random.uniform(size=config.shape)-1)\n",
    "    \n",
    "    if freeze is not None:\n",
    "        cond = np.tile(freeze,(2,1)).T\n",
    "        step *= cond\n",
    "    \n",
    "    return config + step"
   ]
  },
  {
   "cell_type": "code",
   "execution_count": 4,
   "id": "2865095e-492d-4336-b9f4-a30e0d9309c6",
   "metadata": {},
   "outputs": [],
   "source": [
    "def minimize(config,h=1,sig=1,eps=1,rtol=1e-3,atol=1e-10,max_iter=int(1e8),freeze=None,track=False):\n",
    "    configs = [config]\n",
    "    U = [get_LJ_potential(config)]\n",
    "    \n",
    "    for i in range(max_iter):\n",
    "        new_config = walk(configs[-1],h,freeze)\n",
    "        new_U = get_LJ_potential(new_config,sig,eps)\n",
    "        \n",
    "        if new_U > U[-1]:\n",
    "            continue\n",
    "            \n",
    "        configs.append(new_config)\n",
    "        U.append(new_U)\n",
    "\n",
    "        adiff = np.abs(new_U - U[-2])\n",
    "        rdiff = np.abs(adiff/U[-2])\n",
    "        if adiff < atol:\n",
    "            # print(i,'adiff',adiff)\n",
    "            # print(U[-2],U[-1])\n",
    "            # print(configs[-2])\n",
    "            # print(configs[-2])\n",
    "            break\n",
    "        elif rdiff < rtol:\n",
    "            # print(i,'rdiff',rdiff)\n",
    "            # print(U[-2],U[-1])\n",
    "            # print(configs[-2])\n",
    "            # print(configs[-2])\n",
    "            break\n",
    "    \n",
    "    if track:\n",
    "        return np.array(configs),np.array(U)\n",
    "    else:\n",
    "        return configs[-1],U[-1]"
   ]
  },
  {
   "cell_type": "code",
   "execution_count": 5,
   "id": "072b7e02-5dc0-4b85-ba86-8333ab429a4c",
   "metadata": {},
   "outputs": [],
   "source": [
    "def minimize1(config,h=1,sig=1,eps=1,rtol=1e-3,atol=1e-10,max_iter=int(1e8),track=False):\n",
    "    configs,U = [config],[get_LJ_potential(config)]\n",
    "    for i in range(N):\n",
    "        freeze=np.array([j==i for j in range(N)])\n",
    "        args = (h,sig,eps,rtol,atol,max_iter,freeze,True)\n",
    "        configs_,U_ = minimize(configs[-1],*args)\n",
    "        configs += list(configs_)\n",
    "        U       += list(U_)\n",
    "    \n",
    "    if track:\n",
    "        return np.array(configs),np.array(U)\n",
    "    else:\n",
    "        return configs[-1],U[-1]"
   ]
  },
  {
   "cell_type": "code",
   "execution_count": 6,
   "id": "edf2bdf4-4baf-4e16-9855-23aa8f3f094c",
   "metadata": {},
   "outputs": [],
   "source": [
    "def transform(P,a=np.array([0,0]),theta=0,origin=np.array([0,0])):\n",
    "    R = np.array([\n",
    "        [np.cos(theta),-np.sin(theta)],\n",
    "        [np.sin(theta),np.cos(theta)]\n",
    "    ])\n",
    "    \n",
    "    P_ = np.zeros(P.shape)\n",
    "    for i in len(P):\n",
    "        p = P[i]\n",
    "        p = p + a\n",
    "        p = R@(p - origin) + origin\n",
    "        \n",
    "        P_[i] = p\n",
    "    \n",
    "    return P_"
   ]
  },
  {
   "cell_type": "markdown",
   "id": "be7b5157-31dc-4621-8d14-8b4aec64edc4",
   "metadata": {},
   "source": [
    "track one minimization"
   ]
  },
  {
   "cell_type": "code",
   "execution_count": null,
   "id": "711e1c43-47cd-4152-9dea-324efa29db3e",
   "metadata": {},
   "outputs": [],
   "source": [
    "h = 0.2\n",
    "N = 16\n",
    "L = N*2**(1/6)\n",
    "P = L*np.random.uniform(size=(N,2))\n",
    "\n",
    "results = {'method 1': {}, 'method 2': {}}\n",
    "configs,U = minimize1(P,h,track=True)\n",
    "results['method 1']['configs'] = configs\n",
    "results['method 1']['U'] = U\n",
    "\n",
    "configs,U = minimize(P,h,track=True)\n",
    "results['method 2']['configs'] = configs\n",
    "results['method 2']['U'] = U"
   ]
  },
  {
   "cell_type": "code",
   "execution_count": null,
   "id": "82539bfc-bdbe-4960-a044-d679bae47409",
   "metadata": {},
   "outputs": [],
   "source": [
    "nrows,ncols=1,2\n",
    "fig,ax=plt.subplots(nrows=nrows,ncols=ncols,figsize=(7*ncols,5*nrows))\n",
    "\n",
    "x,y = configs[0].T\n",
    "ax[0].scatter(x,y,marker='o',s=75,lw=2,color='k',alpha=0.4,edgecolor='k',label=r'$\\rm initial$')\n",
    "\n",
    "colors = {'method 1': 'r', 'method 2': 'c'}\n",
    "Umin = min(results['method 1']['U'][-1],results['method 2']['U'][-1])\n",
    "for _ in results:\n",
    "    x,y = results[_]['configs'][-1].T\n",
    "    ax[0].scatter(x,y,marker='o',s=75,lw=2,color=colors[_],alpha=0.4,edgecolor=colors[_],label=r'$\\rm %s$'%_)\n",
    "    \n",
    "    U = results[_]['U']\n",
    "    ax[1].plot(U-1.1*Umin,color=colors[_])\n",
    "\n",
    "ax[0].legend(fontsize=20,loc='upper left',frameon=False)\n",
    "ax[0].set_xlabel(r'$x$',size=30)\n",
    "ax[0].set_ylabel(r'$y$',size=30)\n",
    "\n",
    "scale = 1.05*max(np.amax(np.abs(results['method 1']['configs'])),np.amax(np.abs(results['method 2']['configs'])))\n",
    "ax[0].set_xlim(-scale,scale)\n",
    "ax[0].set_ylim(-scale,scale)\n",
    "\n",
    "\n",
    "ax[1].set_xlabel(r'$\\rm iteration$',size=30)\n",
    "ax[1].set_ylabel(r'$U - 1.1 U_{\\rm min}$',size=30)\n",
    "ax[1].semilogy()\n",
    "ax[1].text(s=r'$U_{\\rm min} = {%.4f}$'%Umin,size=30,x=0.95,y=0.95,ha='right',va='top',transform=ax[1].transAxes)\n",
    "\n",
    "for i in range(2):\n",
    "    ax[i].tick_params(axis='both',which='major',direction='in',labelsize=20)\n",
    "ax[1].tick_params(axis='both',which='major',direction='in',labelsize=20)\n",
    "\n",
    "plt.tight_layout()\n",
    "plt.show()\n",
    "fig.savefig(r'track_min%d.pdf'%N,bbox_inches='tight')"
   ]
  },
  {
   "cell_type": "markdown",
   "id": "f9f6b1b1-cb43-4a3c-8239-2e0671f56777",
   "metadata": {},
   "source": [
    "performance over batch"
   ]
  },
  {
   "cell_type": "code",
   "execution_count": 10,
   "id": "af6780ee-c8b5-4f7e-8159-630eb315595a",
   "metadata": {},
   "outputs": [
    {
     "name": "stderr",
     "output_type": "stream",
     "text": [
      "100%|███████████████████████████████████████| 1000/1000 [00:47<00:00, 21.02it/s]\n"
     ]
    }
   ],
   "source": [
    "h = 1\n",
    "N = 4\n",
    "L = N*2*(1/6)\n",
    "\n",
    "results = {'method 1': {'configs': [], 'U': []}, 'method 2': {'configs': [], 'U': []}}\n",
    "for i in trange(1000):\n",
    "    P = L*np.random.uniform(size=(N,2))\n",
    "    configs,U = minimize1(P,h,max_iter=int(1e3),track=False)\n",
    "    results['method 1']['configs'].append(configs)\n",
    "    results['method 1']['U'].append(U)\n",
    "    \n",
    "    # configs,U = minimize(P,h,max_iter=int(1e6),track=False)\n",
    "    # results['method 2']['configs'].append(configs)\n",
    "    # results['method 2']['U'].append(U)\n",
    "    \n",
    "for _1 in results:\n",
    "    for _2 in results[_1]:\n",
    "        results[_1][_2] = np.array(results[_1][_2])"
   ]
  },
  {
   "cell_type": "code",
   "execution_count": null,
   "id": "e7c2d909-a6db-4f28-8ecd-b505d1a21cc3",
   "metadata": {},
   "outputs": [],
   "source": [
    "nrows,ncols=1,2\n",
    "fig,ax = plt.subplots(nrows=nrows,ncols=ncols,figsize=(7*ncols,5*nrows))\n",
    "\n",
    "colors = {'method 1': 'r', 'method 2': 'c'}\n",
    "for _ in results:\n",
    "    idxs = np.argsort(results[_]['U'])\n",
    "    configs = results[_]['configs'][idxs]\n",
    "    U = results[_]['U'][idxs]\n",
    "    counts,edges = np.histogram(U,bins=30,range=(-3,-2.9),density=True)\n",
    "    ax[0].stairs(counts,edges,color=colors[_])\n",
    "    \n",
    "    x,y = configs[0].T\n",
    "    ax[1].scatter(x,y,marker='o',s=75,lw=2,color=colors[_],alpha=0.4,edgecolor=colors[_],label=r'$\\rm %s$'%_) \n",
    "    \n",
    "ax[0].set_xlabel(r'$U_{\\rm min}$',size=30)\n",
    "ax[0].set_ylabel(r'$\\rm normalized~yield$',size=30)\n",
    "ax[0].text(s=r'\\boldmath $N = %d$'%N,size=30,x=0.95,y=0.95,va='top',ha='right',transform=ax[0].transAxes)\n",
    "\n",
    "ax[1].set_xlabel(r'$x$',size=30)\n",
    "ax[1].set_ylabel(r'$y$',size=30)\n",
    "\n",
    "scale = 1.05*max(np.amax(np.abs(results['method 1']['configs'])),np.amax(np.abs(results['method 2']['configs'])))\n",
    "ax[1].set_xlim(-scale,scale)\n",
    "ax[1].set_ylim(-scale,scale)\n",
    "ax[1].legend(frameon=False,fontsize=20,loc='upper left')\n",
    "\n",
    "for i in range(2):\n",
    "    ax[i].tick_params(axis='both',which='major',labelsize=20,direction='in')\n",
    "\n",
    "plt.show()\n",
    "fig.savefig(r'batch_min%d.pdf'%N,bbox_inches='tight')"
   ]
  },
  {
   "cell_type": "markdown",
   "id": "1c8b2e6f-ee85-48e5-8f1d-7694ad6bcd7b",
   "metadata": {},
   "source": [
    "# Method 2"
   ]
  },
  {
   "cell_type": "code",
   "execution_count": null,
   "id": "2bc376f9-476e-4e69-99c7-72e00198df9d",
   "metadata": {},
   "outputs": [],
   "source": [
    "h = 0.2\n",
    "L = 2**(1/6)\n",
    "N = 2\n",
    "P = L*np.random.uniform(size=(N,2))\n",
    "max_iter = 100000\n",
    "\n",
    "configs,U = minimize(P,h,max_iter=max_iter,track=True)"
   ]
  },
  {
   "cell_type": "code",
   "execution_count": null,
   "id": "56860389-defe-49a9-bb4f-0320023b3749",
   "metadata": {},
   "outputs": [],
   "source": [
    "nrows,ncols=1,2\n",
    "fig,ax=plt.subplots(nrows=nrows,ncols=ncols,figsize=(7*ncols,5*nrows))\n",
    "\n",
    "x,y = configs[0].T\n",
    "ax[0].scatter(x,y,marker='o',s=75,lw=2,color='k',alpha=0.4,edgecolor='k',label=r'$\\rm initial$')\n",
    "\n",
    "x,y = configs[-1].T\n",
    "ax[0].scatter(x,y,marker='o',s=75,lw=2,color='r',alpha=0.4,edgecolor='r',label=r'$\\rm final$')\n",
    "\n",
    "ax[0].legend(fontsize=20,loc='upper left',frameon=False)\n",
    "ax[0].set_xlabel(r'$x$',size=30)\n",
    "ax[0].set_ylabel(r'$y$',size=30)\n",
    "\n",
    "scale = 1.05*np.amax(np.abs(configs))\n",
    "ax[0].set_xlim(-scale,scale)\n",
    "ax[0].set_ylim(-scale,scale)\n",
    "\n",
    "ax[1].plot(U-1.1*U[-1])\n",
    "ax[1].set_xlabel(r'$\\rm iteration$',size=30)\n",
    "ax[1].set_ylabel(r'$U - 1.1 U_{\\rm min}$',size=30)\n",
    "ax[1].semilogy()\n",
    "ax[1].text(s=r'$U_{\\rm min} = {%.4f}$'%U[-1],size=30,x=0.95,y=0.95,ha='right',va='top',transform=ax[1].transAxes)\n",
    "\n",
    "for i in range(2):\n",
    "    ax[i].tick_params(axis='both',which='major',direction='in',labelsize=20)\n",
    "ax[1].tick_params(axis='both',which='major',direction='in',labelsize=20)\n",
    "\n",
    "plt.tight_layout()\n",
    "plt.show()\n",
    "# fig.savefig(r'method1_track_min%d.pdf'%N,bbox_inches='tight')"
   ]
  },
  {
   "cell_type": "code",
   "execution_count": null,
   "id": "cd41adcd-e66e-4124-96bb-a86c72362e25",
   "metadata": {},
   "outputs": [],
   "source": []
  }
 ],
 "metadata": {
  "kernelspec": {
   "display_name": "Python 3 (ipykernel)",
   "language": "python",
   "name": "python3"
  },
  "language_info": {
   "codemirror_mode": {
    "name": "ipython",
    "version": 3
   },
   "file_extension": ".py",
   "mimetype": "text/x-python",
   "name": "python",
   "nbconvert_exporter": "python",
   "pygments_lexer": "ipython3",
   "version": "3.9.18"
  }
 },
 "nbformat": 4,
 "nbformat_minor": 5
}
