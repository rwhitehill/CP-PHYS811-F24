{
 "cells": [
  {
   "cell_type": "code",
   "execution_count": 3,
   "id": "831ff1d9-7096-4644-8821-dc59b54bd48b",
   "metadata": {},
   "outputs": [],
   "source": [
    "import sys,os\n",
    "import multiprocessing\n",
    "from joblib import Parallel, delayed\n",
    "import time\n",
    "\n",
    "import numpy as np\n",
    "import sympy as sp\n",
    "\n",
    "import matplotlib.pyplot as plt\n",
    "plt.rcParams.update({\n",
    "    'text.latex.preamble': r'\\usepackage{amsmath}',\n",
    "    'text.usetex': True,\n",
    "    'font.family': 'sans-serif',\n",
    "    'font.sans-serif': ['Helvetica']\n",
    "})\n",
    "from matplotlib import cm,colors"
   ]
  },
  {
   "cell_type": "markdown",
   "id": "5efa2308-e21b-4f99-8e07-c1c276f164c5",
   "metadata": {},
   "source": [
    "#### delta source"
   ]
  },
  {
   "cell_type": "markdown",
   "id": "28107ff0-a1ad-417e-b227-4cf040f12cea",
   "metadata": {},
   "source": [
    "math"
   ]
  },
  {
   "cell_type": "code",
   "execution_count": 4,
   "id": "fa8700ed-5174-4861-a1df-0b0848432397",
   "metadata": {},
   "outputs": [
    {
     "data": {
      "text/latex": [
       "$\\displaystyle A = - \\frac{i V_{0} m}{i V_{0} m + k}$"
      ],
      "text/plain": [
       "Eq(A, -I*V_0*m/(I*V_0*m + k))"
      ]
     },
     "metadata": {},
     "output_type": "display_data"
    },
    {
     "data": {
      "text/latex": [
       "$\\displaystyle B = \\frac{k}{i V_{0} m + k}$"
      ],
      "text/plain": [
       "Eq(B, k/(I*V_0*m + k))"
      ]
     },
     "metadata": {},
     "output_type": "display_data"
    },
    {
     "data": {
      "text/latex": [
       "$\\displaystyle \\left|{A}\\right| = \\frac{V_{0} m}{\\sqrt{V_{0}^{2} m^{2} + k^{2}}}$"
      ],
      "text/plain": [
       "Eq(Abs(A), V_0*m/sqrt(V_0**2*m**2 + k**2))"
      ]
     },
     "metadata": {},
     "output_type": "display_data"
    },
    {
     "data": {
      "text/latex": [
       "$\\displaystyle \\tan{\\left(\\chi_{A} \\right)} = - \\frac{k}{V_{0} m}$"
      ],
      "text/plain": [
       "Eq(tan(\\chi_A), -k/(V_0*m))"
      ]
     },
     "metadata": {},
     "output_type": "display_data"
    },
    {
     "data": {
      "text/latex": [
       "$\\displaystyle \\left|{B}\\right| = \\frac{k}{\\sqrt{V_{0}^{2} m^{2} + k^{2}}}$"
      ],
      "text/plain": [
       "Eq(Abs(B), k/sqrt(V_0**2*m**2 + k**2))"
      ]
     },
     "metadata": {},
     "output_type": "display_data"
    },
    {
     "data": {
      "text/latex": [
       "$\\displaystyle \\tan{\\left(\\chi_{B} \\right)} = \\frac{V_{0} m}{k}$"
      ],
      "text/plain": [
       "Eq(tan(\\chi_B), V_0*m/k)"
      ]
     },
     "metadata": {},
     "output_type": "display_data"
    },
    {
     "data": {
      "text/latex": [
       "$\\displaystyle \\chi_{A}'(k) = - \\frac{1}{V_{0} m \\left(\\operatorname{atan}^{2}{\\left(\\frac{k}{V_{0} m} \\right)} + 1\\right)}$"
      ],
      "text/plain": [
       "Eq(\\chi_{A}'(k), -1/(V_0*m*(atan(k/(V_0*m))**2 + 1)))"
      ]
     },
     "metadata": {},
     "output_type": "display_data"
    },
    {
     "data": {
      "text/latex": [
       "$\\displaystyle \\chi_{B}'(k) = - \\frac{V_{0} m}{k^{2} \\left(\\operatorname{atan}^{2}{\\left(\\frac{V_{0} m}{k} \\right)} + 1\\right)}$"
      ],
      "text/plain": [
       "Eq(\\chi_{B}'(k), -V_0*m/(k**2*(atan(V_0*m/k)**2 + 1)))"
      ]
     },
     "metadata": {},
     "output_type": "display_data"
    }
   ],
   "source": [
    "x      = sp.symbols(r'x',real=True)\n",
    "m,k,V0 = sp.symbols(r'm k V_0',real=True,positive=True)\n",
    "A,B    = sp.symbols(r'A B')\n",
    "\n",
    "psi_l = sp.exp(sp.I*k*x) + A*sp.exp(-sp.I*k*x)\n",
    "psi_r = B*sp.exp(sp.I*k*x)\n",
    "\n",
    "BC1 = sp.Eq(psi_l.subs(x,0),psi_r.subs(x,0))\n",
    "BC2 = sp.Eq(psi_r.diff(x).subs(x,0) - psi_l.diff(x).subs(x,0),2*m*V0*psi_r.subs(x,0))\n",
    "\n",
    "sol = sp.solve([BC1,BC2],[A,B],dict=True)[0]\n",
    "A_  = sol[A]\n",
    "B_  = sol[B]\n",
    "\n",
    "display(sp.Eq(A,A_))\n",
    "display(sp.Eq(B,B_))\n",
    "\n",
    "A_abs = sp.Abs(A_)\n",
    "B_abs = sp.Abs(B_)\n",
    "tan_chi_A = -sp.im(A_)/sp.re(A_)\n",
    "tan_chi_B = -sp.im(B_)/sp.re(B_)\n",
    "\n",
    "display(sp.Eq(sp.Abs(A),A_abs))\n",
    "display(sp.Eq(sp.tan(sp.Symbol(r'\\chi_A')),tan_chi_A))\n",
    "display(sp.Eq(sp.Abs(B),B_abs))\n",
    "display(sp.Eq(sp.tan(sp.Symbol(r'\\chi_B')),tan_chi_B))\n",
    "\n",
    "display(sp.Eq(sp.Symbol(r\"\\chi_{A}'(k)\"),tan_chi_A.diff(k)/(1 + sp.atan(tan_chi_A)**2)))\n",
    "display(sp.Eq(sp.Symbol(r\"\\chi_{B}'(k)\"),tan_chi_B.diff(k)/(1 + sp.atan(tan_chi_B)**2)))"
   ]
  },
  {
   "cell_type": "code",
   "execution_count": 5,
   "id": "e14b94ff-6588-4713-9a93-2c812753bdc5",
   "metadata": {},
   "outputs": [
    {
     "data": {
      "image/png": "[encoded data removed]",
      "text/plain": [
       "<Figure size 504x360 with 1 Axes>"
      ]
     },
     "metadata": {
      "needs_background": "light"
     },
     "output_type": "display_data"
    }
   ],
   "source": [
    "nrows,ncols = 1,1\n",
    "fig,ax = plt.subplots(nrows=nrows,ncols=ncols,figsize=(7*ncols,5*nrows))\n",
    "\n",
    "V0 = 1\n",
    "k  = np.linspace(0,10,1000)\n",
    "B  = k/(k + complex(0,1)*V0)\n",
    "\n",
    "ax.plot(k,np.abs(B)**2,'r')\n",
    "# ax.axhline(1,color='k',ls='-.')\n",
    "\n",
    "ax.set_xlabel(r'$k/m$',size=30)\n",
    "ax.set_ylabel(r'$|B(k)|^2$',size=30)\n",
    "ax.tick_params(axis='both',which='major',labelsize=20,direction='in')\n",
    "ax.set_xlim(0,10)\n",
    "ax.set_ylim(0,1)\n",
    "\n",
    "plt.show()"
   ]
  },
  {
   "cell_type": "markdown",
   "id": "a42f9dbf-a63c-46b9-9439-8d6149d3ddf7",
   "metadata": {},
   "source": [
    "#### square barrier"
   ]
  },
  {
   "cell_type": "markdown",
   "id": "1680223d-f1a6-4afd-8cee-b2a151ed1e3c",
   "metadata": {},
   "source": [
    "math"
   ]
  },
  {
   "cell_type": "code",
   "execution_count": 8,
   "id": "5a80a03f-9459-4b11-8218-d399901d8525",
   "metadata": {},
   "outputs": [
    {
     "data": {
      "text/latex": [
       "$\\displaystyle A = - \\frac{i \\left(\\kappa^{2} + k^{2}\\right) \\sinh{\\left(\\kappa a \\right)}}{2 \\kappa k \\cosh{\\left(\\kappa a \\right)} + i \\left(\\kappa^{2} - k^{2}\\right) \\sinh{\\left(\\kappa a \\right)}}$"
      ],
      "text/plain": [
       "Eq(A, -I*(\\kappa**2 + k**2)*sinh(\\kappa*a)/(2*\\kappa*k*cosh(\\kappa*a) + I*(\\kappa**2 - k**2)*sinh(\\kappa*a)))"
      ]
     },
     "metadata": {},
     "output_type": "display_data"
    },
    {
     "data": {
      "text/latex": [
       "$\\displaystyle B = \\frac{2 \\kappa k e^{- i a k}}{2 \\kappa k \\cosh{\\left(\\kappa a \\right)} + i \\left(\\kappa^{2} - k^{2}\\right) \\sinh{\\left(\\kappa a \\right)}}$"
      ],
      "text/plain": [
       "Eq(B, 2*\\kappa*k*exp(-I*a*k)/(2*\\kappa*k*cosh(\\kappa*a) + I*(\\kappa**2 - k**2)*sinh(\\kappa*a)))"
      ]
     },
     "metadata": {},
     "output_type": "display_data"
    },
    {
     "data": {
      "text/latex": [
       "$\\displaystyle \\left|{A}\\right| = \\frac{\\left(\\kappa^{2} + k^{2}\\right) \\sinh{\\left(\\kappa a \\right)}}{\\sqrt{\\kappa^{4} \\sinh^{2}{\\left(\\kappa a \\right)} + 2 \\kappa^{2} k^{2} \\sinh^{2}{\\left(\\kappa a \\right)} + 4 \\kappa^{2} k^{2} + k^{4} \\sinh^{2}{\\left(\\kappa a \\right)}}}$"
      ],
      "text/plain": [
       "Eq(Abs(A), (\\kappa**2 + k**2)*sinh(\\kappa*a)/sqrt(\\kappa**4*sinh(\\kappa*a)**2 + 2*\\kappa**2*k**2*sinh(\\kappa*a)**2 + 4*\\kappa**2*k**2 + k**4*sinh(\\kappa*a)**2))"
      ]
     },
     "metadata": {},
     "output_type": "display_data"
    },
    {
     "data": {
      "text/latex": [
       "$\\displaystyle \\left|{B}\\right| = \\frac{2 \\kappa k}{\\sqrt{\\kappa^{4} \\sinh^{2}{\\left(\\kappa a \\right)} + 2 \\kappa^{2} k^{2} \\sinh^{2}{\\left(\\kappa a \\right)} + 4 \\kappa^{2} k^{2} + k^{4} \\sinh^{2}{\\left(\\kappa a \\right)}}}$"
      ],
      "text/plain": [
       "Eq(Abs(B), 2*\\kappa*k/sqrt(\\kappa**4*sinh(\\kappa*a)**2 + 2*\\kappa**2*k**2*sinh(\\kappa*a)**2 + 4*\\kappa**2*k**2 + k**4*sinh(\\kappa*a)**2))"
      ]
     },
     "metadata": {},
     "output_type": "display_data"
    }
   ],
   "source": [
    "# E < V0\n",
    "x       = sp.symbols(r'x',real=True)\n",
    "a,m,V0  = sp.symbols(r'a m V_0',real=True,positive=True)\n",
    "k,kappa = sp.symbols(r'k \\kappa',real=True,positive=True)\n",
    "A,B,C,D = sp.symbols(r'A B C D')\n",
    "\n",
    "psi_l = sp.exp(sp.I*k*x) + A*sp.exp(-sp.I*k*x)\n",
    "psi_m = C*sp.cosh(kappa*x) + D*sp.sinh(kappa*x)\n",
    "psi_r = B*sp.exp(sp.I*k*x)\n",
    "\n",
    "BC1 = sp.Eq(psi_l.subs(x,0),psi_m.subs(x,0))\n",
    "BC2 = sp.Eq(psi_l.diff(x).subs(x,0),psi_m.diff(x).subs(x,0))\n",
    "BC3 = sp.Eq(psi_m.subs(x,a),psi_r.subs(x,a))\n",
    "BC4 = sp.Eq(psi_m.diff(x).subs(x,a),psi_r.diff(x).subs(x,a))\n",
    "\n",
    "sol = sp.solve([BC1,BC2,BC3,BC4],[A,B,C,D],dict=True)[0]\n",
    "A_  = sol[A].simplify()\n",
    "B_  = sol[B].simplify()\n",
    "\n",
    "display(sp.Eq(A,A_))\n",
    "display(sp.Eq(B,B_))\n",
    "\n",
    "A_abs = sp.Abs(A_).simplify()\n",
    "B_abs = sp.Abs(B_).simplify()\n",
    "tan_chi_A = -sp.im(A_)/sp.re(A_)\n",
    "tan_chi_B = -sp.im(B_)/sp.re(B_)\n",
    "\n",
    "display(sp.Eq(sp.Abs(A),A_abs))\n",
    "# display(sp.Eq(sp.tan(sp.Symbol(r'\\chi_A')),tan_chi_A))\n",
    "display(sp.Eq(sp.Abs(B),B_abs))\n",
    "# display(sp.Eq(sp.tan(sp.Symbol(r'\\chi_B')),tan_chi_B))\n",
    "\n",
    "# display(sp.Eq(sp.Symbol(r\"\\chi_{A}'(k)\"),tan_chi_A.diff(k)/(1 + sp.atan(tan_chi_A)**2)))\n",
    "# display(sp.Eq(sp.Symbol(r\"\\chi_{B}'(k)\"),tan_chi_B.diff(k)/(1 + sp.atan(tan_chi_B)**2)))"
   ]
  },
  {
   "cell_type": "code",
   "execution_count": 9,
   "id": "58c81713-e42b-43a7-806b-45b5c3dd70ed",
   "metadata": {},
   "outputs": [
    {
     "data": {
      "text/latex": [
       "$\\displaystyle A = \\frac{\\left(k^{2} - k'^{2}\\right) \\sin{\\left(a k' \\right)}}{k^{2} \\sin{\\left(a k' \\right)} + 2 i k k' \\cos{\\left(a k' \\right)} + k'^{2} \\sin{\\left(a k' \\right)}}$"
      ],
      "text/plain": [
       "Eq(A, (k**2 - k'**2)*sin(a*k')/(k**2*sin(a*k') + 2*I*k*k'*cos(a*k') + k'**2*sin(a*k')))"
      ]
     },
     "metadata": {},
     "output_type": "display_data"
    },
    {
     "data": {
      "text/latex": [
       "$\\displaystyle B = \\frac{2 i k k' e^{- i a k}}{k^{2} \\sin{\\left(a k' \\right)} + 2 i k k' \\cos{\\left(a k' \\right)} + k'^{2} \\sin{\\left(a k' \\right)}}$"
      ],
      "text/plain": [
       "Eq(B, 2*I*k*k'*exp(-I*a*k)/(k**2*sin(a*k') + 2*I*k*k'*cos(a*k') + k'**2*sin(a*k')))"
      ]
     },
     "metadata": {},
     "output_type": "display_data"
    },
    {
     "data": {
      "text/latex": [
       "$\\displaystyle \\left|{A}\\right| = \\frac{\\left|{\\left(k^{2} - k'^{2}\\right) \\sin{\\left(a k' \\right)}}\\right|}{\\sqrt{k^{4} \\sin^{2}{\\left(a k' \\right)} - 2 k^{2} k'^{2} \\sin^{2}{\\left(a k' \\right)} + 4 k^{2} k'^{2} + k'^{4} \\sin^{2}{\\left(a k' \\right)}}}$"
      ],
      "text/plain": [
       "Eq(Abs(A), Abs((k**2 - k'**2)*sin(a*k'))/sqrt(k**4*sin(a*k')**2 - 2*k**2*k'**2*sin(a*k')**2 + 4*k**2*k'**2 + k'**4*sin(a*k')**2))"
      ]
     },
     "metadata": {},
     "output_type": "display_data"
    },
    {
     "data": {
      "text/latex": [
       "$\\displaystyle \\left|{B}\\right| = \\frac{2 k k'}{\\sqrt{k^{4} \\sin^{2}{\\left(a k' \\right)} - 2 k^{2} k'^{2} \\sin^{2}{\\left(a k' \\right)} + 4 k^{2} k'^{2} + k'^{4} \\sin^{2}{\\left(a k' \\right)}}}$"
      ],
      "text/plain": [
       "Eq(Abs(B), 2*k*k'/sqrt(k**4*sin(a*k')**2 - 2*k**2*k'**2*sin(a*k')**2 + 4*k**2*k'**2 + k'**4*sin(a*k')**2))"
      ]
     },
     "metadata": {},
     "output_type": "display_data"
    }
   ],
   "source": [
    "# E > V0\n",
    "x       = sp.symbols(r'x',real=True)\n",
    "a,m,V0  = sp.symbols(r'a m V_0',real=True,positive=True)\n",
    "k,kp    = sp.symbols(r\"k k'\",real=True,positive=True)\n",
    "A,B,C,D = sp.symbols(r'A B C D')\n",
    "\n",
    "psi_l = sp.exp(sp.I*k*x) + A*sp.exp(-sp.I*k*x)\n",
    "psi_m = C*sp.cos(kp*x) + D*sp.sin(kp*x)\n",
    "psi_r = B*sp.exp(sp.I*k*x)\n",
    "\n",
    "BC1 = sp.Eq(psi_l.subs(x,0),psi_m.subs(x,0))\n",
    "BC2 = sp.Eq(psi_l.diff(x).subs(x,0),psi_m.diff(x).subs(x,0))\n",
    "BC3 = sp.Eq(psi_m.subs(x,a),psi_r.subs(x,a))\n",
    "BC4 = sp.Eq(psi_m.diff(x).subs(x,a),psi_r.diff(x).subs(x,a))\n",
    "\n",
    "sol = sp.solve([BC1,BC2,BC3,BC4],[A,B,C,D],dict=True)[0]\n",
    "A_  = sol[A].simplify()\n",
    "B_  = sol[B].simplify()\n",
    "\n",
    "display(sp.Eq(A,A_))\n",
    "display(sp.Eq(B,B_))\n",
    "\n",
    "A_abs = sp.Abs(A_).simplify()\n",
    "B_abs = sp.Abs(B_).simplify()\n",
    "tan_chi_A = -sp.im(A_)/sp.re(A_)\n",
    "tan_chi_B = -sp.im(B_)/sp.re(B_)\n",
    "\n",
    "display(sp.Eq(sp.Abs(A),A_abs))\n",
    "# display(sp.Eq(sp.tan(sp.Symbol(r'\\chi_A')),tan_chi_A))\n",
    "display(sp.Eq(sp.Abs(B),B_abs))\n",
    "# display(sp.Eq(sp.tan(sp.Symbol(r'\\chi_B')),tan_chi_B))\n",
    "\n",
    "# display(sp.Eq(sp.Symbol(r\"\\chi_{A}'(k)\"),tan_chi_A.diff(k)/(1 + sp.atan(tan_chi_A)**2)))\n",
    "# display(sp.Eq(sp.Symbol(r\"\\chi_{B}'(k)\"),tan_chi_B.diff(k)/(1 + sp.atan(tan_chi_B)**2)))"
   ]
  },
  {
   "cell_type": "code",
   "execution_count": 10,
   "id": "3be325a4-be6d-4a22-beec-9f31018042c9",
   "metadata": {},
   "outputs": [
    {
     "data": {
      "text/latex": [
       "$\\displaystyle A = \\frac{a k}{a k + 2 i}$"
      ],
      "text/plain": [
       "Eq(A, a*k/(a*k + 2*I))"
      ]
     },
     "metadata": {},
     "output_type": "display_data"
    },
    {
     "data": {
      "text/latex": [
       "$\\displaystyle B = \\frac{2 i e^{- i a k}}{a k + 2 i}$"
      ],
      "text/plain": [
       "Eq(B, 2*I*exp(-I*a*k)/(a*k + 2*I))"
      ]
     },
     "metadata": {},
     "output_type": "display_data"
    },
    {
     "data": {
      "text/latex": [
       "$\\displaystyle \\left|{A}\\right| = \\frac{a k}{\\sqrt{a^{2} k^{2} + 4}}$"
      ],
      "text/plain": [
       "Eq(Abs(A), a*k/sqrt(a**2*k**2 + 4))"
      ]
     },
     "metadata": {},
     "output_type": "display_data"
    },
    {
     "data": {
      "text/latex": [
       "$\\displaystyle \\left|{B}\\right| = \\frac{2}{\\sqrt{a^{2} k^{2} + 4}}$"
      ],
      "text/plain": [
       "Eq(Abs(B), 2/sqrt(a**2*k**2 + 4))"
      ]
     },
     "metadata": {},
     "output_type": "display_data"
    }
   ],
   "source": [
    "# E = V0\n",
    "x       = sp.symbols(r'x',real=True)\n",
    "a,m,V0  = sp.symbols(r'a m V_0',real=True,positive=True)\n",
    "k,kp    = sp.symbols(r\"k k'\",real=True,positive=True)\n",
    "A,B,C,D = sp.symbols(r'A B C D')\n",
    "\n",
    "psi_l = sp.exp(sp.I*k*x) + A*sp.exp(-sp.I*k*x)\n",
    "psi_m = C + D*x\n",
    "psi_r = B*sp.exp(sp.I*k*x)\n",
    "\n",
    "BC1 = sp.Eq(psi_l.subs(x,0),psi_m.subs(x,0))\n",
    "BC2 = sp.Eq(psi_l.diff(x).subs(x,0),psi_m.diff(x).subs(x,0))\n",
    "BC3 = sp.Eq(psi_m.subs(x,a),psi_r.subs(x,a))\n",
    "BC4 = sp.Eq(psi_m.diff(x).subs(x,a),psi_r.diff(x).subs(x,a))\n",
    "\n",
    "sol = sp.solve([BC1,BC2,BC3,BC4],[A,B,C,D],dict=True)[0]\n",
    "A_  = sol[A].simplify()\n",
    "B_  = sol[B].simplify()\n",
    "\n",
    "display(sp.Eq(A,A_))\n",
    "display(sp.Eq(B,B_))\n",
    "\n",
    "A_abs = sp.Abs(A_).simplify()\n",
    "B_abs = sp.Abs(B_).simplify()\n",
    "tan_chi_A = -sp.im(A_)/sp.re(A_)\n",
    "tan_chi_B = -sp.im(B_)/sp.re(B_)\n",
    "\n",
    "display(sp.Eq(sp.Abs(A),A_abs))\n",
    "# display(sp.Eq(sp.tan(sp.Symbol(r'\\chi_A')),tan_chi_A))\n",
    "display(sp.Eq(sp.Abs(B),B_abs))\n",
    "# display(sp.Eq(sp.tan(sp.Symbol(r'\\chi_B')),tan_chi_B))\n",
    "\n",
    "# display(sp.Eq(sp.Symbol(r\"\\chi_{A}'(k)\"),tan_chi_A.diff(k)/(1 + sp.atan(tan_chi_A)**2)))\n",
    "# display(sp.Eq(sp.Symbol(r\"\\chi_{B}'(k)\"),tan_chi_B.diff(k)/(1 + sp.atan(tan_chi_B)**2)))"
   ]
  },
  {
   "cell_type": "code",
   "execution_count": 63,
   "id": "458ea567-0e6c-485f-b9fa-bf6c350ad628",
   "metadata": {},
   "outputs": [],
   "source": [
    "def A2(k,m=1,V0=1,a=1):\n",
    "    if k**2 < 2*V0:\n",
    "        kappa = np.sqrt(2*m*V0-k**2)\n",
    "        return 4*m**2*V0**2*np.sinh(kappa*a)**2/(4*kappa**2*k**2 + 4*m**2*V0**2*np.sinh(kappa*a)**2)\n",
    "    elif k**2 == 2*V0:\n",
    "        return k**2*a**2/(4 + a**2*k**2)\n",
    "    else:\n",
    "        kp = np.sqrt(k**2 - 2*m*V0)\n",
    "        return 4*m**2*V0**2*np.sin(kp*a)**2/(4*kp**2*k**2 + 4*m**2*V0**2*np.sin(kp*a)**2)"
   ]
  },
  {
   "cell_type": "code",
   "execution_count": 64,
   "id": "ea594ee5-da59-4307-862a-669c4a978c5f",
   "metadata": {},
   "outputs": [
    {
     "data": {
      "image/png": "[encoded data removed]",
      "text/plain": [
       "<Figure size 504x360 with 1 Axes>"
      ]
     },
     "metadata": {
      "needs_background": "light"
     },
     "output_type": "display_data"
    }
   ],
   "source": [
    "nrows,ncols = 1,1\n",
    "fig,ax = plt.subplots(nrows=nrows,ncols=ncols,figsize=(7*ncols,5*nrows))\n",
    "\n",
    "k   = np.linspace(0,10,1000)\n",
    "A2_ = np.array([A2(_,V0=1,a=5) for _ in k])\n",
    "\n",
    "ax.plot(k,1-A2_,'r')\n",
    "ax.axhline(1,color='k',ls='-.')\n",
    "\n",
    "ax.set_xlabel(r'$k/m$',size=30)\n",
    "ax.set_ylabel(r'$|A(k)|^2$',size=30)\n",
    "ax.tick_params(axis='both',which='major',labelsize=20,direction='in')\n",
    "ax.set_xlim(0,10)\n",
    "ax.set_ylim(-0.01,None)\n",
    "\n",
    "plt.show()"
   ]
  },
  {
   "cell_type": "markdown",
   "id": "d243e052-b043-4d93-946d-622eaadb0290",
   "metadata": {},
   "source": [
    "numerics"
   ]
  },
  {
   "cell_type": "code",
   "execution_count": 46,
   "id": "3cd1e754-0c07-4732-b520-503f19f3a458",
   "metadata": {},
   "outputs": [],
   "source": [
    "def V(x,a=1,V0=1):\n",
    "    return V0*(x > 0)*(x < a)"
   ]
  },
  {
   "cell_type": "code",
   "execution_count": 47,
   "id": "fd1b3391-61b9-434e-95a0-f21188df8e9e",
   "metadata": {},
   "outputs": [],
   "source": [
    "def get_RT(k,m=1,sig_x=10,x0=-30,xm=100,N=5000,V0=1,a=1,dt=0.001,max_iter=int(1e5),tol=1e-3):\n",
    "    x  = np.linspace(-xm,xm,N)\n",
    "    dx = x[1] - x[0]\n",
    "    li = x < 0\n",
    "    ri = x > a\n",
    "    \n",
    "    psi0 = Psi0_gwp(x,m=m,sig=sig_x,k=k,x0=x0)\n",
    "    for i in range(max_iter):\n",
    "        psi  = U_psi_ft(dt,x,psi0,m=m,V=lambda t: V(t,a=a,V0=V0))\n",
    "        drho = dx*np.abs(psi)**2\n",
    "        \n",
    "        R = np.sum(drho[li])\n",
    "        T = np.sum(drho[ri])\n",
    "        \n",
    "        if 1 - (R + T) < tol and (k*i*dt/m + x0) > 0:\n",
    "            # print(i)\n",
    "            break\n",
    "        else:\n",
    "            psi0 = psi.copy()\n",
    "    \n",
    "    # t = i*dt\n",
    "    # print(t**2/(8*sig_x**4*m**2))\n",
    "            \n",
    "    return np.array([R,T])"
   ]
  },
  {
   "cell_type": "code",
   "execution_count": 50,
   "id": "21d69b36-6a5d-460f-b564-1ab3e3f1e147",
   "metadata": {},
   "outputs": [],
   "source": [
    "m    = 10\n",
    "V0,a = 2,3\n",
    "k    = np.linspace(1,10,10)\n",
    "\n",
    "results = Parallel(n_jobs=7)(delayed(get_RT)(_,m=m,N=10000,dt=0.01,V0=V0,a=a) for _ in k)\n",
    "R,T = np.array(results).T\n",
    "\n",
    "# R,T  = np.array([get_RT(_,V0=V0,a=a) for _ in k]).T\n",
    "# print(T)"
   ]
  },
  {
   "cell_type": "code",
   "execution_count": 60,
   "id": "135776f1-756f-41ce-b107-201f02e84ead",
   "metadata": {},
   "outputs": [
    {
     "name": "stderr",
     "output_type": "stream",
     "text": [
      "/var/folders/_b/29vq0z955j77svdys97cr5p40000gn/T/ipykernel_79632/4230753817.py:8: RuntimeWarning: invalid value encountered in sqrt\n",
      "  kp = np.sqrt(k**2 - 2*m*V0)\n"
     ]
    },
    {
     "ename": "ValueError",
     "evalue": "x and y must have same first dimension, but have shapes (1000,) and (10,)",
     "output_type": "error",
     "traceback": [
      "\u001b[0;31m---------------------------------------------------------------------------\u001b[0m",
      "\u001b[0;31mValueError\u001b[0m                                Traceback (most recent call last)",
      "\u001b[0;32m/var/folders/_b/29vq0z955j77svdys97cr5p40000gn/T/ipykernel_79632/3339339068.py\u001b[0m in \u001b[0;36m<module>\u001b[0;34m\u001b[0m\n\u001b[1;32m      5\u001b[0m \u001b[0mTe_\u001b[0m \u001b[0;34m=\u001b[0m \u001b[0mnp\u001b[0m\u001b[0;34m.\u001b[0m\u001b[0marray\u001b[0m\u001b[0;34m(\u001b[0m\u001b[0;34m[\u001b[0m\u001b[0;36m1\u001b[0m \u001b[0;34m-\u001b[0m \u001b[0mA2\u001b[0m\u001b[0;34m(\u001b[0m\u001b[0m_\u001b[0m\u001b[0;34m,\u001b[0m\u001b[0mm\u001b[0m\u001b[0;34m=\u001b[0m\u001b[0mm\u001b[0m\u001b[0;34m,\u001b[0m\u001b[0mV0\u001b[0m\u001b[0;34m=\u001b[0m\u001b[0mV0\u001b[0m\u001b[0;34m,\u001b[0m\u001b[0ma\u001b[0m\u001b[0;34m=\u001b[0m\u001b[0ma\u001b[0m\u001b[0;34m)\u001b[0m \u001b[0;32mfor\u001b[0m \u001b[0m_\u001b[0m \u001b[0;32min\u001b[0m \u001b[0mke\u001b[0m\u001b[0;34m]\u001b[0m\u001b[0;34m)\u001b[0m\u001b[0;34m\u001b[0m\u001b[0;34m\u001b[0m\u001b[0m\n\u001b[1;32m      6\u001b[0m \u001b[0max\u001b[0m\u001b[0;34m[\u001b[0m\u001b[0;36m0\u001b[0m\u001b[0;34m]\u001b[0m\u001b[0;34m.\u001b[0m\u001b[0mplot\u001b[0m\u001b[0;34m(\u001b[0m\u001b[0mke\u001b[0m\u001b[0;34m,\u001b[0m\u001b[0mTe_\u001b[0m\u001b[0;34m,\u001b[0m\u001b[0;34m'r-'\u001b[0m\u001b[0;34m,\u001b[0m\u001b[0mlabel\u001b[0m\u001b[0;34m=\u001b[0m\u001b[0;34mr'${\\rm exact}$'\u001b[0m\u001b[0;34m)\u001b[0m\u001b[0;34m\u001b[0m\u001b[0;34m\u001b[0m\u001b[0m\n\u001b[0;32m----> 7\u001b[0;31m \u001b[0max\u001b[0m\u001b[0;34m[\u001b[0m\u001b[0;36m0\u001b[0m\u001b[0;34m]\u001b[0m\u001b[0;34m.\u001b[0m\u001b[0mplot\u001b[0m\u001b[0;34m(\u001b[0m\u001b[0mk\u001b[0m\u001b[0;34m,\u001b[0m\u001b[0mT\u001b[0m\u001b[0;34m,\u001b[0m\u001b[0mcolor\u001b[0m\u001b[0;34m=\u001b[0m\u001b[0;34m'k'\u001b[0m\u001b[0;34m,\u001b[0m\u001b[0mls\u001b[0m\u001b[0;34m=\u001b[0m\u001b[0;34m'None'\u001b[0m\u001b[0;34m,\u001b[0m\u001b[0mmarker\u001b[0m\u001b[0;34m=\u001b[0m\u001b[0;34m'.'\u001b[0m\u001b[0;34m,\u001b[0m\u001b[0mmarkersize\u001b[0m\u001b[0;34m=\u001b[0m\u001b[0;36m10\u001b[0m\u001b[0;34m,\u001b[0m\u001b[0mlabel\u001b[0m\u001b[0;34m=\u001b[0m\u001b[0;34mr'$\\rm numeric$'\u001b[0m\u001b[0;34m)\u001b[0m\u001b[0;34m\u001b[0m\u001b[0;34m\u001b[0m\u001b[0m\n\u001b[0m\u001b[1;32m      8\u001b[0m \u001b[0;34m\u001b[0m\u001b[0m\n\u001b[1;32m      9\u001b[0m \u001b[0max\u001b[0m\u001b[0;34m[\u001b[0m\u001b[0;36m0\u001b[0m\u001b[0;34m]\u001b[0m\u001b[0;34m.\u001b[0m\u001b[0mset_ylabel\u001b[0m\u001b[0;34m(\u001b[0m\u001b[0;34mr'$|B(k)|^2$'\u001b[0m\u001b[0;34m,\u001b[0m\u001b[0msize\u001b[0m\u001b[0;34m=\u001b[0m\u001b[0;36m30\u001b[0m\u001b[0;34m)\u001b[0m\u001b[0;34m\u001b[0m\u001b[0;34m\u001b[0m\u001b[0m\n",
      "\u001b[0;32m/opt/homebrew/lib/python3.9/site-packages/matplotlib/axes/_axes.py\u001b[0m in \u001b[0;36mplot\u001b[0;34m(self, scalex, scaley, data, *args, **kwargs)\u001b[0m\n\u001b[1;32m   1630\u001b[0m         \"\"\"\n\u001b[1;32m   1631\u001b[0m         \u001b[0mkwargs\u001b[0m \u001b[0;34m=\u001b[0m \u001b[0mcbook\u001b[0m\u001b[0;34m.\u001b[0m\u001b[0mnormalize_kwargs\u001b[0m\u001b[0;34m(\u001b[0m\u001b[0mkwargs\u001b[0m\u001b[0;34m,\u001b[0m \u001b[0mmlines\u001b[0m\u001b[0;34m.\u001b[0m\u001b[0mLine2D\u001b[0m\u001b[0;34m)\u001b[0m\u001b[0;34m\u001b[0m\u001b[0;34m\u001b[0m\u001b[0m\n\u001b[0;32m-> 1632\u001b[0;31m         \u001b[0mlines\u001b[0m \u001b[0;34m=\u001b[0m \u001b[0;34m[\u001b[0m\u001b[0;34m*\u001b[0m\u001b[0mself\u001b[0m\u001b[0;34m.\u001b[0m\u001b[0m_get_lines\u001b[0m\u001b[0;34m(\u001b[0m\u001b[0;34m*\u001b[0m\u001b[0margs\u001b[0m\u001b[0;34m,\u001b[0m \u001b[0mdata\u001b[0m\u001b[0;34m=\u001b[0m\u001b[0mdata\u001b[0m\u001b[0;34m,\u001b[0m \u001b[0;34m**\u001b[0m\u001b[0mkwargs\u001b[0m\u001b[0;34m)\u001b[0m\u001b[0;34m]\u001b[0m\u001b[0;34m\u001b[0m\u001b[0;34m\u001b[0m\u001b[0m\n\u001b[0m\u001b[1;32m   1633\u001b[0m         \u001b[0;32mfor\u001b[0m \u001b[0mline\u001b[0m \u001b[0;32min\u001b[0m \u001b[0mlines\u001b[0m\u001b[0;34m:\u001b[0m\u001b[0;34m\u001b[0m\u001b[0;34m\u001b[0m\u001b[0m\n\u001b[1;32m   1634\u001b[0m             \u001b[0mself\u001b[0m\u001b[0;34m.\u001b[0m\u001b[0madd_line\u001b[0m\u001b[0;34m(\u001b[0m\u001b[0mline\u001b[0m\u001b[0;34m)\u001b[0m\u001b[0;34m\u001b[0m\u001b[0;34m\u001b[0m\u001b[0m\n",
      "\u001b[0;32m/opt/homebrew/lib/python3.9/site-packages/matplotlib/axes/_base.py\u001b[0m in \u001b[0;36m__call__\u001b[0;34m(self, data, *args, **kwargs)\u001b[0m\n\u001b[1;32m    310\u001b[0m                 \u001b[0mthis\u001b[0m \u001b[0;34m+=\u001b[0m \u001b[0margs\u001b[0m\u001b[0;34m[\u001b[0m\u001b[0;36m0\u001b[0m\u001b[0;34m]\u001b[0m\u001b[0;34m,\u001b[0m\u001b[0;34m\u001b[0m\u001b[0;34m\u001b[0m\u001b[0m\n\u001b[1;32m    311\u001b[0m                 \u001b[0margs\u001b[0m \u001b[0;34m=\u001b[0m \u001b[0margs\u001b[0m\u001b[0;34m[\u001b[0m\u001b[0;36m1\u001b[0m\u001b[0;34m:\u001b[0m\u001b[0;34m]\u001b[0m\u001b[0;34m\u001b[0m\u001b[0;34m\u001b[0m\u001b[0m\n\u001b[0;32m--> 312\u001b[0;31m             \u001b[0;32myield\u001b[0m \u001b[0;32mfrom\u001b[0m \u001b[0mself\u001b[0m\u001b[0;34m.\u001b[0m\u001b[0m_plot_args\u001b[0m\u001b[0;34m(\u001b[0m\u001b[0mthis\u001b[0m\u001b[0;34m,\u001b[0m \u001b[0mkwargs\u001b[0m\u001b[0;34m)\u001b[0m\u001b[0;34m\u001b[0m\u001b[0;34m\u001b[0m\u001b[0m\n\u001b[0m\u001b[1;32m    313\u001b[0m \u001b[0;34m\u001b[0m\u001b[0m\n\u001b[1;32m    314\u001b[0m     \u001b[0;32mdef\u001b[0m \u001b[0mget_next_color\u001b[0m\u001b[0;34m(\u001b[0m\u001b[0mself\u001b[0m\u001b[0;34m)\u001b[0m\u001b[0;34m:\u001b[0m\u001b[0;34m\u001b[0m\u001b[0;34m\u001b[0m\u001b[0m\n",
      "\u001b[0;32m/opt/homebrew/lib/python3.9/site-packages/matplotlib/axes/_base.py\u001b[0m in \u001b[0;36m_plot_args\u001b[0;34m(self, tup, kwargs, return_kwargs)\u001b[0m\n\u001b[1;32m    496\u001b[0m \u001b[0;34m\u001b[0m\u001b[0m\n\u001b[1;32m    497\u001b[0m         \u001b[0;32mif\u001b[0m \u001b[0mx\u001b[0m\u001b[0;34m.\u001b[0m\u001b[0mshape\u001b[0m\u001b[0;34m[\u001b[0m\u001b[0;36m0\u001b[0m\u001b[0;34m]\u001b[0m \u001b[0;34m!=\u001b[0m \u001b[0my\u001b[0m\u001b[0;34m.\u001b[0m\u001b[0mshape\u001b[0m\u001b[0;34m[\u001b[0m\u001b[0;36m0\u001b[0m\u001b[0;34m]\u001b[0m\u001b[0;34m:\u001b[0m\u001b[0;34m\u001b[0m\u001b[0;34m\u001b[0m\u001b[0m\n\u001b[0;32m--> 498\u001b[0;31m             raise ValueError(f\"x and y must have same first dimension, but \"\n\u001b[0m\u001b[1;32m    499\u001b[0m                              f\"have shapes {x.shape} and {y.shape}\")\n\u001b[1;32m    500\u001b[0m         \u001b[0;32mif\u001b[0m \u001b[0mx\u001b[0m\u001b[0;34m.\u001b[0m\u001b[0mndim\u001b[0m \u001b[0;34m>\u001b[0m \u001b[0;36m2\u001b[0m \u001b[0;32mor\u001b[0m \u001b[0my\u001b[0m\u001b[0;34m.\u001b[0m\u001b[0mndim\u001b[0m \u001b[0;34m>\u001b[0m \u001b[0;36m2\u001b[0m\u001b[0;34m:\u001b[0m\u001b[0;34m\u001b[0m\u001b[0;34m\u001b[0m\u001b[0m\n",
      "\u001b[0;31mValueError\u001b[0m: x and y must have same first dimension, but have shapes (1000,) and (10,)"
     ]
    },
    {
     "data": {
      "image/png": "[encoded data removed]",
      "text/plain": [
       "<Figure size 504x504 with 2 Axes>"
      ]
     },
     "metadata": {
      "needs_background": "light"
     },
     "output_type": "display_data"
    }
   ],
   "source": [
    "nrows,ncols = 2,1\n",
    "fig,ax = plt.subplots(nrows=nrows,ncols=ncols,figsize=(7,7),gridspec_kw={'height_ratios':[6,2]})\n",
    "\n",
    "ke  = np.linspace(1,10,1000)\n",
    "Te_ = np.array([1 - A2(_,m=m,V0=V0,a=a) for _ in ke])\n",
    "ax[0].plot(ke,Te_,'r-',label=r'${\\rm exact}$')\n",
    "ax[0].plot(k,T,color='k',ls='None',marker='.',markersize=10,label=r'$\\rm numeric$')\n",
    "\n",
    "ax[0].set_ylabel(r'$|B(k)|^2$',size=30)\n",
    "ax[0].tick_params(axis='both',which='major',labelsize=20,direction='in')\n",
    "ax[0].tick_params(axis='x',which='major',labelsize=0)\n",
    "ax[0].legend(fontsize=20,frameon=False,loc='center')\n",
    "text =(\n",
    "    r'\\begin{align*}'\n",
    "    rf'V_0 &= {V0} \\\\'\n",
    "    rf'a &= {a} \\\\'\n",
    "    r'm &= 1'\n",
    "    r'\\end{align*}'\n",
    ")\n",
    "ax[0].text(s=text,size=20,x=0.975,y=0.05,ha='right',va='bottom',transform=ax[0].transAxes)\n",
    "\n",
    "#####\n",
    "\n",
    "Te_ = np.array([1-A2(_,V0=V0,a=a) for _ in k])\n",
    "ax[1].plot(k,T/Te_,color='k',ls='-',marker='.',markersize=10)\n",
    "ax[1].axhline(1,color='k',ls='-.',alpha=0.5)\n",
    "\n",
    "ax[1].tick_params(axis='both',which='major',labelsize=20,direction='in')\n",
    "ax[1].set_xlabel(r'$k/m$',size=30)\n",
    "ax[1].set_ylabel(r'$\\rm ratio$',size=30)\n",
    "ax[1].set_ylim(0.9,1.1)\n",
    "\n",
    "fig.align_labels()\n",
    "\n",
    "plt.tight_layout()\n",
    "plt.show()"
   ]
  },
  {
   "cell_type": "code",
   "execution_count": null,
   "id": "ca33867c-26b2-4f02-8617-e7ba99856cd5",
   "metadata": {},
   "outputs": [],
   "source": [
    "nrows,ncols = 1,1\n",
    "fig,ax = plt.subplots(nrows=nrows,ncols=ncols,figsize=(7*ncols,5*nrows))\n",
    "\n",
    "m    = 1\n",
    "sig  = 1\n",
    "k    = 1\n",
    "x0   = -10\n",
    "args = (m,sig,k,x0)\n",
    "x = np.linspace(-50,50,500)\n",
    "dx = x[1] - x[0]\n",
    "\n",
    "psi0 = Psi0_gwp(x,*args)\n",
    "ax.plot(x,np.abs(psi0)**2,color='r',ls='-',lw=5,alpha=0.5,label=r'$t = 0$')\n",
    "\n",
    "\n",
    "V0  = 10\n",
    "dt  = 0.01\n",
    "t   = np.arange(0,30,dt)\n",
    "Psi = [psi0]\n",
    "for _ in t[1:]:\n",
    "    temp = U_psi_ft(dt,x,Psi[-1],m=m,V=lambda t: V(t,a=1,V0=10))\n",
    "    Psi.append(temp)\n",
    "    if np.isclose(_,np.round(_)):\n",
    "        ax.plot(x,np.abs(Psi[-1])**2,ls='-.')\n",
    "\n",
    "ax.set_xlabel(r'$x~({\\rm AU})$',size=30)\n",
    "ax.set_ylabel(r'$|\\Psi(x,t)|^2$',size=30)\n",
    "ax.legend(fontsize=20,loc='upper right',frameon=False)\n",
    "ax.tick_params(axis='both',which='major',labelsize=20,direction='in')\n",
    "\n",
    "plt.show()"
   ]
  },
  {
   "cell_type": "code",
   "execution_count": null,
   "id": "e4f99226-b561-4c10-a101-f992e04fbbad",
   "metadata": {},
   "outputs": [],
   "source": [
    "nrows,ncols = 1,1\n",
    "fig,ax = plt.subplots(nrows=nrows,ncols=ncols,figsize=(7*ncols,5*nrows))\n",
    "\n",
    "m    = 1\n",
    "sig  = 10\n",
    "k    = 3\n",
    "x0   = -30\n",
    "args = (m,sig,k,x0)\n",
    "x = np.linspace(-100,100,5000)\n",
    "dx = x[1] - x[0]\n",
    "\n",
    "psi0 = Psi0_gwp(x,*args)\n",
    "ax.plot(x,np.abs(psi0)**2,color='r',ls='-',lw=5,alpha=0.5,label=r'$t = 0$')\n",
    "\n",
    "V0  = 1\n",
    "a   = 1\n",
    "dt  = 0.001\n",
    "t   = np.arange(0,30,dt)\n",
    "Psi = [psi0]\n",
    "for _ in t[1:]:\n",
    "    temp = U_psi_ft(dt,x,Psi[-1],m=m,V=lambda t: V(t,a=a,V0=V0))\n",
    "    Psi.append(temp)\n",
    "ax.plot(x,np.abs(Psi[0])**2,color='k',ls='-.')\n",
    "\n",
    "# exact = Psi2_gwp(x,t[-1],*args)\n",
    "# ax.plot(x,exact,color='c',ls='-',lw=5,alpha=0.5,label=r'$t = %.2g$'%t[-1])\n",
    "ax.plot(x,np.abs(Psi[-1])**2,color='k',ls='-.',label=r'$\\rm numeric$')\n",
    "\n",
    "# print(dx*np.sum(np.abs(Psi[0])**2))\n",
    "# print(dx*np.sum(np.abs(Psi[-1])**2))\n",
    "\n",
    "ax.set_xlabel(r'$x~({\\rm AU})$',size=30)\n",
    "ax.set_ylabel(r'$|\\Psi(x,t)|^2$',size=30)\n",
    "ax.legend(fontsize=20,loc='upper right',frameon=False)\n",
    "ax.tick_params(axis='both',which='major',labelsize=20,direction='in')\n",
    "\n",
    "plt.show()"
   ]
  },
  {
   "cell_type": "markdown",
   "id": "b7b2d14f-c637-4c50-b902-9e5b91fb13dc",
   "metadata": {},
   "source": [
    "# Math stuff"
   ]
  },
  {
   "cell_type": "code",
   "execution_count": null,
   "id": "5614dba6-3ec8-436a-b92d-80114e27f703",
   "metadata": {},
   "outputs": [],
   "source": [
    "x,y,k,x0 = sp.symbols(r'x y k x_0',real=True)\n",
    "t,m,sig      = sp.symbols(r't m \\sigma',real=True,positive=True)\n",
    "\n",
    "expr  = -(-m*(x-y)**2/(2*sp.I*t) - (y - x0)**2/(4*sig**2) + sp.I*k*y)\n",
    "a,b,c = sp.Poly(expr.series(y),y).coeffs()"
   ]
  },
  {
   "cell_type": "code",
   "execution_count": null,
   "id": "9258adf9-8f6f-4af8-9a74-813f56f2d7d2",
   "metadata": {},
   "outputs": [],
   "source": [
    "display(a)\n",
    "display(b)\n",
    "display(c)"
   ]
  },
  {
   "cell_type": "code",
   "execution_count": null,
   "id": "e2b31200-3e3a-48de-8152-e35d687e2825",
   "metadata": {},
   "outputs": [],
   "source": [
    "psi = 1/sp.sqrt(2*sp.pi*sig**2)*m/(2*sp.pi*t)*sp.pi/sp.Abs(a)*sp.exp(2*sp.re((b**2/4/a-c).expand()).factor())\n",
    "sp.integrate(psi,(x,-sp.oo,sp.oo))\n"
   ]
  },
  {
   "cell_type": "code",
   "execution_count": null,
   "id": "59f968df-7324-491e-aa83-ef9b315d1ba3",
   "metadata": {},
   "outputs": [],
   "source": []
  },
  {
   "cell_type": "code",
   "execution_count": null,
   "id": "d0370dbd-df24-4239-a60d-f8799cbbee93",
   "metadata": {},
   "outputs": [],
   "source": [
    "psi = 1/sp.sqrt(sp.sqrt((2*sp.pi*sig**2)))*sp.exp(-(x-x0)**2/(4*sig**2))*sp.exp(sp.I*k*x)\n",
    "sp.integrate(psi.conjugate()*-sp.I*psi.diff(x),(x,-sp.oo,sp.oo))"
   ]
  },
  {
   "cell_type": "code",
   "execution_count": null,
   "id": "bda20c2f-ad56-4e83-8b68-9185fc1c7d11",
   "metadata": {},
   "outputs": [],
   "source": [
    "psi = 1/sp.sqrt(sp.sqrt((2*sp.pi*sig**2)))*sp.sqrt(sp.pi/a)*sp.sqrt(m/(2*sp.pi*sp.I*t))*sp.exp(b**2/4/a-c)\n",
    "(sp.Abs(psi)**2).simplify()"
   ]
  },
  {
   "cell_type": "code",
   "execution_count": null,
   "id": "d5e2b4eb-22d0-4134-b111-c1a40911dfa5",
   "metadata": {},
   "outputs": [],
   "source": [
    "rho = 1/sp.sqrt((2*sp.pi*sig**2))*2*m*sig**2/(2*m*sig**2+t**2)*sp.exp(-2*m**2*sig**2*(x-(x0+k*t/m))**2/(4*sig**4*m**2+t**2))\n",
    "sp.integrate(rho,(x,-sp.oo,sp.oo))\n"
   ]
  },
  {
   "cell_type": "code",
   "execution_count": null,
   "id": "085b4d35-7fc2-49b1-82ab-6d289e02a2ac",
   "metadata": {},
   "outputs": [],
   "source": []
  }
 ],
 "metadata": {
  "kernelspec": {
   "display_name": "Python 3 (ipykernel)",
   "language": "python",
   "name": "python3"
  },
  "language_info": {
   "codemirror_mode": {
    "name": "ipython",
    "version": 3
   },
   "file_extension": ".py",
   "mimetype": "text/x-python",
   "name": "python",
   "nbconvert_exporter": "python",
   "pygments_lexer": "ipython3",
   "version": "3.9.18"
  }
 },
 "nbformat": 4,
 "nbformat_minor": 5
}
