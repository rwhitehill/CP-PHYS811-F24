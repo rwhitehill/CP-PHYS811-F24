{
 "cells": [
  {
   "cell_type": "code",
   "execution_count": 1,
   "id": "831ff1d9-7096-4644-8821-dc59b54bd48b",
   "metadata": {},
   "outputs": [],
   "source": [
    "import numpy as np\n",
    "import sympy as sp\n",
    "\n",
    "import matplotlib.pyplot as plt\n",
    "plt.rcParams.update({\n",
    "    'text.latex.preamble': r'\\usepackage{amsmath}',\n",
    "    'text.usetex': True,\n",
    "    'font.family': 'sans-serif',\n",
    "    'font.sans-serif': ['Helvetica']\n",
    "})"
   ]
  },
  {
   "cell_type": "code",
   "execution_count": 40,
   "id": "a0bb739b-f824-4a1a-ac1a-e7981db32548",
   "metadata": {},
   "outputs": [],
   "source": [
    "def get_U_fde(dt,x,V=lambda t: np.full(t.shape[0],0),m=1):\n",
    "    dx = x[1] - x[0]\n",
    "    N  = x.shape[0]\n",
    "    H  = -(np.diag(np.full(N-1,1),k=-1) - 2*np.diag(np.full(N,1),k=0) + np.diag(np.full(N-1,1),k=1))/2/m/dx**2 + np.diag(V(x),k=0)\n",
    "    print(H)\n",
    "    H[0][:2]   = np.array([1,0])\n",
    "    H[-1][-2:] = np.array([0,1])\n",
    "    \n",
    "    U = np.eye(N) - complex(0,dt)*H\n",
    "    return U\n",
    "\n",
    "def get_U_fde\n",
    "\n",
    "def U_bcs():\n",
    "    return None"
   ]
  },
  {
   "cell_type": "code",
   "execution_count": 73,
   "id": "6abc5737-9fb7-4f4e-979c-d4dc1c93764f",
   "metadata": {},
   "outputs": [
    {
     "name": "stdout",
     "output_type": "stream",
     "text": [
      "[[ 0.25  -0.125  0.     0.     0.     0.     0.     0.     0.     0.\n",
      "   0.   ]\n",
      " [-0.125  0.25  -0.125  0.     0.     0.     0.     0.     0.     0.\n",
      "   0.   ]\n",
      " [ 0.    -0.125  0.25  -0.125  0.     0.     0.     0.     0.     0.\n",
      "   0.   ]\n",
      " [ 0.     0.    -0.125  0.25  -0.125  0.     0.     0.     0.     0.\n",
      "   0.   ]\n",
      " [ 0.     0.     0.    -0.125  0.25  -0.125  0.     0.     0.     0.\n",
      "   0.   ]\n",
      " [ 0.     0.     0.     0.    -0.125  0.25  -0.125  0.     0.     0.\n",
      "   0.   ]\n",
      " [ 0.     0.     0.     0.     0.    -0.125  0.25  -0.125  0.     0.\n",
      "   0.   ]\n",
      " [ 0.     0.     0.     0.     0.     0.    -0.125  0.25  -0.125  0.\n",
      "   0.   ]\n",
      " [ 0.     0.     0.     0.     0.     0.     0.    -0.125  0.25  -0.125\n",
      "   0.   ]\n",
      " [ 0.     0.     0.     0.     0.     0.     0.     0.    -0.125  0.25\n",
      "  -0.125]\n",
      " [ 0.     0.     0.     0.     0.     0.     0.     0.     0.    -0.125\n",
      "   0.25 ]]\n"
     ]
    },
    {
     "data": {
      "text/plain": [
       "array([1.        , 1.        , 1.00000001, 1.00000001, 1.00000003,\n",
       "       1.00000012, 1.0000001 , 1.00000005, 1.00000008, 1.0000005 ,\n",
       "       1.0000005 ])"
      ]
     },
     "execution_count": 73,
     "metadata": {},
     "output_type": "execute_result"
    }
   ],
   "source": [
    "x = np.linspace(-10,10,11)\n",
    "\n",
    "x0,sig = 0,1\n",
    "psi0    = (2*np.pi*sig**2)**(-1/4)*np.exp(-(x-x0)**2/4/sig**2)\n",
    "\n",
    "dt = 0.001\n",
    "U  = get_U_fde(dt,x)\n",
    "np.abs(np.linalg.eigvals(U))"
   ]
  },
  {
   "cell_type": "code",
   "execution_count": 74,
   "id": "4b0fd220-b4e5-418c-880d-05c65d95c7ae",
   "metadata": {},
   "outputs": [],
   "source": [
    "def gauss_psi(x,t,a=1,m=1):\n",
    "    gam = complex(1,2*a*t/m)\n",
    "    return (2*a/np.pi)**(1/4)*1/np.sqrt(gam)*np.exp(-a*x**2/gam)"
   ]
  },
  {
   "cell_type": "code",
   "execution_count": 78,
   "id": "109bcc5f-b164-45a7-aa46-e2de8975ca3a",
   "metadata": {},
   "outputs": [
    {
     "data": {
      "image/png": "[encoded data removed]",
      "text/plain": [
       "<Figure size 432x288 with 1 Axes>"
      ]
     },
     "metadata": {
      "needs_background": "light"
     },
     "output_type": "display_data"
    }
   ],
   "source": [
    "# for _ in rho[0]:\n",
    "rho0 = np.abs(psi0)**2\n",
    "plt.plot(x,rho0,'k.')\n",
    "temp = gauss_psi(x,0,a=1/4/sig**2)\n",
    "plt.plot(x,np.real(temp*temp.conjugate()),'k-')\n",
    "\n",
    "Nt = 100\n",
    "psi = (U**Nt)@psi0\n",
    "rho = np.abs(psi)**2\n",
    "plt.plot(x,rho,'r.')\n",
    "temp = gauss_psi(x,Nt*dt,a=1/4/sig**2)\n",
    "plt.plot(x,np.abs(temp)**2,'r-')\n",
    "\n",
    "\n",
    "plt.show()"
   ]
  },
  {
   "cell_type": "code",
   "execution_count": 70,
   "id": "186f830c-d5fb-47b9-a4ea-11cd1cb6176d",
   "metadata": {},
   "outputs": [],
   "source": [
    "x = np.linspace(-20,20,1000)\n",
    "psi = gauss_psi(x,0,a=1)\n",
    "phi = np.fft.fftshift(np.fft.fft(psi))"
   ]
  },
  {
   "cell_type": "code",
   "execution_count": 71,
   "id": "2ec42642-d18d-49d5-b39c-56815c330a25",
   "metadata": {},
   "outputs": [
    {
     "data": {
      "image/png": "[encoded data removed]",
      "text/plain": [
       "<Figure size 432x288 with 1 Axes>"
      ]
     },
     "metadata": {
      "needs_background": "light"
     },
     "output_type": "display_data"
    }
   ],
   "source": [
    "plt.plot(x,np.abs(phi)**2/(2*np.pi)**2/x.shape[0],'k-')\n",
    "\n",
    "temp = (2/np.pi)**(1/4)*np.exp(-x**2/4)/np.sqrt(4*np.pi)\n",
    "plt.plot(x,temp**2,'r-')\n",
    "\n",
    "plt.show()"
   ]
  },
  {
   "cell_type": "code",
   "execution_count": null,
   "id": "e60879d8-f8dd-425a-89a2-662c48d3bf82",
   "metadata": {},
   "outputs": [],
   "source": []
  },
  {
   "cell_type": "code",
   "execution_count": null,
   "id": "5614dba6-3ec8-436a-b92d-80114e27f703",
   "metadata": {},
   "outputs": [],
   "source": []
  },
  {
   "cell_type": "code",
   "execution_count": null,
   "id": "9258adf9-8f6f-4af8-9a74-813f56f2d7d2",
   "metadata": {},
   "outputs": [],
   "source": []
  },
  {
   "cell_type": "code",
   "execution_count": null,
   "id": "d0370dbd-df24-4239-a60d-f8799cbbee93",
   "metadata": {},
   "outputs": [],
   "source": []
  },
  {
   "cell_type": "code",
   "execution_count": null,
   "id": "04be8c6f-239e-48ac-bd0b-c24a0b910631",
   "metadata": {},
   "outputs": [],
   "source": [
    "x,x0,y,t,a = sp.symbols(r'x x_0 y t a',real=True)\n",
    "sig,hbar,m = sp.symbols(r'\\sigma h m',real=True,positive=True)"
   ]
  },
  {
   "cell_type": "code",
   "execution_count": null,
   "id": "8ff08353-b25f-45db-a7ab-65a18b505ec4",
   "metadata": {},
   "outputs": [],
   "source": [
    "K = sp.sqrt(a/t)*sp.exp(-a*(x-y)**2/t)\n",
    "psi0 = (2*sp.pi*sig**2)**(-1/sp.S(4))*sp.exp(-(x-x0)**2/(4*sig**2))"
   ]
  },
  {
   "cell_type": "code",
   "execution_count": null,
   "id": "49a08683-3e91-40a0-8846-5d64d1928485",
   "metadata": {},
   "outputs": [],
   "source": [
    "psi = sp.integrate(K*psi0.subs(x,y),(y,-sp.oo,sp.oo)).args[0][0].simplify()"
   ]
  },
  {
   "cell_type": "code",
   "execution_count": null,
   "id": "aaaf232a-fa82-4fe4-883d-e57bd13c802d",
   "metadata": {},
   "outputs": [],
   "source": [
    "u,u0,tau = sp.symbols(r'u u_0 \\tau',real=True)"
   ]
  },
  {
   "cell_type": "code",
   "execution_count": null,
   "id": "c9ba0b48-b367-4af4-b845-42a16780cb38",
   "metadata": {},
   "outputs": [],
   "source": [
    "psi = psi.subs(x,sig*u).subs(x0,sig*u0).simplify().subs(t,hbar*tau/(2*m*sig**2)).simplify().subs(a,m/(2*sp.pi*sp.I*hbar)).simplify().expand().simplify()"
   ]
  },
  {
   "cell_type": "code",
   "execution_count": null,
   "id": "b6097f84-9694-4f98-ae94-7f07cab1c846",
   "metadata": {},
   "outputs": [],
   "source": [
    "psi.conjugate()*psi.expand().simplify()"
   ]
  },
  {
   "cell_type": "code",
   "execution_count": null,
   "id": "5e6bc25c-9e7a-404a-896e-904e93816582",
   "metadata": {},
   "outputs": [],
   "source": [
    "psi0"
   ]
  },
  {
   "cell_type": "code",
   "execution_count": null,
   "id": "bda20c2f-ad56-4e83-8b68-9185fc1c7d11",
   "metadata": {},
   "outputs": [],
   "source": []
  }
 ],
 "metadata": {
  "kernelspec": {
   "display_name": "Python 3 (ipykernel)",
   "language": "python",
   "name": "python3"
  },
  "language_info": {
   "codemirror_mode": {
    "name": "ipython",
    "version": 3
   },
   "file_extension": ".py",
   "mimetype": "text/x-python",
   "name": "python",
   "nbconvert_exporter": "python",
   "pygments_lexer": "ipython3",
   "version": "3.9.18"
  }
 },
 "nbformat": 4,
 "nbformat_minor": 5
}
