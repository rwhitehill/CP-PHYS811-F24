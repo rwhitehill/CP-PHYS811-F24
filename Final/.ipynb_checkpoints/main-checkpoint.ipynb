{
 "cells": [
  {
   "cell_type": "code",
   "execution_count": 1,
   "id": "831ff1d9-7096-4644-8821-dc59b54bd48b",
   "metadata": {},
   "outputs": [],
   "source": [
    "import sys,os\n",
    "import multiprocessing\n",
    "from joblib import Parallel, delayed\n",
    "import time\n",
    "\n",
    "import numpy as np\n",
    "import sympy as sp\n",
    "\n",
    "import matplotlib.pyplot as plt\n",
    "plt.rcParams.update({\n",
    "    'text.latex.preamble': r'\\usepackage{amsmath}',\n",
    "    'text.usetex': True,\n",
    "    'font.family': 'sans-serif',\n",
    "    'font.sans-serif': ['Helvetica']\n",
    "})\n",
    "from matplotlib import cm,colors"
   ]
  },
  {
   "cell_type": "code",
   "execution_count": 2,
   "id": "3e43bf88-4cc0-436a-9981-217c40a858c8",
   "metadata": {},
   "outputs": [],
   "source": [
    "# n_cpu = multiprocessing.cpu_count() - 1\n",
    "# pool  = multiprocessing.Pool(processes=n_cpu)\n",
    "\n",
    "# results = pool.starmap(func=test,iterable=[(i,) for i in range(10)])\n",
    "# pool.close()\n",
    "\n",
    "# results"
   ]
  },
  {
   "cell_type": "markdown",
   "id": "00089b5e-cc17-473e-ad69-6c0afe15e0ef",
   "metadata": {},
   "source": [
    "# finite difference solver"
   ]
  },
  {
   "cell_type": "code",
   "execution_count": 3,
   "id": "a0bb739b-f824-4a1a-ac1a-e7981db32548",
   "metadata": {},
   "outputs": [],
   "source": [
    "def get_U_fde(dt,x,V=lambda t: np.full(t.shape[0],0),m=1):\n",
    "    dx = x[1] - x[0]\n",
    "    N  = x.shape[0]\n",
    "    H  = -(np.diag(np.full(N-1,1),k=-1) - np.diag(np.full(N,2),k=0) + np.diag(np.full(N-1,1),k=1))/2/m/dx**2 + np.diag(V(x),k=0)\n",
    "    H[0][:2]   = np.array([1,0])\n",
    "    H[-1][-2:] = np.array([0,1])\n",
    "    print(H)\n",
    "    \n",
    "    U = np.eye(N) - complex(0,dt)*H\n",
    "    return U\n",
    "\n",
    "def get_U_fdi(dt,x,V=lambda t: np.full(t.shape[0],0),m=1):\n",
    "    dx = x[1] - x[0]\n",
    "    N  = x.shape[0]\n",
    "    H  = -(np.diag(np.full(N-1,1),k=-1) - np.diag(np.full(N,2),k=0) + np.diag(np.full(N-1,1),k=1))/2/m/dx**2 + np.diag(V(x),k=0)\n",
    "    H[0][:2]   = np.array([1,0])\n",
    "    H[-1][-2:] = np.array([0,1])\n",
    "    \n",
    "    U = np.eye(N) + complex(0,dt)*H\n",
    "    return U\n",
    "\n",
    "def U_psi_ft(dt,x,psi0,m=1,V=lambda t: np.full(t.size,0)):\n",
    "    dx = x[1] - x[0]\n",
    "    N  = x.size\n",
    "    dk = 2*np.pi/N/dx\n",
    "    \n",
    "    k  = np.fft.fftfreq(N)\n",
    "    k *= dk/(k[1] - k[0])\n",
    "    \n",
    "    psi_t  = np.fft.fft(psi0,norm='ortho')\n",
    "    # psi_t *= dx*np.sqrt(N)/np.sqrt(2*np.pi)*np.exp(-complex(0,1)*k*x[0])\n",
    "    psi_t *= np.exp(-complex(0,1)*k**2*dt/2/m)\n",
    "    \n",
    "    return np.exp(-complex(0,1)*V(x)*dt)*np.fft.ifft(psi_t,norm='ortho')"
   ]
  },
  {
   "cell_type": "code",
   "execution_count": null,
   "id": "4b0fd220-b4e5-418c-880d-05c65d95c7ae",
   "metadata": {},
   "outputs": [],
   "source": [
    "# def gauss_psi(x,t,a=1,m=1):\n",
    "#     gam = complex(1,2*a*t/m)\n",
    "#     return (2*a/np.pi)**(1/4)*1/np.sqrt(gam)*np.exp(-a*x**2/gam)"
   ]
  },
  {
   "cell_type": "markdown",
   "id": "7f94814d-1c53-41fe-b611-6c6438f2a679",
   "metadata": {},
   "source": [
    "test explicit evolution"
   ]
  },
  {
   "cell_type": "code",
   "execution_count": null,
   "id": "6abc5737-9fb7-4f4e-979c-d4dc1c93764f",
   "metadata": {},
   "outputs": [],
   "source": [
    "# x  = np.linspace(-10,10,50)\n",
    "# dx = x[1] - x[0]\n",
    "\n",
    "# x0,sig = 0,1\n",
    "# psi0    = (2*np.pi*sig**2)**(-1/4)*np.exp(-(x-x0)**2/4/sig**2)\n",
    "\n",
    "# dt = 0.001\n",
    "# print(dt/dx**2)\n",
    "# U  = get_U_fde(dt,x)\n",
    "# np.abs(np.linalg.eigvals(U))"
   ]
  },
  {
   "cell_type": "code",
   "execution_count": null,
   "id": "109bcc5f-b164-45a7-aa46-e2de8975ca3a",
   "metadata": {},
   "outputs": [],
   "source": [
    "# # for _ in rho[0]:\n",
    "# rho0 = np.abs(psi0)**2\n",
    "# plt.plot(x,rho0,'k.')\n",
    "# temp = gauss_psi(x,0,a=1/4/sig**2)\n",
    "# plt.plot(x,np.real(temp*temp.conjugate()),'k-')\n",
    "\n",
    "# Nt = 5000\n",
    "# psi = (U**Nt)@psi0\n",
    "# rho = np.abs(psi)**2\n",
    "# plt.plot(x,rho,'r.')\n",
    "# temp = gauss_psi(x,Nt*dt,a=1/4/sig**2)\n",
    "# plt.plot(x,np.abs(temp)**2,'r-')\n",
    "\n",
    "\n",
    "# plt.show()"
   ]
  },
  {
   "cell_type": "markdown",
   "id": "cda3d526-738b-4668-9e48-0a49d80d55ab",
   "metadata": {},
   "source": [
    "test implicit evolution"
   ]
  },
  {
   "cell_type": "code",
   "execution_count": null,
   "id": "497a25e4-5f85-4ef7-8ffb-0d9039aad4c9",
   "metadata": {},
   "outputs": [],
   "source": [
    "# x  = np.linspace(-10,10,100)\n",
    "# dx = x[1] - x[0]\n",
    "\n",
    "# x0,sig = 0,1\n",
    "# psi0    = (2*np.pi*sig**2)**(-1/4)*np.exp(-(x-x0)**2/4/sig**2)\n",
    "\n",
    "# dt = 0.001\n",
    "# print(dt/dx**2)\n",
    "# U = get_U_fdi(dt,x)\n",
    "# print(np.amax(np.abs(U*U.conjugate().T - np.eye(x.size))))\n",
    "# np.abs(1/np.linalg.eigvals(U))"
   ]
  },
  {
   "cell_type": "code",
   "execution_count": null,
   "id": "07163910-b137-47d7-bc7b-4665fd9f918f",
   "metadata": {},
   "outputs": [],
   "source": [
    "# # for _ in rho[0]:\n",
    "# rho0 = np.abs(psi0)**2\n",
    "# print(np.sum(rho0)*dx)\n",
    "# plt.plot(x,rho0,'k.')\n",
    "# temp = gauss_psi(x,0,a=1/4/sig**2)\n",
    "# plt.plot(x,np.real(temp*temp.conjugate()),'k-')\n",
    "\n",
    "# Nt = 1000\n",
    "# psi = np.linalg.solve((U**Nt),psi0)\n",
    "# rho = np.abs(psi)**2\n",
    "# print(np.sum(rho)*dx)\n",
    "# plt.plot(x,rho,'r.')\n",
    "# temp = gauss_psi(x,Nt*dt,a=1/4/sig**2)\n",
    "# plt.plot(x,np.abs(temp)**2,'r-')\n",
    "\n",
    "# plt.show()"
   ]
  },
  {
   "cell_type": "markdown",
   "id": "5ba74871-3ed8-4809-ba87-f500aead3467",
   "metadata": {},
   "source": [
    "# FFT solver"
   ]
  },
  {
   "cell_type": "code",
   "execution_count": null,
   "id": "7300bd44-f4b2-44ea-9794-20b0f89cd5d3",
   "metadata": {},
   "outputs": [],
   "source": [
    "def f(x,sig=1):\n",
    "    return np.exp(-x**2/4/sig**2)/(2*np.pi*sig**2)**(1/4)\n",
    "\n",
    "def F(k,sig=1):\n",
    "    return (2*sig**2/np.pi)**(1/4)*np.exp(-k**2*sig**2)"
   ]
  },
  {
   "cell_type": "code",
   "execution_count": null,
   "id": "e383f5c6-9d91-40e5-b707-9dbfcc27640c",
   "metadata": {},
   "outputs": [],
   "source": [
    "x   = np.linspace(-10,10,200)\n",
    "dx  = x[1] - x[0]\n",
    "N   = x.size\n",
    "f_  = f(x,sig=1)\n",
    "\n",
    "dk  = 2*np.pi/N/dx\n",
    "k   = np.fft.fftfreq(N)\n",
    "f_t = np.fft.fft(f_,norm='ortho')\n",
    "f_t,k = np.fft.fftshift(f_t),np.fft.fftshift(k)\n",
    "k   *= dk/(k[1] - k[0])\n",
    "f_t *= dx*np.sqrt(N)/np.sqrt(2*np.pi)*np.exp(-complex(0,1)*k*x[0])"
   ]
  },
  {
   "cell_type": "code",
   "execution_count": null,
   "id": "663a5462-7ac3-4f01-979c-c1cfa57407a9",
   "metadata": {},
   "outputs": [],
   "source": [
    "print(dx*np.sum(f_**2))\n",
    "print(dk*np.sum(np.abs(f_t)**2))"
   ]
  },
  {
   "cell_type": "code",
   "execution_count": null,
   "id": "2ec42642-d18d-49d5-b39c-56815c330a25",
   "metadata": {},
   "outputs": [],
   "source": [
    "plt.plot(x,f_,'k-')\n",
    "plt.show()"
   ]
  },
  {
   "cell_type": "code",
   "execution_count": null,
   "id": "a482fc0a-35e3-4f01-85cb-cc16dac32bb1",
   "metadata": {},
   "outputs": [],
   "source": [
    "plt.plot(k,f_t.real,'r-',lw=5,alpha=0.5)\n",
    "plt.plot(k,f_t.imag,'b-',lw=5,alpha=0.5)\n",
    "plt.plot(k,F(k,sig=1),'k-.')\n",
    "plt.show()"
   ]
  },
  {
   "cell_type": "markdown",
   "id": "a0127f12-e4e1-40e5-8972-3f66f71e428d",
   "metadata": {},
   "source": [
    "# Test: Gaussian wave packet propagation"
   ]
  },
  {
   "cell_type": "code",
   "execution_count": 9,
   "id": "46af00d4-e7e8-4f6b-bb4c-da6772f9b5b9",
   "metadata": {},
   "outputs": [],
   "source": [
    "def Psi0_gwp(x,m=1,sig=1,k=0,x0=0):\n",
    "    return (2*np.pi*sig**2)**(-1/4)*np.exp(-(x-x0)**2/4/sig**2 + complex(0,1)*k*x)\n",
    "    \n",
    "def Psi2_gwp(x,t,m=1,sig=1,k=0,x0=0):\n",
    "    return 1/np.sqrt(2*np.pi*sig**2)*2*sig**2*m/np.sqrt(4*sig**4*m**2+t**2)*np.exp(-2*m**2*sig**2*(x-x0-k*t/m)**2/(4*sig**4*m**2+t**2))"
   ]
  },
  {
   "cell_type": "markdown",
   "id": "eecfcf24-95a6-49cb-8e0d-750aadd557ab",
   "metadata": {},
   "source": [
    "test that $\\Delta t = 0$ gives back same wave function"
   ]
  },
  {
   "cell_type": "code",
   "execution_count": null,
   "id": "f8de79ef-faa3-4a5f-96f2-a340430aadba",
   "metadata": {},
   "outputs": [],
   "source": [
    "x = np.linspace(-20,20,1000)\n",
    "psi0 = Psi2_gwp(x,0)\n",
    "plt.plot(psi0,'c-',lw=5)\n",
    "\n",
    "\n",
    "psi  = U_psi_ft(0,x,psi0)\n",
    "plt.plot(psi.real,'k-.')\n",
    "plt.plot(psi.imag,'r-.')\n",
    "\n",
    "plt.show()"
   ]
  },
  {
   "cell_type": "code",
   "execution_count": null,
   "id": "0e2afaee-fe68-4e8a-bbba-e921afb60daa",
   "metadata": {},
   "outputs": [],
   "source": [
    "nrows,ncols = 1,1\n",
    "fig,ax = plt.subplots(nrows=nrows,ncols=ncols,figsize=(7*ncols,5*nrows))\n",
    "\n",
    "m    = 1\n",
    "sig  = 1\n",
    "k    = 0\n",
    "x0   = 0\n",
    "args = (m,sig,k,x0)\n",
    "x = np.linspace(-20,20,500)\n",
    "dx = x[1] - x[0]\n",
    "\n",
    "psi0 = Psi0_gwp(x,*args)\n",
    "ax.plot(x,np.abs(psi0)**2,color='r',ls='-',lw=5,alpha=0.5,label=r'$t = 0$')\n",
    "\n",
    "\n",
    "dt  = 0.01\n",
    "t   = np.arange(0,10,dt)\n",
    "Psi = [psi0]\n",
    "for _ in t[1:]:\n",
    "    temp = U_psi_ft(dt,x,Psi[-1],m=m)\n",
    "    Psi.append(temp)\n",
    "ax.plot(x,np.abs(Psi[0])**2,color='k',ls='-.')\n",
    "\n",
    "exact = Psi2_gwp(x,t[-1],*args)\n",
    "ax.plot(x,exact,color='c',ls='-',lw=5,alpha=0.5,label=r'$t = %.2g$'%t[-1])\n",
    "ax.plot(x,np.abs(Psi[-1])**2,color='k',ls='-.',label=r'$\\rm numeric$')\n",
    "\n",
    "# print(dx*np.sum(np.abs(Psi[0])**2))\n",
    "# print(dx*np.sum(np.abs(Psi[-1])**2))\n",
    "\n",
    "ax.set_xlabel(r'$x~({\\rm AU})$',size=30)\n",
    "ax.set_ylabel(r'$|\\Psi(x,t)|^2$',size=30)\n",
    "ax.legend(fontsize=20,loc='upper right',frameon=False)\n",
    "ax.tick_params(axis='both',which='major',labelsize=20,direction='in')\n",
    "\n",
    "plt.show()"
   ]
  },
  {
   "cell_type": "code",
   "execution_count": null,
   "id": "352d622d-9fb7-4cbf-8bdf-c9650b59f005",
   "metadata": {},
   "outputs": [],
   "source": [
    "nrows,ncols = 1,1\n",
    "fig,ax = plt.subplots(nrows=nrows,ncols=ncols,figsize=(7*ncols,5*nrows))\n",
    "\n",
    "m    = 1\n",
    "sig  = 1\n",
    "k    = 5\n",
    "x0   = -12.5\n",
    "args = (m,sig,k,x0)\n",
    "x = np.linspace(-20,20,10000)\n",
    "dx = x[1] - x[0]\n",
    "\n",
    "psi0 = Psi0_gwp(x,*args)\n",
    "# ax.plot(x,np.abs(psi0)**2,color='r',ls='-',lw=5,alpha=0.5,label=r'$t = 0$')\n",
    "\n",
    "\n",
    "dt   = 0.01\n",
    "t    = np.arange(0,5+dt,dt)\n",
    "cmap = cm.inferno\n",
    "norm = colors.Normalize(vmin=t[0],vmax=t[-1])\n",
    "\n",
    "Psi = [psi0]\n",
    "for _ in t[1:]:\n",
    "    temp = U_psi_ft(dt,x,Psi[-1],m=m)\n",
    "    Psi.append(temp)\n",
    "    \n",
    "for i in range(len(t)):\n",
    "    _ = t[i]\n",
    "    if np.isclose(_,np.round(_),):\n",
    "        ax.plot(x,Psi2_gwp(x,_,*args),color=cmap(norm(_)),ls='-',lw=5,alpha=0.3)#,label=r'$t = 0$')\n",
    "        ax.plot(x,np.abs(Psi[i])**2,color=cmap(norm(_)),ls='-.')\n",
    "\n",
    "# print(dx*np.sum(np.abs(Psi[0])**2))\n",
    "# print(dx*np.sum(np.abs(Psi[-1])**2))\n",
    "\n",
    "ax.set_xlabel(r'$x$',size=30)\n",
    "ax.set_ylabel(r'$|\\Psi(x,t)|^2$',size=30)\n",
    "ax.tick_params(axis='both',which='major',labelsize=20,direction='in')\n",
    "\n",
    "ax.plot([],[],'k-',lw=5,label=r'$\\rm exact$')\n",
    "ax.plot([],[],'k-.',label=r'$\\rm numeric$')\n",
    "ax.legend(fontsize=20,loc='upper right',frameon=False)\n",
    "\n",
    "cbar = fig.colorbar(cm.ScalarMappable(norm=norm, cmap=cmap),ax=ax,orientation='vertical')\n",
    "cbar.set_label(r'$t$',size=30,rotation=0,labelpad=15)\n",
    "cbar.ax.tick_params(labelsize=20)\n",
    "# cbar.set_ticks([0,1,2,3,4,5])\n",
    "\n",
    "plt.show()\n",
    "fig.savefig('gauss_wave-prop.pdf',bbox_inches='tight')"
   ]
  },
  {
   "cell_type": "markdown",
   "id": "5efa2308-e21b-4f99-8e07-c1c276f164c5",
   "metadata": {},
   "source": [
    "#### delta source"
   ]
  },
  {
   "cell_type": "markdown",
   "id": "28107ff0-a1ad-417e-b227-4cf040f12cea",
   "metadata": {},
   "source": [
    "math"
   ]
  },
  {
   "cell_type": "code",
   "execution_count": null,
   "id": "fa8700ed-5174-4861-a1df-0b0848432397",
   "metadata": {},
   "outputs": [],
   "source": [
    "x      = sp.symbols(r'x',real=True)\n",
    "m,k,V0 = sp.symbols(r'm k V_0',real=True,positive=True)\n",
    "A,B    = sp.symbols(r'A B')\n",
    "\n",
    "psi_l = sp.exp(sp.I*k*x) + A*sp.exp(-sp.I*k*x)\n",
    "psi_r = B*sp.exp(sp.I*k*x)\n",
    "\n",
    "BC1 = sp.Eq(psi_l.subs(x,0),psi_r.subs(x,0))\n",
    "BC2 = sp.Eq(psi_r.diff(x).subs(x,0) - psi_l.diff(x).subs(x,0),2*m*V0*psi_r.subs(x,0))\n",
    "\n",
    "sol = sp.solve([BC1,BC2],[A,B],dict=True)[0]\n",
    "A_  = sol[A]\n",
    "B_  = sol[B]\n",
    "\n",
    "display(sp.Eq(A,A_))\n",
    "display(sp.Eq(B,B_))\n",
    "\n",
    "A_abs = sp.Abs(A_)\n",
    "B_abs = sp.Abs(B_)\n",
    "tan_chi_A = -sp.im(A_)/sp.re(A_)\n",
    "tan_chi_B = -sp.im(B_)/sp.re(B_)\n",
    "\n",
    "display(sp.Eq(sp.Abs(A),A_abs))\n",
    "display(sp.Eq(sp.tan(sp.Symbol(r'\\chi_A')),tan_chi_A))\n",
    "display(sp.Eq(sp.Abs(B),B_abs))\n",
    "display(sp.Eq(sp.tan(sp.Symbol(r'\\chi_B')),tan_chi_B))\n",
    "\n",
    "display(sp.Eq(sp.Symbol(r\"\\chi_{A}'(k)\"),tan_chi_A.diff(k)/(1 + sp.atan(tan_chi_A)**2)))\n",
    "display(sp.Eq(sp.Symbol(r\"\\chi_{B}'(k)\"),tan_chi_B.diff(k)/(1 + sp.atan(tan_chi_B)**2)))"
   ]
  },
  {
   "cell_type": "code",
   "execution_count": null,
   "id": "e14b94ff-6588-4713-9a93-2c812753bdc5",
   "metadata": {},
   "outputs": [],
   "source": [
    "nrows,ncols = 1,1\n",
    "fig,ax = plt.subplots(nrows=nrows,ncols=ncols,figsize=(7*ncols,5*nrows))\n",
    "\n",
    "V0 = 1\n",
    "k  = np.linspace(0,10,1000)\n",
    "B  = k/(k + complex(0,1)*V0)\n",
    "\n",
    "ax.plot(k,np.abs(B)**2,'r')\n",
    "# ax.axhline(1,color='k',ls='-.')\n",
    "\n",
    "ax.set_xlabel(r'$k/m$',size=30)\n",
    "ax.set_ylabel(r'$|B(k)|^2$',size=30)\n",
    "ax.tick_params(axis='both',which='major',labelsize=20,direction='in')\n",
    "ax.set_xlim(0,10)\n",
    "ax.set_ylim(0,1)\n",
    "\n",
    "plt.show()"
   ]
  },
  {
   "cell_type": "markdown",
   "id": "f3330b8c-38d8-427b-9e7a-3a0c8b536fa2",
   "metadata": {},
   "source": [
    "numerics"
   ]
  },
  {
   "cell_type": "code",
   "execution_count": null,
   "id": "b14053bb-ef05-432c-aeb9-8ebfc3cd815e",
   "metadata": {},
   "outputs": [],
   "source": [
    "def V(x,V0=1,sig=1):\n",
    "    return V0*np.exp(-x**2/2/sig**2)/np.sqrt(2*np.pi*sig**2)"
   ]
  },
  {
   "cell_type": "code",
   "execution_count": null,
   "id": "e6b67cde-f1b4-413b-a256-f1bd1889f597",
   "metadata": {},
   "outputs": [],
   "source": [
    "nrows,ncols = 1,1\n",
    "fig,ax = plt.subplots(nrows=nrows,ncols=ncols,figsize=(7*ncols,5*nrows))\n",
    "\n",
    "m    = 1\n",
    "sig  = 1\n",
    "k    = 1\n",
    "x0   = -10\n",
    "args = (m,sig,k,x0)\n",
    "x = np.linspace(-50,50,500)\n",
    "dx = x[1] - x[0]\n",
    "\n",
    "psi0 = Psi0_gwp(x,*args)\n",
    "ax.plot(x,np.abs(psi0)**2,color='r',ls='-',lw=5,alpha=0.5,label=r'$t = 0$')\n",
    "\n",
    "V0  = 1\n",
    "dt  = 0.01\n",
    "t   = np.arange(0,30,dt)\n",
    "Psi = [psi0]\n",
    "for _ in t[1:]:\n",
    "    temp = U_psi_ft(dt,x,Psi[-1],m=m,V=lambda t: V(t,V0=1))\n",
    "    Psi.append(temp)\n",
    "    if np.isclose(_,np.round(_)):\n",
    "        ax.plot(x,np.abs(Psi[-1])**2,ls='-.')\n",
    "\n",
    "ax.set_xlabel(r'$x~({\\rm AU})$',size=30)\n",
    "ax.set_ylabel(r'$|\\Psi(x,t)|^2$',size=30)\n",
    "ax.legend(fontsize=20,loc='upper right',frameon=False)\n",
    "ax.tick_params(axis='both',which='major',labelsize=20,direction='in')\n",
    "\n",
    "plt.show()"
   ]
  },
  {
   "cell_type": "code",
   "execution_count": null,
   "id": "e1b4786c-b37a-40f1-9006-d4f8d98685e2",
   "metadata": {},
   "outputs": [],
   "source": [
    "def get_RT(k,m=1,sig_x=10,x0=-50,xm=100,N=5000,V0=1,sig_V=0.1,dt=0.01,max_iter=int(1e5),tol=1e-3):\n",
    "    x  = np.linspace(-xm,xm,N)\n",
    "    dx = x[1] - x[0]\n",
    "    li = x < -5*sig_V\n",
    "    ri = x > 5*sig_V\n",
    "    \n",
    "    psi0 = Psi0_gwp(x,m=m,sig=sig_x,k=k,x0=x0)\n",
    "    for i in range(max_iter):\n",
    "        psi  = U_psi_ft(dt,x,psi0,m=m,V=lambda t: V(t,V0=V0,sig=sig_V))\n",
    "        drho = dx*np.abs(psi)**2\n",
    "        \n",
    "        R = np.sum(drho[li])\n",
    "        T = np.sum(drho[ri])\n",
    "        \n",
    "        if 1 - (R + T) < tol and (x0 + k*i*dt/m) > 0:\n",
    "            # print(i)\n",
    "            break\n",
    "        else:\n",
    "            psi0 = psi.copy()\n",
    "            \n",
    "    return np.array([R,T])\n",
    "\n",
    "def Te(k,m=1):\n",
    "    return k**2/(k**2 + m**2*V0**2)"
   ]
  },
  {
   "cell_type": "code",
   "execution_count": null,
   "id": "608f0bcb-31fe-456b-ad80-a2021a3290b4",
   "metadata": {},
   "outputs": [],
   "source": [
    "V0  = 2\n",
    "k   = np.linspace(0.1,20,25)\n",
    "\n",
    "results = Parallel(n_jobs=7)(delayed(get_RT)(_,N=10000,V0=V0,sig_V=0.1,dt=0.001) for _ in k)\n",
    "R,T = np.array(results).T"
   ]
  },
  {
   "cell_type": "code",
   "execution_count": null,
   "id": "386839ac-d8b4-4834-b197-ae0dc4b7d321",
   "metadata": {},
   "outputs": [],
   "source": [
    "nrows,ncols = 1,1\n",
    "fig,ax = plt.subplots(nrows=nrows,ncols=ncols,figsize=(7*ncols,5*nrows))\n",
    "\n",
    "ke  = np.linspace(0,20,1000)\n",
    "Te_ = Te(ke)\n",
    "# print((1 - T/Te(k))*100)\n",
    "\n",
    "ax.plot(ke,Te_,'r-')\n",
    "ax.plot(k,T,'kx')\n",
    "ax.axhline(1,color='k',ls='-.')\n",
    "\n",
    "ax.set_xlabel(r'$k/m$',size=30)\n",
    "ax.set_ylabel(r'$|B(k)|^2$',size=30)\n",
    "ax.tick_params(axis='both',which='major',labelsize=20,direction='in')\n",
    "\n",
    "plt.show()"
   ]
  },
  {
   "cell_type": "code",
   "execution_count": null,
   "id": "eca34e3c-fe8c-474e-8285-fc9afdf51d10",
   "metadata": {},
   "outputs": [],
   "source": [
    "nrows,ncols = 1,1\n",
    "fig,ax = plt.subplots(nrows=nrows,ncols=ncols,figsize=(7*ncols,5*nrows))\n",
    "\n",
    "m    = 1\n",
    "sig  = 10\n",
    "k    = 10\n",
    "x0   = -50\n",
    "args = (m,sig,k,x0)\n",
    "x = np.linspace(-100,100,5000)\n",
    "dx = x[1] - x[0]\n",
    "\n",
    "psi0 = Psi0_gwp(x,*args)\n",
    "ax.plot(x,np.abs(psi0)**2,color='r',ls='-',lw=5,alpha=0.5,label=r'$t = 0$')\n",
    "\n",
    "V0  = 1\n",
    "a   = 0.01\n",
    "dt  = 0.01\n",
    "t   = np.arange(0,50,dt)\n",
    "Psi = [psi0]\n",
    "for _ in t[1:]:\n",
    "    temp = U_psi_ft(dt,x,Psi[-1],m=m,V=lambda t: V(t,V0=1,sig=1))\n",
    "    Psi.append(temp)\n",
    "ax.plot(x,np.abs(Psi[0])**2,color='k',ls='-.')\n",
    "\n",
    "# exact = Psi2_gwp(x,t[-1],*args)\n",
    "# ax.plot(x,exact,color='c',ls='-',lw=5,alpha=0.5,label=r'$t = %.2g$'%t[-1])\n",
    "ax.plot(x,np.abs(Psi[-1])**2,color='k',ls='-.',label=r'$\\rm numeric$')\n",
    "\n",
    "print(dx*np.sum(np.abs(Psi[0])**2))\n",
    "print(dx*np.sum(np.abs(Psi[-1])**2))\n",
    "print(dx*np.sum(np.abs(Psi[-1][x<0])**2),dx*np.sum(np.abs(Psi[-1][x>0])**2))\n",
    "\n",
    "ax.set_xlabel(r'$x~({\\rm AU})$',size=30)\n",
    "ax.set_ylabel(r'$|\\Psi(x,t)|^2$',size=30)\n",
    "ax.legend(fontsize=20,loc='upper right',frameon=False)\n",
    "ax.tick_params(axis='both',which='major',labelsize=20,direction='in')\n",
    "\n",
    "plt.show()"
   ]
  },
  {
   "cell_type": "markdown",
   "id": "a42f9dbf-a63c-46b9-9439-8d6149d3ddf7",
   "metadata": {},
   "source": [
    "#### square barrier"
   ]
  },
  {
   "cell_type": "markdown",
   "id": "1680223d-f1a6-4afd-8cee-b2a151ed1e3c",
   "metadata": {},
   "source": [
    "math"
   ]
  },
  {
   "cell_type": "code",
   "execution_count": null,
   "id": "5a80a03f-9459-4b11-8218-d399901d8525",
   "metadata": {},
   "outputs": [],
   "source": [
    "# E < V0\n",
    "x       = sp.symbols(r'x',real=True)\n",
    "a,m,V0  = sp.symbols(r'a m V_0',real=True,positive=True)\n",
    "k,kappa = sp.symbols(r'k \\kappa',real=True,positive=True)\n",
    "A,B,C,D = sp.symbols(r'A B C D')\n",
    "\n",
    "psi_l = sp.exp(sp.I*k*x) + A*sp.exp(-sp.I*k*x)\n",
    "psi_m = C*sp.cosh(kappa*x) + D*sp.sinh(kappa*x)\n",
    "psi_r = B*sp.exp(sp.I*k*x)\n",
    "\n",
    "BC1 = sp.Eq(psi_l.subs(x,0),psi_m.subs(x,0))\n",
    "BC2 = sp.Eq(psi_l.diff(x).subs(x,0),psi_m.diff(x).subs(x,0))\n",
    "BC3 = sp.Eq(psi_m.subs(x,a),psi_r.subs(x,a))\n",
    "BC4 = sp.Eq(psi_m.diff(x).subs(x,a),psi_r.diff(x).subs(x,a))\n",
    "\n",
    "sol = sp.solve([BC1,BC2,BC3,BC4],[A,B,C,D],dict=True)[0]\n",
    "A_  = sol[A].simplify()\n",
    "B_  = sol[B].simplify()\n",
    "\n",
    "display(sp.Eq(A,A_))\n",
    "display(sp.Eq(B,B_))\n",
    "\n",
    "A_abs = sp.Abs(A_).simplify()\n",
    "B_abs = sp.Abs(B_).simplify()\n",
    "tan_chi_A = -sp.im(A_)/sp.re(A_)\n",
    "tan_chi_B = -sp.im(B_)/sp.re(B_)\n",
    "\n",
    "display(sp.Eq(sp.Abs(A),A_abs))\n",
    "# display(sp.Eq(sp.tan(sp.Symbol(r'\\chi_A')),tan_chi_A))\n",
    "display(sp.Eq(sp.Abs(B),B_abs))\n",
    "# display(sp.Eq(sp.tan(sp.Symbol(r'\\chi_B')),tan_chi_B))\n",
    "\n",
    "# display(sp.Eq(sp.Symbol(r\"\\chi_{A}'(k)\"),tan_chi_A.diff(k)/(1 + sp.atan(tan_chi_A)**2)))\n",
    "# display(sp.Eq(sp.Symbol(r\"\\chi_{B}'(k)\"),tan_chi_B.diff(k)/(1 + sp.atan(tan_chi_B)**2)))"
   ]
  },
  {
   "cell_type": "code",
   "execution_count": null,
   "id": "58c81713-e42b-43a7-806b-45b5c3dd70ed",
   "metadata": {},
   "outputs": [],
   "source": [
    "# E > V0\n",
    "x       = sp.symbols(r'x',real=True)\n",
    "a,m,V0  = sp.symbols(r'a m V_0',real=True,positive=True)\n",
    "k,kp    = sp.symbols(r\"k k'\",real=True,positive=True)\n",
    "A,B,C,D = sp.symbols(r'A B C D')\n",
    "\n",
    "psi_l = sp.exp(sp.I*k*x) + A*sp.exp(-sp.I*k*x)\n",
    "psi_m = C*sp.cos(kp*x) + D*sp.sin(kp*x)\n",
    "psi_r = B*sp.exp(sp.I*k*x)\n",
    "\n",
    "BC1 = sp.Eq(psi_l.subs(x,0),psi_m.subs(x,0))\n",
    "BC2 = sp.Eq(psi_l.diff(x).subs(x,0),psi_m.diff(x).subs(x,0))\n",
    "BC3 = sp.Eq(psi_m.subs(x,a),psi_r.subs(x,a))\n",
    "BC4 = sp.Eq(psi_m.diff(x).subs(x,a),psi_r.diff(x).subs(x,a))\n",
    "\n",
    "sol = sp.solve([BC1,BC2,BC3,BC4],[A,B,C,D],dict=True)[0]\n",
    "A_  = sol[A].simplify()\n",
    "B_  = sol[B].simplify()\n",
    "\n",
    "display(sp.Eq(A,A_))\n",
    "display(sp.Eq(B,B_))\n",
    "\n",
    "A_abs = sp.Abs(A_).simplify()\n",
    "B_abs = sp.Abs(B_).simplify()\n",
    "tan_chi_A = -sp.im(A_)/sp.re(A_)\n",
    "tan_chi_B = -sp.im(B_)/sp.re(B_)\n",
    "\n",
    "display(sp.Eq(sp.Abs(A),A_abs))\n",
    "# display(sp.Eq(sp.tan(sp.Symbol(r'\\chi_A')),tan_chi_A))\n",
    "display(sp.Eq(sp.Abs(B),B_abs))\n",
    "# display(sp.Eq(sp.tan(sp.Symbol(r'\\chi_B')),tan_chi_B))\n",
    "\n",
    "# display(sp.Eq(sp.Symbol(r\"\\chi_{A}'(k)\"),tan_chi_A.diff(k)/(1 + sp.atan(tan_chi_A)**2)))\n",
    "# display(sp.Eq(sp.Symbol(r\"\\chi_{B}'(k)\"),tan_chi_B.diff(k)/(1 + sp.atan(tan_chi_B)**2)))"
   ]
  },
  {
   "cell_type": "code",
   "execution_count": null,
   "id": "3be325a4-be6d-4a22-beec-9f31018042c9",
   "metadata": {},
   "outputs": [],
   "source": [
    "# E = V0\n",
    "x       = sp.symbols(r'x',real=True)\n",
    "a,m,V0  = sp.symbols(r'a m V_0',real=True,positive=True)\n",
    "k,kp    = sp.symbols(r\"k k'\",real=True,positive=True)\n",
    "A,B,C,D = sp.symbols(r'A B C D')\n",
    "\n",
    "psi_l = sp.exp(sp.I*k*x) + A*sp.exp(-sp.I*k*x)\n",
    "psi_m = C + D*x\n",
    "psi_r = B*sp.exp(sp.I*k*x)\n",
    "\n",
    "BC1 = sp.Eq(psi_l.subs(x,0),psi_m.subs(x,0))\n",
    "BC2 = sp.Eq(psi_l.diff(x).subs(x,0),psi_m.diff(x).subs(x,0))\n",
    "BC3 = sp.Eq(psi_m.subs(x,a),psi_r.subs(x,a))\n",
    "BC4 = sp.Eq(psi_m.diff(x).subs(x,a),psi_r.diff(x).subs(x,a))\n",
    "\n",
    "sol = sp.solve([BC1,BC2,BC3,BC4],[A,B,C,D],dict=True)[0]\n",
    "A_  = sol[A].simplify()\n",
    "B_  = sol[B].simplify()\n",
    "\n",
    "display(sp.Eq(A,A_))\n",
    "display(sp.Eq(B,B_))\n",
    "\n",
    "A_abs = sp.Abs(A_).simplify()\n",
    "B_abs = sp.Abs(B_).simplify()\n",
    "tan_chi_A = -sp.im(A_)/sp.re(A_)\n",
    "tan_chi_B = -sp.im(B_)/sp.re(B_)\n",
    "\n",
    "display(sp.Eq(sp.Abs(A),A_abs))\n",
    "# display(sp.Eq(sp.tan(sp.Symbol(r'\\chi_A')),tan_chi_A))\n",
    "display(sp.Eq(sp.Abs(B),B_abs))\n",
    "# display(sp.Eq(sp.tan(sp.Symbol(r'\\chi_B')),tan_chi_B))\n",
    "\n",
    "# display(sp.Eq(sp.Symbol(r\"\\chi_{A}'(k)\"),tan_chi_A.diff(k)/(1 + sp.atan(tan_chi_A)**2)))\n",
    "# display(sp.Eq(sp.Symbol(r\"\\chi_{B}'(k)\"),tan_chi_B.diff(k)/(1 + sp.atan(tan_chi_B)**2)))"
   ]
  },
  {
   "cell_type": "code",
   "execution_count": 4,
   "id": "458ea567-0e6c-485f-b9fa-bf6c350ad628",
   "metadata": {},
   "outputs": [],
   "source": [
    "def A2(k,V0=1,a=1):\n",
    "    if k**2 < 2*V0:\n",
    "        kappa = np.sqrt(2*V0-k**2)\n",
    "        return 4*V0**2*np.sinh(kappa*a)**2/(4*kappa**2*k**2 + 4*V0**2*np.sinh(kappa*a)**2)\n",
    "    elif k**2 == 2*V0:\n",
    "        return k**2*a**2/(4 + a**2*k**2)\n",
    "    else:\n",
    "        kp = np.sqrt(k**2 - 2*V0)\n",
    "        return 4*V0**2*np.sin(kp*a)**2/(4*kp**2*k**2 + 4*V0**2*np.sin(kp*a)**2)"
   ]
  },
  {
   "cell_type": "code",
   "execution_count": 5,
   "id": "ea594ee5-da59-4307-862a-669c4a978c5f",
   "metadata": {},
   "outputs": [
    {
     "data": {
      "image/png": "[encoded data removed]",
      "text/plain": [
       "<Figure size 504x360 with 1 Axes>"
      ]
     },
     "metadata": {
      "needs_background": "light"
     },
     "output_type": "display_data"
    }
   ],
   "source": [
    "nrows,ncols = 1,1\n",
    "fig,ax = plt.subplots(nrows=nrows,ncols=ncols,figsize=(7*ncols,5*nrows))\n",
    "\n",
    "k   = np.linspace(0,10,1000)\n",
    "A2_ = np.array([A2(_,V0=1,a=5) for _ in k])\n",
    "\n",
    "ax.plot(k,1-A2_,'r')\n",
    "ax.axhline(1,color='k',ls='-.')\n",
    "\n",
    "ax.set_xlabel(r'$k/m$',size=30)\n",
    "ax.set_ylabel(r'$|A(k)|^2$',size=30)\n",
    "ax.tick_params(axis='both',which='major',labelsize=20,direction='in')\n",
    "ax.set_xlim(0,10)\n",
    "ax.set_ylim(-0.01,None)\n",
    "\n",
    "plt.show()"
   ]
  },
  {
   "cell_type": "markdown",
   "id": "d243e052-b043-4d93-946d-622eaadb0290",
   "metadata": {},
   "source": [
    "numerics"
   ]
  },
  {
   "cell_type": "code",
   "execution_count": 6,
   "id": "3cd1e754-0c07-4732-b520-503f19f3a458",
   "metadata": {},
   "outputs": [],
   "source": [
    "def V(x,a=1,V0=1):\n",
    "    return V0*(x > 0)*(x < a)"
   ]
  },
  {
   "cell_type": "code",
   "execution_count": 7,
   "id": "fd1b3391-61b9-434e-95a0-f21188df8e9e",
   "metadata": {},
   "outputs": [],
   "source": [
    "def get_RT(k,m=1,sig_x=10,x0=-30,xm=100,N=5000,V0=1,a=1,dt=0.001,max_iter=int(1e5),tol=1e-3):\n",
    "    x  = np.linspace(-xm,xm,N)\n",
    "    dx = x[1] - x[0]\n",
    "    li = x < 0\n",
    "    ri = x > a\n",
    "    \n",
    "    psi0 = Psi0_gwp(x,m=m,sig=sig_x,k=k,x0=x0)\n",
    "    for i in range(max_iter):\n",
    "        psi  = U_psi_ft(dt,x,psi0,m=m,V=lambda t: V(t,a=a,V0=V0))\n",
    "        drho = dx*np.abs(psi)**2\n",
    "        \n",
    "        R = np.sum(drho[li])\n",
    "        T = np.sum(drho[ri])\n",
    "        \n",
    "        if 1 - (R + T) < tol and (k*i*dt/m + x0) > 0:\n",
    "            # print(i)\n",
    "            break\n",
    "        else:\n",
    "            psi0 = psi.copy()\n",
    "    \n",
    "    # t = i*dt\n",
    "    # print(t**2/(8*sig_x**4*m**2))\n",
    "            \n",
    "    return np.array([R,T])"
   ]
  },
  {
   "cell_type": "code",
   "execution_count": 10,
   "id": "21d69b36-6a5d-460f-b564-1ab3e3f1e147",
   "metadata": {},
   "outputs": [],
   "source": [
    "V0,a = 2,3\n",
    "k    = np.linspace(1,10,50)\n",
    "\n",
    "results = Parallel(n_jobs=7)(delayed(get_RT)(_,N=10000,dt=0.001,V0=V0,a=a) for _ in k)\n",
    "R,T = np.array(results).T\n",
    "\n",
    "# R,T  = np.array([get_RT(_,V0=V0,a=a) for _ in k]).T\n",
    "# print(T)"
   ]
  },
  {
   "cell_type": "code",
   "execution_count": 13,
   "id": "135776f1-756f-41ce-b107-201f02e84ead",
   "metadata": {},
   "outputs": [
    {
     "data": {
      "image/png": "[encoded data removed]",
      "text/plain": [
       "<Figure size 504x504 with 2 Axes>"
      ]
     },
     "metadata": {
      "needs_background": "light"
     },
     "output_type": "display_data"
    }
   ],
   "source": [
    "nrows,ncols = 2,1\n",
    "fig,ax = plt.subplots(nrows=nrows,ncols=ncols,figsize=(7,7),gridspec_kw={'height_ratios':[6,2]})\n",
    "\n",
    "ke  = np.linspace(1,10,1000)\n",
    "Te_ = np.array([1 - A2(_,V0=V0,a=a) for _ in ke])\n",
    "ax[0].plot(ke,Te_,'r-',label=r'${\\rm exact}$')\n",
    "ax[0].plot(k,T,color='k',ls='None',marker='.',markersize=10,label=r'$\\rm numeric$')\n",
    "\n",
    "ax[0].set_ylabel(r'$|B(k)|^2$',size=30)\n",
    "ax[0].tick_params(axis='both',which='major',labelsize=20,direction='in')\n",
    "ax[0].tick_params(axis='x',which='major',labelsize=0)\n",
    "ax[0].legend(fontsize=20,frameon=False,loc='center')\n",
    "text =(\n",
    "    r'\\begin{align*}'\n",
    "    rf'V_0 &= {V0} \\\\'\n",
    "    rf'a &= {a} \\\\'\n",
    "    r'm &= 1'\n",
    "    r'\\end{align*}'\n",
    ")\n",
    "ax[0].text(s=text,size=20,x=0.975,y=0.05,ha='right',va='bottom',transform=ax[0].transAxes)\n",
    "\n",
    "#####\n",
    "\n",
    "Te_ = np.array([1-A2(_,V0=V0,a=a) for _ in k])\n",
    "ax[1].plot(k,T/Te_,color='k',ls='-',marker='.',markersize=10)\n",
    "ax[1].axhline(1,color='k',ls='-.',alpha=0.5)\n",
    "\n",
    "ax[1].tick_params(axis='both',which='major',labelsize=20,direction='in')\n",
    "ax[1].set_xlabel(r'$k/m$',size=30)\n",
    "ax[1].set_ylabel(r'$\\rm ratio$',size=30)\n",
    "ax[1].set_ylim(0.9,1.1)\n",
    "\n",
    "fig.align_labels()\n",
    "\n",
    "plt.tight_layout()\n",
    "plt.show()"
   ]
  },
  {
   "cell_type": "code",
   "execution_count": null,
   "id": "ca33867c-26b2-4f02-8617-e7ba99856cd5",
   "metadata": {},
   "outputs": [],
   "source": [
    "nrows,ncols = 1,1\n",
    "fig,ax = plt.subplots(nrows=nrows,ncols=ncols,figsize=(7*ncols,5*nrows))\n",
    "\n",
    "m    = 1\n",
    "sig  = 1\n",
    "k    = 1\n",
    "x0   = -10\n",
    "args = (m,sig,k,x0)\n",
    "x = np.linspace(-50,50,500)\n",
    "dx = x[1] - x[0]\n",
    "\n",
    "psi0 = Psi0_gwp(x,*args)\n",
    "ax.plot(x,np.abs(psi0)**2,color='r',ls='-',lw=5,alpha=0.5,label=r'$t = 0$')\n",
    "\n",
    "\n",
    "V0  = 10\n",
    "dt  = 0.01\n",
    "t   = np.arange(0,30,dt)\n",
    "Psi = [psi0]\n",
    "for _ in t[1:]:\n",
    "    temp = U_psi_ft(dt,x,Psi[-1],m=m,V=lambda t: V(t,a=1,V0=10))\n",
    "    Psi.append(temp)\n",
    "    if np.isclose(_,np.round(_)):\n",
    "        ax.plot(x,np.abs(Psi[-1])**2,ls='-.')\n",
    "\n",
    "ax.set_xlabel(r'$x~({\\rm AU})$',size=30)\n",
    "ax.set_ylabel(r'$|\\Psi(x,t)|^2$',size=30)\n",
    "ax.legend(fontsize=20,loc='upper right',frameon=False)\n",
    "ax.tick_params(axis='both',which='major',labelsize=20,direction='in')\n",
    "\n",
    "plt.show()"
   ]
  },
  {
   "cell_type": "code",
   "execution_count": null,
   "id": "e4f99226-b561-4c10-a101-f992e04fbbad",
   "metadata": {},
   "outputs": [],
   "source": [
    "nrows,ncols = 1,1\n",
    "fig,ax = plt.subplots(nrows=nrows,ncols=ncols,figsize=(7*ncols,5*nrows))\n",
    "\n",
    "m    = 1\n",
    "sig  = 10\n",
    "k    = 3\n",
    "x0   = -30\n",
    "args = (m,sig,k,x0)\n",
    "x = np.linspace(-100,100,5000)\n",
    "dx = x[1] - x[0]\n",
    "\n",
    "psi0 = Psi0_gwp(x,*args)\n",
    "ax.plot(x,np.abs(psi0)**2,color='r',ls='-',lw=5,alpha=0.5,label=r'$t = 0$')\n",
    "\n",
    "V0  = 1\n",
    "a   = 1\n",
    "dt  = 0.001\n",
    "t   = np.arange(0,30,dt)\n",
    "Psi = [psi0]\n",
    "for _ in t[1:]:\n",
    "    temp = U_psi_ft(dt,x,Psi[-1],m=m,V=lambda t: V(t,a=a,V0=V0))\n",
    "    Psi.append(temp)\n",
    "ax.plot(x,np.abs(Psi[0])**2,color='k',ls='-.')\n",
    "\n",
    "# exact = Psi2_gwp(x,t[-1],*args)\n",
    "# ax.plot(x,exact,color='c',ls='-',lw=5,alpha=0.5,label=r'$t = %.2g$'%t[-1])\n",
    "ax.plot(x,np.abs(Psi[-1])**2,color='k',ls='-.',label=r'$\\rm numeric$')\n",
    "\n",
    "# print(dx*np.sum(np.abs(Psi[0])**2))\n",
    "# print(dx*np.sum(np.abs(Psi[-1])**2))\n",
    "\n",
    "ax.set_xlabel(r'$x~({\\rm AU})$',size=30)\n",
    "ax.set_ylabel(r'$|\\Psi(x,t)|^2$',size=30)\n",
    "ax.legend(fontsize=20,loc='upper right',frameon=False)\n",
    "ax.tick_params(axis='both',which='major',labelsize=20,direction='in')\n",
    "\n",
    "plt.show()"
   ]
  },
  {
   "cell_type": "markdown",
   "id": "b7b2d14f-c637-4c50-b902-9e5b91fb13dc",
   "metadata": {},
   "source": [
    "# Math stuff"
   ]
  },
  {
   "cell_type": "code",
   "execution_count": null,
   "id": "5614dba6-3ec8-436a-b92d-80114e27f703",
   "metadata": {},
   "outputs": [],
   "source": [
    "x,y,k,x0 = sp.symbols(r'x y k x_0',real=True)\n",
    "t,m,sig      = sp.symbols(r't m \\sigma',real=True,positive=True)\n",
    "\n",
    "expr  = -(-m*(x-y)**2/(2*sp.I*t) - (y - x0)**2/(4*sig**2) + sp.I*k*y)\n",
    "a,b,c = sp.Poly(expr.series(y),y).coeffs()"
   ]
  },
  {
   "cell_type": "code",
   "execution_count": null,
   "id": "9258adf9-8f6f-4af8-9a74-813f56f2d7d2",
   "metadata": {},
   "outputs": [],
   "source": [
    "display(a)\n",
    "display(b)\n",
    "display(c)"
   ]
  },
  {
   "cell_type": "code",
   "execution_count": null,
   "id": "e2b31200-3e3a-48de-8152-e35d687e2825",
   "metadata": {},
   "outputs": [],
   "source": [
    "psi = 1/sp.sqrt(2*sp.pi*sig**2)*m/(2*sp.pi*t)*sp.pi/sp.Abs(a)*sp.exp(2*sp.re((b**2/4/a-c).expand()).factor())\n",
    "sp.integrate(psi,(x,-sp.oo,sp.oo))\n"
   ]
  },
  {
   "cell_type": "code",
   "execution_count": null,
   "id": "59f968df-7324-491e-aa83-ef9b315d1ba3",
   "metadata": {},
   "outputs": [],
   "source": []
  },
  {
   "cell_type": "code",
   "execution_count": null,
   "id": "d0370dbd-df24-4239-a60d-f8799cbbee93",
   "metadata": {},
   "outputs": [],
   "source": [
    "psi = 1/sp.sqrt(sp.sqrt((2*sp.pi*sig**2)))*sp.exp(-(x-x0)**2/(4*sig**2))*sp.exp(sp.I*k*x)\n",
    "sp.integrate(psi.conjugate()*-sp.I*psi.diff(x),(x,-sp.oo,sp.oo))"
   ]
  },
  {
   "cell_type": "code",
   "execution_count": null,
   "id": "bda20c2f-ad56-4e83-8b68-9185fc1c7d11",
   "metadata": {},
   "outputs": [],
   "source": [
    "psi = 1/sp.sqrt(sp.sqrt((2*sp.pi*sig**2)))*sp.sqrt(sp.pi/a)*sp.sqrt(m/(2*sp.pi*sp.I*t))*sp.exp(b**2/4/a-c)\n",
    "(sp.Abs(psi)**2).simplify()"
   ]
  },
  {
   "cell_type": "code",
   "execution_count": null,
   "id": "d5e2b4eb-22d0-4134-b111-c1a40911dfa5",
   "metadata": {},
   "outputs": [],
   "source": [
    "rho = 1/sp.sqrt((2*sp.pi*sig**2))*2*m*sig**2/(2*m*sig**2+t**2)*sp.exp(-2*m**2*sig**2*(x-(x0+k*t/m))**2/(4*sig**4*m**2+t**2))\n",
    "sp.integrate(rho,(x,-sp.oo,sp.oo))\n"
   ]
  },
  {
   "cell_type": "code",
   "execution_count": null,
   "id": "085b4d35-7fc2-49b1-82ab-6d289e02a2ac",
   "metadata": {},
   "outputs": [],
   "source": []
  }
 ],
 "metadata": {
  "kernelspec": {
   "display_name": "Python 3 (ipykernel)",
   "language": "python",
   "name": "python3"
  },
  "language_info": {
   "codemirror_mode": {
    "name": "ipython",
    "version": 3
   },
   "file_extension": ".py",
   "mimetype": "text/x-python",
   "name": "python",
   "nbconvert_exporter": "python",
   "pygments_lexer": "ipython3",
   "version": "3.9.18"
  }
 },
 "nbformat": 4,
 "nbformat_minor": 5
}
