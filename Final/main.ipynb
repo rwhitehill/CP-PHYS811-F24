{
 "cells": [
  {
   "cell_type": "code",
   "execution_count": 1,
   "id": "831ff1d9-7096-4644-8821-dc59b54bd48b",
   "metadata": {},
   "outputs": [],
   "source": [
    "import numpy as np\n",
    "import sympy as sp\n",
    "\n",
    "import matplotlib.pyplot as plt\n",
    "plt.rcParams.update({\n",
    "    'text.latex.preamble': r'\\usepackage{amsmath}',\n",
    "    'text.usetex': True,\n",
    "    'font.family': 'sans-serif',\n",
    "    'font.sans-serif': ['Helvetica']\n",
    "})"
   ]
  },
  {
   "cell_type": "markdown",
   "id": "00089b5e-cc17-473e-ad69-6c0afe15e0ef",
   "metadata": {},
   "source": [
    "# finite difference solver -- debunked!!!"
   ]
  },
  {
   "cell_type": "code",
   "execution_count": 59,
   "id": "a0bb739b-f824-4a1a-ac1a-e7981db32548",
   "metadata": {},
   "outputs": [],
   "source": [
    "def get_U_fde(dt,x,V=lambda t: np.full(t.shape[0],0),m=1):\n",
    "    dx = x[1] - x[0]\n",
    "    N  = x.shape[0]\n",
    "    H  = -(np.diag(np.full(N-1,1),k=-1) - np.diag(np.full(N,2),k=0) + np.diag(np.full(N-1,1),k=1))/2/m/dx**2 + np.diag(V(x),k=0)\n",
    "    H[0][:2]   = np.array([1,0])\n",
    "    H[-1][-2:] = np.array([0,1])\n",
    "    print(H)\n",
    "    \n",
    "    U = np.eye(N) - complex(0,dt)*H\n",
    "    return U\n",
    "\n",
    "def get_U_fdi(dt,x,V=lambda t: np.full(t.shape[0],0),m=1):\n",
    "    dx = x[1] - x[0]\n",
    "    N  = x.shape[0]\n",
    "    H  = -(np.diag(np.full(N-1,1),k=-1) - np.diag(np.full(N,2),k=0) + np.diag(np.full(N-1,1),k=1))/2/m/dx**2 + np.diag(V(x),k=0)\n",
    "    H[0][:2]   = np.array([1,0])\n",
    "    H[-1][-2:] = np.array([0,1])\n",
    "    \n",
    "    U = np.eye(N) + complex(0,dt)*H\n",
    "    return U"
   ]
  },
  {
   "cell_type": "code",
   "execution_count": 60,
   "id": "4b0fd220-b4e5-418c-880d-05c65d95c7ae",
   "metadata": {},
   "outputs": [],
   "source": [
    "def gauss_psi(x,t,a=1,m=1):\n",
    "    gam = complex(1,2*a*t/m)\n",
    "    return (2*a/np.pi)**(1/4)*1/np.sqrt(gam)*np.exp(-a*x**2/gam)"
   ]
  },
  {
   "cell_type": "markdown",
   "id": "7f94814d-1c53-41fe-b611-6c6438f2a679",
   "metadata": {},
   "source": [
    "test explicit evolution"
   ]
  },
  {
   "cell_type": "code",
   "execution_count": 61,
   "id": "6abc5737-9fb7-4f4e-979c-d4dc1c93764f",
   "metadata": {},
   "outputs": [
    {
     "name": "stdout",
     "output_type": "stream",
     "text": [
      "0.006002500000000012\n",
      "[[ 1.       0.       0.      ...  0.       0.       0.     ]\n",
      " [-3.00125  6.0025  -3.00125 ...  0.       0.       0.     ]\n",
      " [ 0.      -3.00125  6.0025  ...  0.       0.       0.     ]\n",
      " ...\n",
      " [ 0.       0.       0.      ...  6.0025  -3.00125  0.     ]\n",
      " [ 0.       0.       0.      ... -3.00125  6.0025  -3.00125]\n",
      " [ 0.       0.       0.      ...  0.       0.       1.     ]]\n"
     ]
    },
    {
     "data": {
      "text/plain": [
       "array([1.00007191, 1.00007147, 1.00007073, 1.00006972, 1.00006843,\n",
       "       1.00006689, 1.0000651 , 1.00006308, 1.00006086, 1.00005846,\n",
       "       1.00005589, 1.00005319, 1.00005038, 1.00004748, 1.00004452,\n",
       "       1.00004153, 1.00003853, 1.00003555, 1.00003261, 1.00002972,\n",
       "       1.00002692, 1.00002422, 1.00002164, 1.00001919, 1.00001688,\n",
       "       1.00001472, 1.00001272, 1.00001089, 1.00000922, 1.00000772,\n",
       "       1.        , 1.        , 1.00000001, 1.00000002, 1.00000005,\n",
       "       1.0000001 , 1.00000018, 1.0000003 , 1.00000047, 1.00000071,\n",
       "       1.00000103, 1.00000143, 1.00000193, 1.00000255, 1.00000638,\n",
       "       1.0000033 , 1.0000052 , 1.00000418, 1.0000005 , 1.0000005 ])"
      ]
     },
     "execution_count": 61,
     "metadata": {},
     "output_type": "execute_result"
    }
   ],
   "source": [
    "x  = np.linspace(-10,10,50)\n",
    "dx = x[1] - x[0]\n",
    "\n",
    "x0,sig = 0,1\n",
    "psi0    = (2*np.pi*sig**2)**(-1/4)*np.exp(-(x-x0)**2/4/sig**2)\n",
    "\n",
    "dt = 0.001\n",
    "print(dt/dx**2)\n",
    "U  = get_U_fde(dt,x)\n",
    "np.abs(np.linalg.eigvals(U))"
   ]
  },
  {
   "cell_type": "code",
   "execution_count": 62,
   "id": "109bcc5f-b164-45a7-aa46-e2de8975ca3a",
   "metadata": {},
   "outputs": [
    {
     "data": {
      "image/png": "[encoded data removed]",
      "text/plain": [
       "<Figure size 432x288 with 1 Axes>"
      ]
     },
     "metadata": {
      "needs_background": "light"
     },
     "output_type": "display_data"
    }
   ],
   "source": [
    "# for _ in rho[0]:\n",
    "rho0 = np.abs(psi0)**2\n",
    "plt.plot(x,rho0,'k.')\n",
    "temp = gauss_psi(x,0,a=1/4/sig**2)\n",
    "plt.plot(x,np.real(temp*temp.conjugate()),'k-')\n",
    "\n",
    "Nt = 5000\n",
    "psi = (U**Nt)@psi0\n",
    "rho = np.abs(psi)**2\n",
    "plt.plot(x,rho,'r.')\n",
    "temp = gauss_psi(x,Nt*dt,a=1/4/sig**2)\n",
    "plt.plot(x,np.abs(temp)**2,'r-')\n",
    "\n",
    "\n",
    "plt.show()"
   ]
  },
  {
   "cell_type": "markdown",
   "id": "cda3d526-738b-4668-9e48-0a49d80d55ab",
   "metadata": {},
   "source": [
    "test implicit evolution"
   ]
  },
  {
   "cell_type": "code",
   "execution_count": 67,
   "id": "497a25e4-5f85-4ef7-8ffb-0d9039aad4c9",
   "metadata": {},
   "outputs": [
    {
     "name": "stdout",
     "output_type": "stream",
     "text": [
      "0.024502499999999903\n",
      "0.000600372506250002\n"
     ]
    },
    {
     "data": {
      "text/plain": [
       "array([1.        , 1.        , 0.99999999, 0.99999998, 0.99999995,\n",
       "       0.9999999 , 0.99880202, 0.99880382, 0.99880682, 0.99881102,\n",
       "       0.99999982, 0.99999969, 0.9988164 , 0.99882294, 0.99883063,\n",
       "       0.99883946, 0.99999925, 0.99999789, 0.99999717, 0.99999846,\n",
       "       0.99999629, 0.99999522, 0.99886041, 0.99889969, 0.99888559,\n",
       "       0.99999395, 0.99891476, 0.99994027, 0.99994707, 0.99993291,\n",
       "       0.99997709, 0.99992496, 0.99893074, 0.99997325, 0.99995331,\n",
       "       0.99998052, 0.99991641, 0.99894762, 0.99990724, 0.99896533,\n",
       "       0.99932526, 0.99930057, 0.99934996, 0.99987587, 0.99986409,\n",
       "       0.99927594, 0.9993746 , 0.9992514 , 0.99947176, 0.99985164,\n",
       "       0.99944777, 0.9990869 , 0.99949547, 0.99983852, 0.99922702,\n",
       "       0.99951886, 0.9995419 , 0.99982472, 0.99913209, 0.99910926,\n",
       "       0.99969036, 0.99967073, 0.99970939, 0.99904378, 0.99965053,\n",
       "       0.99972781, 0.99998626, 0.99956455, 0.99981024, 0.99974561,\n",
       "       0.99906506, 0.99998357, 0.99915533, 0.99958676, 0.99979508,\n",
       "       0.99902313, 0.99996898, 0.99998862, 0.99887249, 0.99900313,\n",
       "       0.99999067, 0.99999891, 0.99976275, 0.99962979, 0.99988698,\n",
       "       0.99942356, 0.99995903, 0.99920285, 0.99999951, 0.99999244,\n",
       "       0.99996424, 0.99884939, 0.99989743, 0.99898386, 0.99939915,\n",
       "       0.99917893, 0.99960852, 0.99977925, 0.9999995 , 0.9999995 ])"
      ]
     },
     "execution_count": 67,
     "metadata": {},
     "output_type": "execute_result"
    }
   ],
   "source": [
    "x  = np.linspace(-10,10,100)\n",
    "dx = x[1] - x[0]\n",
    "\n",
    "x0,sig = 0,1\n",
    "psi0    = (2*np.pi*sig**2)**(-1/4)*np.exp(-(x-x0)**2/4/sig**2)\n",
    "\n",
    "dt = 0.001\n",
    "print(dt/dx**2)\n",
    "U = get_U_fdi(dt,x)\n",
    "print(np.amax(np.abs(U*U.conjugate().T - np.eye(x.size))))\n",
    "np.abs(1/np.linalg.eigvals(U))"
   ]
  },
  {
   "cell_type": "code",
   "execution_count": 69,
   "id": "07163910-b137-47d7-bc7b-4665fd9f918f",
   "metadata": {},
   "outputs": [
    {
     "name": "stdout",
     "output_type": "stream",
     "text": [
      "1.000000000000002\n",
      "0.5487060797057448\n"
     ]
    },
    {
     "data": {
      "image/png": "[encoded data removed]",
      "text/plain": [
       "<Figure size 432x288 with 1 Axes>"
      ]
     },
     "metadata": {
      "needs_background": "light"
     },
     "output_type": "display_data"
    }
   ],
   "source": [
    "# for _ in rho[0]:\n",
    "rho0 = np.abs(psi0)**2\n",
    "print(np.sum(rho0)*dx)\n",
    "plt.plot(x,rho0,'k.')\n",
    "temp = gauss_psi(x,0,a=1/4/sig**2)\n",
    "plt.plot(x,np.real(temp*temp.conjugate()),'k-')\n",
    "\n",
    "Nt = 1000\n",
    "psi = np.linalg.solve((U**Nt),psi0)\n",
    "rho = np.abs(psi)**2\n",
    "print(np.sum(rho)*dx)\n",
    "plt.plot(x,rho,'r.')\n",
    "temp = gauss_psi(x,Nt*dt,a=1/4/sig**2)\n",
    "plt.plot(x,np.abs(temp)**2,'r-')\n",
    "\n",
    "plt.show()"
   ]
  },
  {
   "cell_type": "code",
   "execution_count": null,
   "id": "ebf58dbd-58a6-4960-bba7-32ff616fecf1",
   "metadata": {},
   "outputs": [],
   "source": []
  },
  {
   "cell_type": "markdown",
   "id": "5ba74871-3ed8-4809-ba87-f500aead3467",
   "metadata": {},
   "source": [
    "# FFT solver"
   ]
  },
  {
   "cell_type": "code",
   "execution_count": 113,
   "id": "7300bd44-f4b2-44ea-9794-20b0f89cd5d3",
   "metadata": {},
   "outputs": [],
   "source": [
    "def f(x,sig=1):\n",
    "    return np.exp(-x**2/2/sig**2)/np.sqrt(2*np.pi*sig**2)\n",
    "\n",
    "def F(k,sig=1):\n",
    "    return np.exp(-k**2*sig**2/2)"
   ]
  },
  {
   "cell_type": "code",
   "execution_count": 117,
   "id": "e383f5c6-9d91-40e5-b707-9dbfcc27640c",
   "metadata": {},
   "outputs": [],
   "source": [
    "x   = np.linspace(-10,10,3000)\n",
    "dx  = x[1] - x[0]\n",
    "f_  = f(x,sig=0.01)\n",
    "\n",
    "k   = np.fft.fftfreq(x.size)*2*np.pi/dx\n",
    "f_t = dx*np.exp(-complex(0,1)*k*x[0])*np.fft.fft(f_)\n",
    "f_t,k = np.fft.fftshift(f_t),np.fft.fftshift(k)"
   ]
  },
  {
   "cell_type": "code",
   "execution_count": 118,
   "id": "2ec42642-d18d-49d5-b39c-56815c330a25",
   "metadata": {},
   "outputs": [
    {
     "data": {
      "image/png": "[encoded data removed]",
      "text/plain": [
       "<Figure size 640x480 with 1 Axes>"
      ]
     },
     "metadata": {},
     "output_type": "display_data"
    }
   ],
   "source": [
    "plt.plot(x,f_,'k-')\n",
    "\n",
    "plt.show()"
   ]
  },
  {
   "cell_type": "code",
   "execution_count": 126,
   "id": "a482fc0a-35e3-4f01-85cb-cc16dac32bb1",
   "metadata": {},
   "outputs": [
    {
     "data": {
      "image/png": "[encoded data removed]",
      "text/plain": [
       "<Figure size 640x480 with 1 Axes>"
      ]
     },
     "metadata": {},
     "output_type": "display_data"
    }
   ],
   "source": [
    "plt.plot(k,np.abs(f_t),'r-',lw=5,alpha=0.5)\n",
    "plt.plot(k,F(k,sig=0.01),'k-.')\n",
    "plt.show()"
   ]
  },
  {
   "cell_type": "code",
   "execution_count": null,
   "id": "e60879d8-f8dd-425a-89a2-662c48d3bf82",
   "metadata": {},
   "outputs": [],
   "source": []
  },
  {
   "cell_type": "code",
   "execution_count": null,
   "id": "5614dba6-3ec8-436a-b92d-80114e27f703",
   "metadata": {},
   "outputs": [],
   "source": []
  },
  {
   "cell_type": "code",
   "execution_count": null,
   "id": "9258adf9-8f6f-4af8-9a74-813f56f2d7d2",
   "metadata": {},
   "outputs": [],
   "source": []
  },
  {
   "cell_type": "code",
   "execution_count": null,
   "id": "d0370dbd-df24-4239-a60d-f8799cbbee93",
   "metadata": {},
   "outputs": [],
   "source": []
  },
  {
   "cell_type": "code",
   "execution_count": null,
   "id": "04be8c6f-239e-48ac-bd0b-c24a0b910631",
   "metadata": {},
   "outputs": [],
   "source": [
    "x,x0,y,t,a = sp.symbols(r'x x_0 y t a',real=True)\n",
    "sig,hbar,m = sp.symbols(r'\\sigma h m',real=True,positive=True)"
   ]
  },
  {
   "cell_type": "code",
   "execution_count": null,
   "id": "8ff08353-b25f-45db-a7ab-65a18b505ec4",
   "metadata": {},
   "outputs": [],
   "source": [
    "K = sp.sqrt(a/t)*sp.exp(-a*(x-y)**2/t)\n",
    "psi0 = (2*sp.pi*sig**2)**(-1/sp.S(4))*sp.exp(-(x-x0)**2/(4*sig**2))"
   ]
  },
  {
   "cell_type": "code",
   "execution_count": null,
   "id": "49a08683-3e91-40a0-8846-5d64d1928485",
   "metadata": {},
   "outputs": [],
   "source": [
    "psi = sp.integrate(K*psi0.subs(x,y),(y,-sp.oo,sp.oo)).args[0][0].simplify()"
   ]
  },
  {
   "cell_type": "code",
   "execution_count": null,
   "id": "aaaf232a-fa82-4fe4-883d-e57bd13c802d",
   "metadata": {},
   "outputs": [],
   "source": [
    "u,u0,tau = sp.symbols(r'u u_0 \\tau',real=True)"
   ]
  },
  {
   "cell_type": "code",
   "execution_count": null,
   "id": "c9ba0b48-b367-4af4-b845-42a16780cb38",
   "metadata": {},
   "outputs": [],
   "source": [
    "psi = psi.subs(x,sig*u).subs(x0,sig*u0).simplify().subs(t,hbar*tau/(2*m*sig**2)).simplify().subs(a,m/(2*sp.pi*sp.I*hbar)).simplify().expand().simplify()"
   ]
  },
  {
   "cell_type": "code",
   "execution_count": null,
   "id": "b6097f84-9694-4f98-ae94-7f07cab1c846",
   "metadata": {},
   "outputs": [],
   "source": [
    "psi.conjugate()*psi.expand().simplify()"
   ]
  },
  {
   "cell_type": "code",
   "execution_count": null,
   "id": "5e6bc25c-9e7a-404a-896e-904e93816582",
   "metadata": {},
   "outputs": [],
   "source": [
    "psi0"
   ]
  },
  {
   "cell_type": "code",
   "execution_count": null,
   "id": "bda20c2f-ad56-4e83-8b68-9185fc1c7d11",
   "metadata": {},
   "outputs": [],
   "source": []
  }
 ],
 "metadata": {
  "kernelspec": {
   "display_name": "Python 3 (ipykernel)",
   "language": "python",
   "name": "python3"
  },
  "language_info": {
   "codemirror_mode": {
    "name": "ipython",
    "version": 3
   },
   "file_extension": ".py",
   "mimetype": "text/x-python",
   "name": "python",
   "nbconvert_exporter": "python",
   "pygments_lexer": "ipython3",
   "version": "3.9.18"
  }
 },
 "nbformat": 4,
 "nbformat_minor": 5
}
