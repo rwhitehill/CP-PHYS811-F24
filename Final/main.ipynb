{
 "cells": [
  {
   "cell_type": "code",
   "execution_count": 1,
   "id": "831ff1d9-7096-4644-8821-dc59b54bd48b",
   "metadata": {},
   "outputs": [],
   "source": [
    "import numpy as np\n",
    "import sympy as sp\n",
    "\n",
    "import matplotlib.pyplot as plt\n",
    "plt.rcParams.update({\n",
    "    'text.latex.preamble': r'\\usepackage{amsmath}',\n",
    "    'text.usetex': True,\n",
    "    'font.family': 'sans-serif',\n",
    "    'font.sans-serif': ['Helvetica']\n",
    "})"
   ]
  },
  {
   "cell_type": "markdown",
   "id": "00089b5e-cc17-473e-ad69-6c0afe15e0ef",
   "metadata": {},
   "source": [
    "# finite difference solver"
   ]
  },
  {
   "cell_type": "code",
   "execution_count": null,
   "id": "a0bb739b-f824-4a1a-ac1a-e7981db32548",
   "metadata": {},
   "outputs": [],
   "source": [
    "def get_U_fde(dt,x,V=lambda t: np.full(t.shape[0],0),m=1):\n",
    "    dx = x[1] - x[0]\n",
    "    N  = x.shape[0]\n",
    "    H  = -(np.diag(np.full(N-1,1),k=-1) - np.diag(np.full(N,2),k=0) + np.diag(np.full(N-1,1),k=1))/2/m/dx**2 + np.diag(V(x),k=0)\n",
    "    H[0][:2]   = np.array([1,0])\n",
    "    H[-1][-2:] = np.array([0,1])\n",
    "    print(H)\n",
    "    \n",
    "    U = np.eye(N) - complex(0,dt)*H\n",
    "    return U\n",
    "\n",
    "def get_U_fdi(dt,x,V=lambda t: np.full(t.shape[0],0),m=1):\n",
    "    dx = x[1] - x[0]\n",
    "    N  = x.shape[0]\n",
    "    H  = -(np.diag(np.full(N-1,1),k=-1) - np.diag(np.full(N,2),k=0) + np.diag(np.full(N-1,1),k=1))/2/m/dx**2 + np.diag(V(x),k=0)\n",
    "    H[0][:2]   = np.array([1,0])\n",
    "    H[-1][-2:] = np.array([0,1])\n",
    "    \n",
    "    U = np.eye(N) + complex(0,dt)*H\n",
    "    return U"
   ]
  },
  {
   "cell_type": "code",
   "execution_count": null,
   "id": "4b0fd220-b4e5-418c-880d-05c65d95c7ae",
   "metadata": {},
   "outputs": [],
   "source": [
    "def gauss_psi(x,t,a=1,m=1):\n",
    "    gam = complex(1,2*a*t/m)\n",
    "    return (2*a/np.pi)**(1/4)*1/np.sqrt(gam)*np.exp(-a*x**2/gam)"
   ]
  },
  {
   "cell_type": "markdown",
   "id": "7f94814d-1c53-41fe-b611-6c6438f2a679",
   "metadata": {},
   "source": [
    "test explicit evolution"
   ]
  },
  {
   "cell_type": "code",
   "execution_count": null,
   "id": "6abc5737-9fb7-4f4e-979c-d4dc1c93764f",
   "metadata": {},
   "outputs": [],
   "source": [
    "x  = np.linspace(-10,10,50)\n",
    "dx = x[1] - x[0]\n",
    "\n",
    "x0,sig = 0,1\n",
    "psi0    = (2*np.pi*sig**2)**(-1/4)*np.exp(-(x-x0)**2/4/sig**2)\n",
    "\n",
    "dt = 0.001\n",
    "print(dt/dx**2)\n",
    "U  = get_U_fde(dt,x)\n",
    "np.abs(np.linalg.eigvals(U))"
   ]
  },
  {
   "cell_type": "code",
   "execution_count": null,
   "id": "109bcc5f-b164-45a7-aa46-e2de8975ca3a",
   "metadata": {},
   "outputs": [],
   "source": [
    "# for _ in rho[0]:\n",
    "rho0 = np.abs(psi0)**2\n",
    "plt.plot(x,rho0,'k.')\n",
    "temp = gauss_psi(x,0,a=1/4/sig**2)\n",
    "plt.plot(x,np.real(temp*temp.conjugate()),'k-')\n",
    "\n",
    "Nt = 5000\n",
    "psi = (U**Nt)@psi0\n",
    "rho = np.abs(psi)**2\n",
    "plt.plot(x,rho,'r.')\n",
    "temp = gauss_psi(x,Nt*dt,a=1/4/sig**2)\n",
    "plt.plot(x,np.abs(temp)**2,'r-')\n",
    "\n",
    "\n",
    "plt.show()"
   ]
  },
  {
   "cell_type": "markdown",
   "id": "cda3d526-738b-4668-9e48-0a49d80d55ab",
   "metadata": {},
   "source": [
    "test implicit evolution"
   ]
  },
  {
   "cell_type": "code",
   "execution_count": null,
   "id": "497a25e4-5f85-4ef7-8ffb-0d9039aad4c9",
   "metadata": {},
   "outputs": [],
   "source": [
    "x  = np.linspace(-10,10,100)\n",
    "dx = x[1] - x[0]\n",
    "\n",
    "x0,sig = 0,1\n",
    "psi0    = (2*np.pi*sig**2)**(-1/4)*np.exp(-(x-x0)**2/4/sig**2)\n",
    "\n",
    "dt = 0.001\n",
    "print(dt/dx**2)\n",
    "U = get_U_fdi(dt,x)\n",
    "print(np.amax(np.abs(U*U.conjugate().T - np.eye(x.size))))\n",
    "np.abs(1/np.linalg.eigvals(U))"
   ]
  },
  {
   "cell_type": "code",
   "execution_count": null,
   "id": "07163910-b137-47d7-bc7b-4665fd9f918f",
   "metadata": {},
   "outputs": [],
   "source": [
    "# for _ in rho[0]:\n",
    "rho0 = np.abs(psi0)**2\n",
    "print(np.sum(rho0)*dx)\n",
    "plt.plot(x,rho0,'k.')\n",
    "temp = gauss_psi(x,0,a=1/4/sig**2)\n",
    "plt.plot(x,np.real(temp*temp.conjugate()),'k-')\n",
    "\n",
    "Nt = 1000\n",
    "psi = np.linalg.solve((U**Nt),psi0)\n",
    "rho = np.abs(psi)**2\n",
    "print(np.sum(rho)*dx)\n",
    "plt.plot(x,rho,'r.')\n",
    "temp = gauss_psi(x,Nt*dt,a=1/4/sig**2)\n",
    "plt.plot(x,np.abs(temp)**2,'r-')\n",
    "\n",
    "plt.show()"
   ]
  },
  {
   "cell_type": "markdown",
   "id": "5ba74871-3ed8-4809-ba87-f500aead3467",
   "metadata": {},
   "source": [
    "# FFT solver"
   ]
  },
  {
   "cell_type": "code",
   "execution_count": 2,
   "id": "7300bd44-f4b2-44ea-9794-20b0f89cd5d3",
   "metadata": {},
   "outputs": [],
   "source": [
    "def f(x,sig=1):\n",
    "    return np.exp(-x**2/4/sig**2)/(2*np.pi*sig**2)**(1/4)\n",
    "\n",
    "def F(k,sig=1):\n",
    "    return (2*sig**2/np.pi)**(1/4)*np.exp(-k**2*sig**2)"
   ]
  },
  {
   "cell_type": "code",
   "execution_count": 14,
   "id": "e383f5c6-9d91-40e5-b707-9dbfcc27640c",
   "metadata": {},
   "outputs": [],
   "source": [
    "x   = np.linspace(-10,10,200)\n",
    "dx  = x[1] - x[0]\n",
    "N   = x.size\n",
    "f_  = f(x,sig=1)\n",
    "\n",
    "dk  = 2*np.pi/N/dx\n",
    "k   = np.fft.fftfreq(N)\n",
    "f_t = dx*np.sqrt(N)/np.sqrt(2*np.pi)*np.exp(-complex(0,1)*(k - k[0])*x[0])*np.fft.fft(f_,norm='ortho')\n",
    "f_t,k = np.fft.fftshift(f_t),np.fft.fftshift(k)\n",
    "k *= dk/(k[1] - k[0])"
   ]
  },
  {
   "cell_type": "code",
   "execution_count": 15,
   "id": "663a5462-7ac3-4f01-979c-c1cfa57407a9",
   "metadata": {},
   "outputs": [
    {
     "name": "stdout",
     "output_type": "stream",
     "text": [
      "1.0\n",
      "1.0000000000000004\n"
     ]
    }
   ],
   "source": [
    "print(dx*np.sum(f_**2))\n",
    "print(dk*np.sum(np.abs(f_t)**2))"
   ]
  },
  {
   "cell_type": "code",
   "execution_count": 16,
   "id": "2ec42642-d18d-49d5-b39c-56815c330a25",
   "metadata": {},
   "outputs": [
    {
     "data": {
      "image/png": "[encoded data removed]",
      "text/plain": [
       "<Figure size 432x288 with 1 Axes>"
      ]
     },
     "metadata": {
      "needs_background": "light"
     },
     "output_type": "display_data"
    }
   ],
   "source": [
    "plt.plot(x,f_,'k-')\n",
    "plt.show()"
   ]
  },
  {
   "cell_type": "code",
   "execution_count": 18,
   "id": "a482fc0a-35e3-4f01-85cb-cc16dac32bb1",
   "metadata": {},
   "outputs": [
    {
     "data": {
      "image/png": "[encoded data removed]",
      "text/plain": [
       "<Figure size 432x288 with 1 Axes>"
      ]
     },
     "metadata": {
      "needs_background": "light"
     },
     "output_type": "display_data"
    }
   ],
   "source": [
    "plt.plot(k,np.abs(f_t),'r-',lw=5,alpha=0.5)\n",
    "plt.plot(k,F(k,sig=1),'k-.')\n",
    "plt.show()"
   ]
  },
  {
   "cell_type": "markdown",
   "id": "a0127f12-e4e1-40e5-8972-3f66f71e428d",
   "metadata": {},
   "source": [
    "# Test: Gaussian wave packet propagation"
   ]
  },
  {
   "cell_type": "code",
   "execution_count": 106,
   "id": "46af00d4-e7e8-4f6b-bb4c-da6772f9b5b9",
   "metadata": {},
   "outputs": [],
   "source": [
    "def Psi2_gwp(x,t,m=1,sig=1,k=0,x0=0):\n",
    "    return 1/np.sqrt(2*np.pi*sig**2)*2*sig**2*m/np.sqrt(4*sig**4*m**2+t**2)*np.exp(-2*m**2*sig**2*(x-x0-k*t/m)**2/(4*sig**4*m**2+t**2))"
   ]
  },
  {
   "cell_type": "code",
   "execution_count": 113,
   "id": "0e2afaee-fe68-4e8a-bbba-e921afb60daa",
   "metadata": {},
   "outputs": [
    {
     "data": {
      "image/png": "[encoded data removed]",
      "text/plain": [
       "<Figure size 432x288 with 1 Axes>"
      ]
     },
     "metadata": {
      "needs_background": "light"
     },
     "output_type": "display_data"
    }
   ],
   "source": [
    "x = np.linspace(-20,20,1000)\n",
    "for _ in [0,1,3,5]:\n",
    "    plt.plot(x,Psi2_gwp(x,_,x0=-5,sig=0.5,k=3),label=_)\n",
    "    \n",
    "plt.legend()\n",
    "plt.show()"
   ]
  },
  {
   "cell_type": "code",
   "execution_count": 91,
   "id": "5614dba6-3ec8-436a-b92d-80114e27f703",
   "metadata": {},
   "outputs": [],
   "source": [
    "x,y,k,x0 = sp.symbols(r'x y k x_0',real=True)\n",
    "t,m,sig      = sp.symbols(r't m \\sigma',real=True,positive=True)\n",
    "\n",
    "expr  = -(-m*(x-y)**2/(2*sp.I*t) - (y - x0)**2/(4*sig**2) + sp.I*k*y)\n",
    "a,b,c = sp.Poly(expr.series(y),y).coeffs()"
   ]
  },
  {
   "cell_type": "code",
   "execution_count": 92,
   "id": "9258adf9-8f6f-4af8-9a74-813f56f2d7d2",
   "metadata": {},
   "outputs": [
    {
     "data": {
      "text/latex": [
       "$\\displaystyle \\frac{- 2 i \\sigma^{2} m + t}{4 \\sigma^{2} t}$"
      ],
      "text/plain": [
       "(-2*I*\\sigma**2*m + t)/(4*\\sigma**2*t)"
      ]
     },
     "metadata": {},
     "output_type": "display_data"
    },
    {
     "data": {
      "text/latex": [
       "$\\displaystyle \\frac{- 2 i \\sigma^{2} k t + 2 i \\sigma^{2} m x - t x_{0}}{2 \\sigma^{2} t}$"
      ],
      "text/plain": [
       "(-2*I*\\sigma**2*k*t + 2*I*\\sigma**2*m*x - t*x_0)/(2*\\sigma**2*t)"
      ]
     },
     "metadata": {},
     "output_type": "display_data"
    },
    {
     "data": {
      "text/latex": [
       "$\\displaystyle \\frac{- 2 i \\sigma^{2} m x^{2} + t x_{0}^{2}}{4 \\sigma^{2} t}$"
      ],
      "text/plain": [
       "(-2*I*\\sigma**2*m*x**2 + t*x_0**2)/(4*\\sigma**2*t)"
      ]
     },
     "metadata": {},
     "output_type": "display_data"
    }
   ],
   "source": [
    "display(a)\n",
    "display(b)\n",
    "display(c)"
   ]
  },
  {
   "cell_type": "code",
   "execution_count": 105,
   "id": "e2b31200-3e3a-48de-8152-e35d687e2825",
   "metadata": {},
   "outputs": [
    {
     "data": {
      "text/latex": [
       "$\\displaystyle 1$"
      ],
      "text/plain": [
       "1"
      ]
     },
     "execution_count": 105,
     "metadata": {},
     "output_type": "execute_result"
    }
   ],
   "source": [
    "psi = 1/sp.sqrt(2*sp.pi*sig**2)*m/(2*sp.pi*t)*sp.pi/sp.Abs(a)*sp.exp(2*sp.re((b**2/4/a-c).expand()).factor())\n",
    "sp.integrate(psi,(x,-sp.oo,sp.oo))\n"
   ]
  },
  {
   "cell_type": "code",
   "execution_count": 102,
   "id": "59f968df-7324-491e-aa83-ef9b315d1ba3",
   "metadata": {},
   "outputs": [
    {
     "data": {
      "text/latex": [
       "$\\displaystyle - \\frac{2 \\sigma^{2} \\left(- k t + m x - m x_{0}\\right)^{2}}{4 \\sigma^{4} m^{2} + t^{2}}$"
      ],
      "text/plain": [
       "-2*\\sigma**2*(-k*t + m*x - m*x_0)**2/(4*\\sigma**4*m**2 + t**2)"
      ]
     },
     "execution_count": 102,
     "metadata": {},
     "output_type": "execute_result"
    }
   ],
   "source": []
  },
  {
   "cell_type": "code",
   "execution_count": 81,
   "id": "d0370dbd-df24-4239-a60d-f8799cbbee93",
   "metadata": {},
   "outputs": [
    {
     "data": {
      "text/latex": [
       "$\\displaystyle - \\frac{i k m \\sqrt{- \\frac{i}{t}} \\sin{\\left(\\frac{\\operatorname{atan_{2}}{\\left(- \\frac{1}{t},0 \\right)}}{2} \\right)} \\overline{\\frac{1}{\\sqrt{\\left|{t}\\right|}}}}{2 \\pi} + \\frac{k m \\sqrt{- \\frac{i}{t}} \\cos{\\left(\\frac{\\operatorname{atan_{2}}{\\left(- \\frac{1}{t},0 \\right)}}{2} \\right)} \\overline{\\frac{1}{\\sqrt{\\left|{t}\\right|}}}}{2 \\pi}$"
      ],
      "text/plain": [
       "-I*k*m*sqrt(-I/t)*sin(atan2(-1/t, 0)/2)*conjugate(1/sqrt(Abs(t)))/(2*pi) + k*m*sqrt(-I/t)*cos(atan2(-1/t, 0)/2)*conjugate(1/sqrt(Abs(t)))/(2*pi)"
      ]
     },
     "execution_count": 81,
     "metadata": {},
     "output_type": "execute_result"
    }
   ],
   "source": [
    "psi = 1/sp.sqrt(sp.sqrt((2*sp.pi*sig**2)))*sp.exp(-(x-x0)**2/(4*sig**2))*sp.exp(sp.I*k*x)\n",
    "sp.integrate(psi.conjugate()*-sp.I*psi.diff(x),(x,-sp.oo,sp.oo))"
   ]
  },
  {
   "cell_type": "code",
   "execution_count": 85,
   "id": "bda20c2f-ad56-4e83-8b68-9185fc1c7d11",
   "metadata": {},
   "outputs": [
    {
     "data": {
      "text/latex": [
       "$\\displaystyle \\frac{\\sqrt{2} \\sigma m \\sqrt{- \\frac{i}{t}} e^{- \\frac{i \\operatorname{atan_{2}}{\\left(- \\frac{1}{t},0 \\right)}}{2} - \\frac{t x_{0}^{2} + \\operatorname{re}{\\left(\\frac{\\left(2 i \\sigma^{2} k t - 2 i \\sigma^{2} m x + t x_{0}\\right)^{2}}{2 i \\sigma^{2} m - t}\\right)}}{2 \\sigma^{2} t}} \\left|{- \\frac{\\sqrt{t}}{2 i \\sigma^{2} m - t}}\\right|}{\\sqrt{\\pi}}$"
      ],
      "text/plain": [
       "sqrt(2)*\\sigma*m*sqrt(-I/t)*exp(-I*atan2(-1/t, 0)/2 - (t*x_0**2 + re((2*I*\\sigma**2*k*t - 2*I*\\sigma**2*m*x + t*x_0)**2/(2*I*\\sigma**2*m - t)))/(2*\\sigma**2*t))*Abs(-sqrt(t)/(2*I*\\sigma**2*m - t))/sqrt(pi)"
      ]
     },
     "execution_count": 85,
     "metadata": {},
     "output_type": "execute_result"
    }
   ],
   "source": [
    "psi = 1/sp.sqrt(sp.sqrt((2*sp.pi*sig**2)))*sp.sqrt(sp.pi/a)*sp.sqrt(m/(2*sp.pi*sp.I*t))*sp.exp(b**2/4/a-c)\n",
    "(sp.Abs(psi)**2).simplify()"
   ]
  },
  {
   "cell_type": "code",
   "execution_count": 87,
   "id": "d5e2b4eb-22d0-4134-b111-c1a40911dfa5",
   "metadata": {},
   "outputs": [
    {
     "data": {
      "text/latex": [
       "$\\displaystyle \\frac{\\sqrt{4 \\sigma^{4} m^{2} + t^{2}}}{2 \\sigma^{2} m + t^{2}}$"
      ],
      "text/plain": [
       "sqrt(4*\\sigma**4*m**2 + t**2)/(2*\\sigma**2*m + t**2)"
      ]
     },
     "execution_count": 87,
     "metadata": {},
     "output_type": "execute_result"
    }
   ],
   "source": [
    "rho = 1/sp.sqrt((2*sp.pi*sig**2))*2*m*sig**2/(2*m*sig**2+t**2)*sp.exp(-2*m**2*sig**2*(x-(x0+k*t/m))**2/(4*sig**4*m**2+t**2))\n",
    "sp.integrate(rho,(x,-sp.oo,sp.oo))\n"
   ]
  },
  {
   "cell_type": "code",
   "execution_count": null,
   "id": "085b4d35-7fc2-49b1-82ab-6d289e02a2ac",
   "metadata": {},
   "outputs": [],
   "source": []
  }
 ],
 "metadata": {
  "kernelspec": {
   "display_name": "Python 3 (ipykernel)",
   "language": "python",
   "name": "python3"
  },
  "language_info": {
   "codemirror_mode": {
    "name": "ipython",
    "version": 3
   },
   "file_extension": ".py",
   "mimetype": "text/x-python",
   "name": "python",
   "nbconvert_exporter": "python",
   "pygments_lexer": "ipython3",
   "version": "3.9.18"
  }
 },
 "nbformat": 4,
 "nbformat_minor": 5
}
